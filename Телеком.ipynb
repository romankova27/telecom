{
 "cells": [
  {
   "cell_type": "markdown",
   "id": "10e40e65",
   "metadata": {},
   "source": [
    "# Телекоммуникации"
   ]
  },
  {
   "cell_type": "markdown",
   "id": "84386c05",
   "metadata": {},
   "source": [
    "Оператор связи «ТелеДом» хочет бороться с оттоком клиентов. Для этого его сотрудники начнут предлагать промокоды и специальные условия всем, кто планирует отказаться от услуг связи. Чтобы заранее находить таких пользователей, «ТелеДому» нужна модель, которая будет предсказывать, разорвёт ли абонент договор. Команда оператора собрала персональные данные о некоторых клиентах, информацию об их тарифах и услугах. Ваша задача — обучить на этих данных модель для прогноза оттока клиентов."
   ]
  },
  {
   "cell_type": "markdown",
   "id": "443e7275",
   "metadata": {},
   "source": [
    "# Описание данных"
   ]
  },
  {
   "cell_type": "markdown",
   "id": "66d6fdc6",
   "metadata": {},
   "source": [
    "Данные состоят из нескольких файлов, полученных из разных источников:\n",
    "\n",
    "1. `contract_new.csv` — информация о договоре;\n",
    "2. `personal_new.csv` — персональные данные клиента;\n",
    "3. `internet_new.csv` — информация об интернет-услугах;\n",
    "4. `phone_new.csv` — информация об услугах телефонии."
   ]
  },
  {
   "cell_type": "markdown",
   "id": "dc582413",
   "metadata": {},
   "source": [
    "## Загрузка библиотек"
   ]
  },
  {
   "cell_type": "code",
   "execution_count": 1,
   "id": "6f514921",
   "metadata": {},
   "outputs": [
    {
     "name": "stdout",
     "output_type": "stream",
     "text": [
      "Collecting phik\n",
      "  Downloading phik-0.12.3-cp39-cp39-manylinux_2_17_x86_64.manylinux2014_x86_64.whl (679 kB)\n",
      "\u001b[K     |████████████████████████████████| 679 kB 1.3 MB/s eta 0:00:01\n",
      "\u001b[?25hRequirement already satisfied: matplotlib>=2.2.3 in /opt/conda/lib/python3.9/site-packages (from phik) (3.3.4)\n",
      "Requirement already satisfied: pandas>=0.25.1 in /opt/conda/lib/python3.9/site-packages (from phik) (1.2.4)\n",
      "Requirement already satisfied: joblib>=0.14.1 in /opt/conda/lib/python3.9/site-packages (from phik) (1.1.0)\n",
      "Requirement already satisfied: scipy>=1.5.2 in /opt/conda/lib/python3.9/site-packages (from phik) (1.9.1)\n",
      "Requirement already satisfied: numpy>=1.18.0 in /opt/conda/lib/python3.9/site-packages (from phik) (1.21.1)\n",
      "Requirement already satisfied: pyparsing!=2.0.4,!=2.1.2,!=2.1.6,>=2.0.3 in /opt/conda/lib/python3.9/site-packages (from matplotlib>=2.2.3->phik) (2.4.7)\n",
      "Requirement already satisfied: cycler>=0.10 in /opt/conda/lib/python3.9/site-packages (from matplotlib>=2.2.3->phik) (0.11.0)\n",
      "Requirement already satisfied: pillow>=6.2.0 in /opt/conda/lib/python3.9/site-packages (from matplotlib>=2.2.3->phik) (8.4.0)\n",
      "Requirement already satisfied: kiwisolver>=1.0.1 in /opt/conda/lib/python3.9/site-packages (from matplotlib>=2.2.3->phik) (1.4.4)\n",
      "Requirement already satisfied: python-dateutil>=2.1 in /opt/conda/lib/python3.9/site-packages (from matplotlib>=2.2.3->phik) (2.8.1)\n",
      "Requirement already satisfied: pytz>=2017.3 in /opt/conda/lib/python3.9/site-packages (from pandas>=0.25.1->phik) (2021.1)\n",
      "Requirement already satisfied: six>=1.5 in /opt/conda/lib/python3.9/site-packages (from python-dateutil>=2.1->matplotlib>=2.2.3->phik) (1.16.0)\n",
      "Installing collected packages: phik\n",
      "Successfully installed phik-0.12.3\n"
     ]
    }
   ],
   "source": [
    "!pip install catboost --quiet\n",
    "!pip install phik\n",
    "\n",
    "import numpy as np\n",
    "import pandas as pd\n",
    "import matplotlib.pyplot as plt\n",
    "import torch\n",
    "import os\n",
    "import re\n",
    "import transformers\n",
    "from tqdm import notebook\n",
    "from torch.nn.utils.rnn import pad_sequence\n",
    "\n",
    "\n",
    "from catboost import CatBoostClassifier\n",
    "from sklearn.ensemble import RandomForestClassifier\n",
    "\n",
    "\n",
    "from sklearn.model_selection import train_test_split, GridSearchCV, cross_val_score\n",
    "from sklearn.utils import shuffle\n",
    "from sklearn.metrics import roc_auc_score, roc_curve\n",
    "\n",
    "from sklearn.preprocessing import StandardScaler, OrdinalEncoder\n",
    "\n",
    "\n",
    "from collections import namedtuple\n",
    "import phik\n",
    "import seaborn as sns\n",
    "from phik.report import plot_correlation_matrix\n",
    "\n",
    "\n",
    "from sklearn.compose import(\n",
    "    make_column_transformer, \n",
    "    ColumnTransformer\n",
    ")\n",
    "\n",
    "RANDOM_STATE = 201123\n",
    "TEST_SIZE = 0.25"
   ]
  },
  {
   "cell_type": "markdown",
   "id": "ace6d309",
   "metadata": {},
   "source": [
    "## Загрузка данных"
   ]
  },
  {
   "cell_type": "code",
   "execution_count": 2,
   "id": "35a52bc3",
   "metadata": {},
   "outputs": [],
   "source": [
    "contract = pd.read_csv('/datasets/contract_new.csv', parse_dates=['BeginDate', 'EndDate'])\n",
    "personal = pd.read_csv('/datasets/personal_new.csv')\n",
    "internet = pd.read_csv('/datasets/internet_new.csv')\n",
    "phone = pd.read_csv('/datasets/phone_new.csv')"
   ]
  },
  {
   "cell_type": "markdown",
   "id": "49787b0b",
   "metadata": {},
   "source": [
    "## Объединение и исследование "
   ]
  },
  {
   "cell_type": "code",
   "execution_count": 3,
   "id": "ea86ecc5",
   "metadata": {},
   "outputs": [],
   "source": [
    "data = (contract\n",
    "        .merge(personal, on =['customerID'], how='left')\n",
    "        .merge(internet, on =['customerID'], how='left')\n",
    "        .merge(phone, on =['customerID'], how='left')\n",
    "       )"
   ]
  },
  {
   "cell_type": "code",
   "execution_count": 4,
   "id": "8248fb75",
   "metadata": {},
   "outputs": [
    {
     "data": {
      "text/html": [
       "<div>\n",
       "<style scoped>\n",
       "    .dataframe tbody tr th:only-of-type {\n",
       "        vertical-align: middle;\n",
       "    }\n",
       "\n",
       "    .dataframe tbody tr th {\n",
       "        vertical-align: top;\n",
       "    }\n",
       "\n",
       "    .dataframe thead th {\n",
       "        text-align: right;\n",
       "    }\n",
       "</style>\n",
       "<table border=\"1\" class=\"dataframe\">\n",
       "  <thead>\n",
       "    <tr style=\"text-align: right;\">\n",
       "      <th></th>\n",
       "      <th>customerID</th>\n",
       "      <th>BeginDate</th>\n",
       "      <th>EndDate</th>\n",
       "      <th>Type</th>\n",
       "      <th>PaperlessBilling</th>\n",
       "      <th>PaymentMethod</th>\n",
       "      <th>MonthlyCharges</th>\n",
       "      <th>TotalCharges</th>\n",
       "      <th>gender</th>\n",
       "      <th>SeniorCitizen</th>\n",
       "      <th>Partner</th>\n",
       "      <th>Dependents</th>\n",
       "      <th>InternetService</th>\n",
       "      <th>OnlineSecurity</th>\n",
       "      <th>OnlineBackup</th>\n",
       "      <th>DeviceProtection</th>\n",
       "      <th>TechSupport</th>\n",
       "      <th>StreamingTV</th>\n",
       "      <th>StreamingMovies</th>\n",
       "      <th>MultipleLines</th>\n",
       "    </tr>\n",
       "  </thead>\n",
       "  <tbody>\n",
       "    <tr>\n",
       "      <th>0</th>\n",
       "      <td>7590-VHVEG</td>\n",
       "      <td>2020-01-01</td>\n",
       "      <td>No</td>\n",
       "      <td>Month-to-month</td>\n",
       "      <td>Yes</td>\n",
       "      <td>Electronic check</td>\n",
       "      <td>29.85</td>\n",
       "      <td>31.04</td>\n",
       "      <td>Female</td>\n",
       "      <td>0</td>\n",
       "      <td>Yes</td>\n",
       "      <td>No</td>\n",
       "      <td>DSL</td>\n",
       "      <td>No</td>\n",
       "      <td>Yes</td>\n",
       "      <td>No</td>\n",
       "      <td>No</td>\n",
       "      <td>No</td>\n",
       "      <td>No</td>\n",
       "      <td>NaN</td>\n",
       "    </tr>\n",
       "    <tr>\n",
       "      <th>1</th>\n",
       "      <td>5575-GNVDE</td>\n",
       "      <td>2017-04-01</td>\n",
       "      <td>No</td>\n",
       "      <td>One year</td>\n",
       "      <td>No</td>\n",
       "      <td>Mailed check</td>\n",
       "      <td>56.95</td>\n",
       "      <td>2071.84</td>\n",
       "      <td>Male</td>\n",
       "      <td>0</td>\n",
       "      <td>No</td>\n",
       "      <td>No</td>\n",
       "      <td>DSL</td>\n",
       "      <td>Yes</td>\n",
       "      <td>No</td>\n",
       "      <td>Yes</td>\n",
       "      <td>No</td>\n",
       "      <td>No</td>\n",
       "      <td>No</td>\n",
       "      <td>No</td>\n",
       "    </tr>\n",
       "    <tr>\n",
       "      <th>2</th>\n",
       "      <td>3668-QPYBK</td>\n",
       "      <td>2019-10-01</td>\n",
       "      <td>No</td>\n",
       "      <td>Month-to-month</td>\n",
       "      <td>Yes</td>\n",
       "      <td>Mailed check</td>\n",
       "      <td>53.85</td>\n",
       "      <td>226.17</td>\n",
       "      <td>Male</td>\n",
       "      <td>0</td>\n",
       "      <td>No</td>\n",
       "      <td>No</td>\n",
       "      <td>DSL</td>\n",
       "      <td>Yes</td>\n",
       "      <td>Yes</td>\n",
       "      <td>No</td>\n",
       "      <td>No</td>\n",
       "      <td>No</td>\n",
       "      <td>No</td>\n",
       "      <td>No</td>\n",
       "    </tr>\n",
       "    <tr>\n",
       "      <th>3</th>\n",
       "      <td>7795-CFOCW</td>\n",
       "      <td>2016-05-01</td>\n",
       "      <td>No</td>\n",
       "      <td>One year</td>\n",
       "      <td>No</td>\n",
       "      <td>Bank transfer (automatic)</td>\n",
       "      <td>42.30</td>\n",
       "      <td>1960.6</td>\n",
       "      <td>Male</td>\n",
       "      <td>0</td>\n",
       "      <td>No</td>\n",
       "      <td>No</td>\n",
       "      <td>DSL</td>\n",
       "      <td>Yes</td>\n",
       "      <td>No</td>\n",
       "      <td>Yes</td>\n",
       "      <td>Yes</td>\n",
       "      <td>No</td>\n",
       "      <td>No</td>\n",
       "      <td>NaN</td>\n",
       "    </tr>\n",
       "    <tr>\n",
       "      <th>4</th>\n",
       "      <td>9237-HQITU</td>\n",
       "      <td>2019-09-01</td>\n",
       "      <td>No</td>\n",
       "      <td>Month-to-month</td>\n",
       "      <td>Yes</td>\n",
       "      <td>Electronic check</td>\n",
       "      <td>70.70</td>\n",
       "      <td>353.5</td>\n",
       "      <td>Female</td>\n",
       "      <td>0</td>\n",
       "      <td>No</td>\n",
       "      <td>No</td>\n",
       "      <td>Fiber optic</td>\n",
       "      <td>No</td>\n",
       "      <td>No</td>\n",
       "      <td>No</td>\n",
       "      <td>No</td>\n",
       "      <td>No</td>\n",
       "      <td>No</td>\n",
       "      <td>No</td>\n",
       "    </tr>\n",
       "    <tr>\n",
       "      <th>5</th>\n",
       "      <td>9305-CDSKC</td>\n",
       "      <td>2019-03-01</td>\n",
       "      <td>No</td>\n",
       "      <td>Month-to-month</td>\n",
       "      <td>Yes</td>\n",
       "      <td>Electronic check</td>\n",
       "      <td>99.65</td>\n",
       "      <td>1150.96</td>\n",
       "      <td>Female</td>\n",
       "      <td>0</td>\n",
       "      <td>No</td>\n",
       "      <td>No</td>\n",
       "      <td>Fiber optic</td>\n",
       "      <td>No</td>\n",
       "      <td>No</td>\n",
       "      <td>Yes</td>\n",
       "      <td>No</td>\n",
       "      <td>Yes</td>\n",
       "      <td>Yes</td>\n",
       "      <td>Yes</td>\n",
       "    </tr>\n",
       "    <tr>\n",
       "      <th>6</th>\n",
       "      <td>1452-KIOVK</td>\n",
       "      <td>2018-04-01</td>\n",
       "      <td>No</td>\n",
       "      <td>Month-to-month</td>\n",
       "      <td>Yes</td>\n",
       "      <td>Credit card (automatic)</td>\n",
       "      <td>89.10</td>\n",
       "      <td>2058.21</td>\n",
       "      <td>Male</td>\n",
       "      <td>0</td>\n",
       "      <td>No</td>\n",
       "      <td>Yes</td>\n",
       "      <td>Fiber optic</td>\n",
       "      <td>No</td>\n",
       "      <td>Yes</td>\n",
       "      <td>No</td>\n",
       "      <td>No</td>\n",
       "      <td>Yes</td>\n",
       "      <td>No</td>\n",
       "      <td>Yes</td>\n",
       "    </tr>\n",
       "    <tr>\n",
       "      <th>7</th>\n",
       "      <td>6713-OKOMC</td>\n",
       "      <td>2019-04-01</td>\n",
       "      <td>No</td>\n",
       "      <td>Month-to-month</td>\n",
       "      <td>No</td>\n",
       "      <td>Mailed check</td>\n",
       "      <td>29.75</td>\n",
       "      <td>300.48</td>\n",
       "      <td>Female</td>\n",
       "      <td>0</td>\n",
       "      <td>No</td>\n",
       "      <td>No</td>\n",
       "      <td>DSL</td>\n",
       "      <td>Yes</td>\n",
       "      <td>No</td>\n",
       "      <td>No</td>\n",
       "      <td>No</td>\n",
       "      <td>No</td>\n",
       "      <td>No</td>\n",
       "      <td>NaN</td>\n",
       "    </tr>\n",
       "    <tr>\n",
       "      <th>8</th>\n",
       "      <td>7892-POOKP</td>\n",
       "      <td>2017-07-01</td>\n",
       "      <td>No</td>\n",
       "      <td>Month-to-month</td>\n",
       "      <td>Yes</td>\n",
       "      <td>Electronic check</td>\n",
       "      <td>104.80</td>\n",
       "      <td>3573.68</td>\n",
       "      <td>Female</td>\n",
       "      <td>0</td>\n",
       "      <td>Yes</td>\n",
       "      <td>No</td>\n",
       "      <td>Fiber optic</td>\n",
       "      <td>No</td>\n",
       "      <td>No</td>\n",
       "      <td>Yes</td>\n",
       "      <td>Yes</td>\n",
       "      <td>Yes</td>\n",
       "      <td>Yes</td>\n",
       "      <td>Yes</td>\n",
       "    </tr>\n",
       "    <tr>\n",
       "      <th>9</th>\n",
       "      <td>6388-TABGU</td>\n",
       "      <td>2014-12-01</td>\n",
       "      <td>2017-05-01</td>\n",
       "      <td>One year</td>\n",
       "      <td>No</td>\n",
       "      <td>Bank transfer (automatic)</td>\n",
       "      <td>56.15</td>\n",
       "      <td>1628.35</td>\n",
       "      <td>Male</td>\n",
       "      <td>0</td>\n",
       "      <td>No</td>\n",
       "      <td>Yes</td>\n",
       "      <td>DSL</td>\n",
       "      <td>Yes</td>\n",
       "      <td>Yes</td>\n",
       "      <td>No</td>\n",
       "      <td>No</td>\n",
       "      <td>No</td>\n",
       "      <td>No</td>\n",
       "      <td>No</td>\n",
       "    </tr>\n",
       "  </tbody>\n",
       "</table>\n",
       "</div>"
      ],
      "text/plain": [
       "   customerID  BeginDate     EndDate            Type PaperlessBilling  \\\n",
       "0  7590-VHVEG 2020-01-01          No  Month-to-month              Yes   \n",
       "1  5575-GNVDE 2017-04-01          No        One year               No   \n",
       "2  3668-QPYBK 2019-10-01          No  Month-to-month              Yes   \n",
       "3  7795-CFOCW 2016-05-01          No        One year               No   \n",
       "4  9237-HQITU 2019-09-01          No  Month-to-month              Yes   \n",
       "5  9305-CDSKC 2019-03-01          No  Month-to-month              Yes   \n",
       "6  1452-KIOVK 2018-04-01          No  Month-to-month              Yes   \n",
       "7  6713-OKOMC 2019-04-01          No  Month-to-month               No   \n",
       "8  7892-POOKP 2017-07-01          No  Month-to-month              Yes   \n",
       "9  6388-TABGU 2014-12-01  2017-05-01        One year               No   \n",
       "\n",
       "               PaymentMethod  MonthlyCharges TotalCharges  gender  \\\n",
       "0           Electronic check           29.85        31.04  Female   \n",
       "1               Mailed check           56.95      2071.84    Male   \n",
       "2               Mailed check           53.85       226.17    Male   \n",
       "3  Bank transfer (automatic)           42.30       1960.6    Male   \n",
       "4           Electronic check           70.70        353.5  Female   \n",
       "5           Electronic check           99.65      1150.96  Female   \n",
       "6    Credit card (automatic)           89.10      2058.21    Male   \n",
       "7               Mailed check           29.75       300.48  Female   \n",
       "8           Electronic check          104.80      3573.68  Female   \n",
       "9  Bank transfer (automatic)           56.15      1628.35    Male   \n",
       "\n",
       "   SeniorCitizen Partner Dependents InternetService OnlineSecurity  \\\n",
       "0              0     Yes         No             DSL             No   \n",
       "1              0      No         No             DSL            Yes   \n",
       "2              0      No         No             DSL            Yes   \n",
       "3              0      No         No             DSL            Yes   \n",
       "4              0      No         No     Fiber optic             No   \n",
       "5              0      No         No     Fiber optic             No   \n",
       "6              0      No        Yes     Fiber optic             No   \n",
       "7              0      No         No             DSL            Yes   \n",
       "8              0     Yes         No     Fiber optic             No   \n",
       "9              0      No        Yes             DSL            Yes   \n",
       "\n",
       "  OnlineBackup DeviceProtection TechSupport StreamingTV StreamingMovies  \\\n",
       "0          Yes               No          No          No              No   \n",
       "1           No              Yes          No          No              No   \n",
       "2          Yes               No          No          No              No   \n",
       "3           No              Yes         Yes          No              No   \n",
       "4           No               No          No          No              No   \n",
       "5           No              Yes          No         Yes             Yes   \n",
       "6          Yes               No          No         Yes              No   \n",
       "7           No               No          No          No              No   \n",
       "8           No              Yes         Yes         Yes             Yes   \n",
       "9          Yes               No          No          No              No   \n",
       "\n",
       "  MultipleLines  \n",
       "0           NaN  \n",
       "1            No  \n",
       "2            No  \n",
       "3           NaN  \n",
       "4            No  \n",
       "5           Yes  \n",
       "6           Yes  \n",
       "7           NaN  \n",
       "8           Yes  \n",
       "9            No  "
      ]
     },
     "execution_count": 4,
     "metadata": {},
     "output_type": "execute_result"
    }
   ],
   "source": [
    "data.head(10)"
   ]
  },
  {
   "cell_type": "code",
   "execution_count": 5,
   "id": "c0c796b0",
   "metadata": {},
   "outputs": [
    {
     "name": "stdout",
     "output_type": "stream",
     "text": [
      "<class 'pandas.core.frame.DataFrame'>\n",
      "Int64Index: 7043 entries, 0 to 7042\n",
      "Data columns (total 20 columns):\n",
      " #   Column            Non-Null Count  Dtype         \n",
      "---  ------            --------------  -----         \n",
      " 0   customerID        7043 non-null   object        \n",
      " 1   BeginDate         7043 non-null   datetime64[ns]\n",
      " 2   EndDate           7043 non-null   object        \n",
      " 3   Type              7043 non-null   object        \n",
      " 4   PaperlessBilling  7043 non-null   object        \n",
      " 5   PaymentMethod     7043 non-null   object        \n",
      " 6   MonthlyCharges    7043 non-null   float64       \n",
      " 7   TotalCharges      7043 non-null   object        \n",
      " 8   gender            7043 non-null   object        \n",
      " 9   SeniorCitizen     7043 non-null   int64         \n",
      " 10  Partner           7043 non-null   object        \n",
      " 11  Dependents        7043 non-null   object        \n",
      " 12  InternetService   5517 non-null   object        \n",
      " 13  OnlineSecurity    5517 non-null   object        \n",
      " 14  OnlineBackup      5517 non-null   object        \n",
      " 15  DeviceProtection  5517 non-null   object        \n",
      " 16  TechSupport       5517 non-null   object        \n",
      " 17  StreamingTV       5517 non-null   object        \n",
      " 18  StreamingMovies   5517 non-null   object        \n",
      " 19  MultipleLines     6361 non-null   object        \n",
      "dtypes: datetime64[ns](1), float64(1), int64(1), object(17)\n",
      "memory usage: 1.1+ MB\n"
     ]
    }
   ],
   "source": [
    "data.info()"
   ]
  },
  {
   "cell_type": "markdown",
   "id": "3034de7f",
   "metadata": {},
   "source": [
    "Необходимо заменить тип данных у колонок EndDate и TotalCharges"
   ]
  },
  {
   "cell_type": "code",
   "execution_count": 6,
   "id": "8d2f1cd8",
   "metadata": {},
   "outputs": [
    {
     "data": {
      "text/plain": [
       "           11\n",
       "20.45       6\n",
       "101.0       5\n",
       "1007.5      4\n",
       "19.65       4\n",
       "           ..\n",
       "4045.1      1\n",
       "114.45      1\n",
       "1784.16     1\n",
       "3013.5      1\n",
       "198.33      1\n",
       "Name: TotalCharges, Length: 6658, dtype: int64"
      ]
     },
     "execution_count": 6,
     "metadata": {},
     "output_type": "execute_result"
    }
   ],
   "source": [
    "data['TotalCharges'].value_counts()"
   ]
  },
  {
   "cell_type": "markdown",
   "id": "75a5d816",
   "metadata": {},
   "source": [
    "Видим 11 пропущенных значений, можем предположить, что это новые абоненты, поэтому заменим значения на 0"
   ]
  },
  {
   "cell_type": "code",
   "execution_count": 7,
   "id": "cef88d71",
   "metadata": {},
   "outputs": [],
   "source": [
    "# Обработка признака \"total_charges\"\n",
    "data.loc[data['TotalCharges'] == ' ', 'TotalCharges'] = 0\n",
    "data['TotalCharges'] = data['TotalCharges'].astype('float64')"
   ]
  },
  {
   "cell_type": "code",
   "execution_count": 8,
   "id": "5491e7af",
   "metadata": {},
   "outputs": [
    {
     "data": {
      "text/html": [
       "<div>\n",
       "<style scoped>\n",
       "    .dataframe tbody tr th:only-of-type {\n",
       "        vertical-align: middle;\n",
       "    }\n",
       "\n",
       "    .dataframe tbody tr th {\n",
       "        vertical-align: top;\n",
       "    }\n",
       "\n",
       "    .dataframe thead th {\n",
       "        text-align: right;\n",
       "    }\n",
       "</style>\n",
       "<table border=\"1\" class=\"dataframe\">\n",
       "  <thead>\n",
       "    <tr style=\"text-align: right;\">\n",
       "      <th></th>\n",
       "      <th>MonthlyCharges</th>\n",
       "      <th>TotalCharges</th>\n",
       "      <th>SeniorCitizen</th>\n",
       "    </tr>\n",
       "  </thead>\n",
       "  <tbody>\n",
       "    <tr>\n",
       "      <th>count</th>\n",
       "      <td>7043.000000</td>\n",
       "      <td>7043.000000</td>\n",
       "      <td>7043.000000</td>\n",
       "    </tr>\n",
       "    <tr>\n",
       "      <th>mean</th>\n",
       "      <td>64.761692</td>\n",
       "      <td>2115.312885</td>\n",
       "      <td>0.162147</td>\n",
       "    </tr>\n",
       "    <tr>\n",
       "      <th>std</th>\n",
       "      <td>30.090047</td>\n",
       "      <td>2112.742814</td>\n",
       "      <td>0.368612</td>\n",
       "    </tr>\n",
       "    <tr>\n",
       "      <th>min</th>\n",
       "      <td>18.250000</td>\n",
       "      <td>0.000000</td>\n",
       "      <td>0.000000</td>\n",
       "    </tr>\n",
       "    <tr>\n",
       "      <th>25%</th>\n",
       "      <td>35.500000</td>\n",
       "      <td>436.750000</td>\n",
       "      <td>0.000000</td>\n",
       "    </tr>\n",
       "    <tr>\n",
       "      <th>50%</th>\n",
       "      <td>70.350000</td>\n",
       "      <td>1343.350000</td>\n",
       "      <td>0.000000</td>\n",
       "    </tr>\n",
       "    <tr>\n",
       "      <th>75%</th>\n",
       "      <td>89.850000</td>\n",
       "      <td>3236.690000</td>\n",
       "      <td>0.000000</td>\n",
       "    </tr>\n",
       "    <tr>\n",
       "      <th>max</th>\n",
       "      <td>118.750000</td>\n",
       "      <td>9221.380000</td>\n",
       "      <td>1.000000</td>\n",
       "    </tr>\n",
       "  </tbody>\n",
       "</table>\n",
       "</div>"
      ],
      "text/plain": [
       "       MonthlyCharges  TotalCharges  SeniorCitizen\n",
       "count     7043.000000   7043.000000    7043.000000\n",
       "mean        64.761692   2115.312885       0.162147\n",
       "std         30.090047   2112.742814       0.368612\n",
       "min         18.250000      0.000000       0.000000\n",
       "25%         35.500000    436.750000       0.000000\n",
       "50%         70.350000   1343.350000       0.000000\n",
       "75%         89.850000   3236.690000       0.000000\n",
       "max        118.750000   9221.380000       1.000000"
      ]
     },
     "execution_count": 8,
     "metadata": {},
     "output_type": "execute_result"
    }
   ],
   "source": [
    "data.describe()"
   ]
  },
  {
   "cell_type": "code",
   "execution_count": 9,
   "id": "94d33829",
   "metadata": {},
   "outputs": [
    {
     "data": {
      "text/plain": [
       "0"
      ]
     },
     "execution_count": 9,
     "metadata": {},
     "output_type": "execute_result"
    }
   ],
   "source": [
    "data.duplicated().sum()"
   ]
  },
  {
   "cell_type": "code",
   "execution_count": 10,
   "id": "d4484d9c",
   "metadata": {
    "scrolled": true
   },
   "outputs": [
    {
     "data": {
      "text/plain": [
       "customerID             0\n",
       "BeginDate              0\n",
       "EndDate                0\n",
       "Type                   0\n",
       "PaperlessBilling       0\n",
       "PaymentMethod          0\n",
       "MonthlyCharges         0\n",
       "TotalCharges           0\n",
       "gender                 0\n",
       "SeniorCitizen          0\n",
       "Partner                0\n",
       "Dependents             0\n",
       "InternetService     1526\n",
       "OnlineSecurity      1526\n",
       "OnlineBackup        1526\n",
       "DeviceProtection    1526\n",
       "TechSupport         1526\n",
       "StreamingTV         1526\n",
       "StreamingMovies     1526\n",
       "MultipleLines        682\n",
       "dtype: int64"
      ]
     },
     "execution_count": 10,
     "metadata": {},
     "output_type": "execute_result"
    }
   ],
   "source": [
    "data.isna().sum()"
   ]
  },
  {
   "cell_type": "markdown",
   "id": "63b7840c",
   "metadata": {},
   "source": [
    "Пропущенные значения скорее всего означают, что услуги не подключены, поэтому заменим пропуски на \"No\""
   ]
  },
  {
   "cell_type": "code",
   "execution_count": 11,
   "id": "2fc9d481",
   "metadata": {},
   "outputs": [],
   "source": [
    "data = data.fillna('No')"
   ]
  },
  {
   "cell_type": "code",
   "execution_count": 12,
   "id": "09306b24",
   "metadata": {},
   "outputs": [
    {
     "name": "stdout",
     "output_type": "stream",
     "text": [
      "<class 'pandas.core.frame.DataFrame'>\n",
      "Int64Index: 7043 entries, 0 to 7042\n",
      "Data columns (total 20 columns):\n",
      " #   Column            Non-Null Count  Dtype         \n",
      "---  ------            --------------  -----         \n",
      " 0   customerID        7043 non-null   object        \n",
      " 1   BeginDate         7043 non-null   datetime64[ns]\n",
      " 2   EndDate           7043 non-null   object        \n",
      " 3   Type              7043 non-null   object        \n",
      " 4   PaperlessBilling  7043 non-null   object        \n",
      " 5   PaymentMethod     7043 non-null   object        \n",
      " 6   MonthlyCharges    7043 non-null   float64       \n",
      " 7   TotalCharges      7043 non-null   float64       \n",
      " 8   gender            7043 non-null   object        \n",
      " 9   SeniorCitizen     7043 non-null   int64         \n",
      " 10  Partner           7043 non-null   object        \n",
      " 11  Dependents        7043 non-null   object        \n",
      " 12  InternetService   7043 non-null   object        \n",
      " 13  OnlineSecurity    7043 non-null   object        \n",
      " 14  OnlineBackup      7043 non-null   object        \n",
      " 15  DeviceProtection  7043 non-null   object        \n",
      " 16  TechSupport       7043 non-null   object        \n",
      " 17  StreamingTV       7043 non-null   object        \n",
      " 18  StreamingMovies   7043 non-null   object        \n",
      " 19  MultipleLines     7043 non-null   object        \n",
      "dtypes: datetime64[ns](1), float64(2), int64(1), object(16)\n",
      "memory usage: 1.1+ MB\n"
     ]
    }
   ],
   "source": [
    "data.info()"
   ]
  },
  {
   "cell_type": "code",
   "execution_count": 13,
   "id": "97d591f3",
   "metadata": {},
   "outputs": [],
   "source": [
    "data['Target'] = (contract['EndDate'] != 'No').astype(int)"
   ]
  },
  {
   "cell_type": "markdown",
   "id": "3006f5ae",
   "metadata": {},
   "source": [
    "Приведем названия столбцов к нижнему регистру"
   ]
  },
  {
   "cell_type": "code",
   "execution_count": 14,
   "id": "ee3e0cd2",
   "metadata": {},
   "outputs": [],
   "source": [
    "data.columns = [x.lower() for x in data.columns]"
   ]
  },
  {
   "cell_type": "code",
   "execution_count": 15,
   "id": "2f7b853f",
   "metadata": {},
   "outputs": [
    {
     "data": {
      "text/html": [
       "<div>\n",
       "<style scoped>\n",
       "    .dataframe tbody tr th:only-of-type {\n",
       "        vertical-align: middle;\n",
       "    }\n",
       "\n",
       "    .dataframe tbody tr th {\n",
       "        vertical-align: top;\n",
       "    }\n",
       "\n",
       "    .dataframe thead th {\n",
       "        text-align: right;\n",
       "    }\n",
       "</style>\n",
       "<table border=\"1\" class=\"dataframe\">\n",
       "  <thead>\n",
       "    <tr style=\"text-align: right;\">\n",
       "      <th></th>\n",
       "      <th>customerid</th>\n",
       "      <th>begindate</th>\n",
       "      <th>enddate</th>\n",
       "      <th>type</th>\n",
       "      <th>paperlessbilling</th>\n",
       "      <th>paymentmethod</th>\n",
       "      <th>monthlycharges</th>\n",
       "      <th>totalcharges</th>\n",
       "      <th>gender</th>\n",
       "      <th>seniorcitizen</th>\n",
       "      <th>...</th>\n",
       "      <th>dependents</th>\n",
       "      <th>internetservice</th>\n",
       "      <th>onlinesecurity</th>\n",
       "      <th>onlinebackup</th>\n",
       "      <th>deviceprotection</th>\n",
       "      <th>techsupport</th>\n",
       "      <th>streamingtv</th>\n",
       "      <th>streamingmovies</th>\n",
       "      <th>multiplelines</th>\n",
       "      <th>target</th>\n",
       "    </tr>\n",
       "  </thead>\n",
       "  <tbody>\n",
       "    <tr>\n",
       "      <th>0</th>\n",
       "      <td>7590-VHVEG</td>\n",
       "      <td>2020-01-01</td>\n",
       "      <td>No</td>\n",
       "      <td>Month-to-month</td>\n",
       "      <td>Yes</td>\n",
       "      <td>Electronic check</td>\n",
       "      <td>29.85</td>\n",
       "      <td>31.04</td>\n",
       "      <td>Female</td>\n",
       "      <td>0</td>\n",
       "      <td>...</td>\n",
       "      <td>No</td>\n",
       "      <td>DSL</td>\n",
       "      <td>No</td>\n",
       "      <td>Yes</td>\n",
       "      <td>No</td>\n",
       "      <td>No</td>\n",
       "      <td>No</td>\n",
       "      <td>No</td>\n",
       "      <td>No</td>\n",
       "      <td>0</td>\n",
       "    </tr>\n",
       "    <tr>\n",
       "      <th>1</th>\n",
       "      <td>5575-GNVDE</td>\n",
       "      <td>2017-04-01</td>\n",
       "      <td>No</td>\n",
       "      <td>One year</td>\n",
       "      <td>No</td>\n",
       "      <td>Mailed check</td>\n",
       "      <td>56.95</td>\n",
       "      <td>2071.84</td>\n",
       "      <td>Male</td>\n",
       "      <td>0</td>\n",
       "      <td>...</td>\n",
       "      <td>No</td>\n",
       "      <td>DSL</td>\n",
       "      <td>Yes</td>\n",
       "      <td>No</td>\n",
       "      <td>Yes</td>\n",
       "      <td>No</td>\n",
       "      <td>No</td>\n",
       "      <td>No</td>\n",
       "      <td>No</td>\n",
       "      <td>0</td>\n",
       "    </tr>\n",
       "    <tr>\n",
       "      <th>2</th>\n",
       "      <td>3668-QPYBK</td>\n",
       "      <td>2019-10-01</td>\n",
       "      <td>No</td>\n",
       "      <td>Month-to-month</td>\n",
       "      <td>Yes</td>\n",
       "      <td>Mailed check</td>\n",
       "      <td>53.85</td>\n",
       "      <td>226.17</td>\n",
       "      <td>Male</td>\n",
       "      <td>0</td>\n",
       "      <td>...</td>\n",
       "      <td>No</td>\n",
       "      <td>DSL</td>\n",
       "      <td>Yes</td>\n",
       "      <td>Yes</td>\n",
       "      <td>No</td>\n",
       "      <td>No</td>\n",
       "      <td>No</td>\n",
       "      <td>No</td>\n",
       "      <td>No</td>\n",
       "      <td>0</td>\n",
       "    </tr>\n",
       "    <tr>\n",
       "      <th>3</th>\n",
       "      <td>7795-CFOCW</td>\n",
       "      <td>2016-05-01</td>\n",
       "      <td>No</td>\n",
       "      <td>One year</td>\n",
       "      <td>No</td>\n",
       "      <td>Bank transfer (automatic)</td>\n",
       "      <td>42.30</td>\n",
       "      <td>1960.60</td>\n",
       "      <td>Male</td>\n",
       "      <td>0</td>\n",
       "      <td>...</td>\n",
       "      <td>No</td>\n",
       "      <td>DSL</td>\n",
       "      <td>Yes</td>\n",
       "      <td>No</td>\n",
       "      <td>Yes</td>\n",
       "      <td>Yes</td>\n",
       "      <td>No</td>\n",
       "      <td>No</td>\n",
       "      <td>No</td>\n",
       "      <td>0</td>\n",
       "    </tr>\n",
       "    <tr>\n",
       "      <th>4</th>\n",
       "      <td>9237-HQITU</td>\n",
       "      <td>2019-09-01</td>\n",
       "      <td>No</td>\n",
       "      <td>Month-to-month</td>\n",
       "      <td>Yes</td>\n",
       "      <td>Electronic check</td>\n",
       "      <td>70.70</td>\n",
       "      <td>353.50</td>\n",
       "      <td>Female</td>\n",
       "      <td>0</td>\n",
       "      <td>...</td>\n",
       "      <td>No</td>\n",
       "      <td>Fiber optic</td>\n",
       "      <td>No</td>\n",
       "      <td>No</td>\n",
       "      <td>No</td>\n",
       "      <td>No</td>\n",
       "      <td>No</td>\n",
       "      <td>No</td>\n",
       "      <td>No</td>\n",
       "      <td>0</td>\n",
       "    </tr>\n",
       "  </tbody>\n",
       "</table>\n",
       "<p>5 rows × 21 columns</p>\n",
       "</div>"
      ],
      "text/plain": [
       "   customerid  begindate enddate            type paperlessbilling  \\\n",
       "0  7590-VHVEG 2020-01-01      No  Month-to-month              Yes   \n",
       "1  5575-GNVDE 2017-04-01      No        One year               No   \n",
       "2  3668-QPYBK 2019-10-01      No  Month-to-month              Yes   \n",
       "3  7795-CFOCW 2016-05-01      No        One year               No   \n",
       "4  9237-HQITU 2019-09-01      No  Month-to-month              Yes   \n",
       "\n",
       "               paymentmethod  monthlycharges  totalcharges  gender  \\\n",
       "0           Electronic check           29.85         31.04  Female   \n",
       "1               Mailed check           56.95       2071.84    Male   \n",
       "2               Mailed check           53.85        226.17    Male   \n",
       "3  Bank transfer (automatic)           42.30       1960.60    Male   \n",
       "4           Electronic check           70.70        353.50  Female   \n",
       "\n",
       "   seniorcitizen  ... dependents internetservice onlinesecurity onlinebackup  \\\n",
       "0              0  ...         No             DSL             No          Yes   \n",
       "1              0  ...         No             DSL            Yes           No   \n",
       "2              0  ...         No             DSL            Yes          Yes   \n",
       "3              0  ...         No             DSL            Yes           No   \n",
       "4              0  ...         No     Fiber optic             No           No   \n",
       "\n",
       "  deviceprotection techsupport streamingtv streamingmovies multiplelines  \\\n",
       "0               No          No          No              No            No   \n",
       "1              Yes          No          No              No            No   \n",
       "2               No          No          No              No            No   \n",
       "3              Yes         Yes          No              No            No   \n",
       "4               No          No          No              No            No   \n",
       "\n",
       "  target  \n",
       "0      0  \n",
       "1      0  \n",
       "2      0  \n",
       "3      0  \n",
       "4      0  \n",
       "\n",
       "[5 rows x 21 columns]"
      ]
     },
     "execution_count": 15,
     "metadata": {},
     "output_type": "execute_result"
    }
   ],
   "source": [
    "data.head()"
   ]
  },
  {
   "cell_type": "code",
   "execution_count": 16,
   "id": "163f82a7",
   "metadata": {},
   "outputs": [],
   "source": [
    "data['enddate'] = data.loc[data['enddate'] == 'No', 'enddate'] = '2020-02-01'\n",
    "\n",
    "data['enddate'] = pd.to_datetime(data['enddate'])\n",
    "data['begindate'] = pd.to_datetime(data['begindate'])"
   ]
  },
  {
   "cell_type": "markdown",
   "id": "09d1aecd",
   "metadata": {},
   "source": [
    "Создадим столбец, в котором будет храниться длительность договора"
   ]
  },
  {
   "cell_type": "code",
   "execution_count": 17,
   "id": "a84d5498",
   "metadata": {},
   "outputs": [],
   "source": [
    "data['duration'] = (data['enddate'] - data['begindate']).dt.components.days"
   ]
  },
  {
   "cell_type": "markdown",
   "id": "83b8776f",
   "metadata": {},
   "source": [
    "Чтобы исключить утечку данных, уберём колонки, хранящие даты"
   ]
  },
  {
   "cell_type": "code",
   "execution_count": 20,
   "id": "33545852",
   "metadata": {},
   "outputs": [],
   "source": [
    "data = data.drop(['begindate', 'enddate'], axis=1)"
   ]
  },
  {
   "cell_type": "code",
   "execution_count": 21,
   "id": "2f25690b",
   "metadata": {},
   "outputs": [],
   "source": [
    "for col in ['paperlessbilling', 'partner', 'dependents', 'onlinesecurity', 'onlinebackup', 'deviceprotection', 'techsupport', 'streamingtv', 'streamingmovies', 'multiplelines']:\n",
    "    data[col] = (data[col] == 'Yes').astype('int64')"
   ]
  },
  {
   "cell_type": "code",
   "execution_count": 22,
   "id": "cd26767e",
   "metadata": {},
   "outputs": [],
   "source": [
    "data = data.drop('customerid', axis=1)"
   ]
  },
  {
   "cell_type": "code",
   "execution_count": 23,
   "id": "5658e473",
   "metadata": {},
   "outputs": [
    {
     "data": {
      "text/html": [
       "<div>\n",
       "<style scoped>\n",
       "    .dataframe tbody tr th:only-of-type {\n",
       "        vertical-align: middle;\n",
       "    }\n",
       "\n",
       "    .dataframe tbody tr th {\n",
       "        vertical-align: top;\n",
       "    }\n",
       "\n",
       "    .dataframe thead th {\n",
       "        text-align: right;\n",
       "    }\n",
       "</style>\n",
       "<table border=\"1\" class=\"dataframe\">\n",
       "  <thead>\n",
       "    <tr style=\"text-align: right;\">\n",
       "      <th></th>\n",
       "      <th>type</th>\n",
       "      <th>paperlessbilling</th>\n",
       "      <th>paymentmethod</th>\n",
       "      <th>monthlycharges</th>\n",
       "      <th>totalcharges</th>\n",
       "      <th>gender</th>\n",
       "      <th>seniorcitizen</th>\n",
       "      <th>partner</th>\n",
       "      <th>dependents</th>\n",
       "      <th>internetservice</th>\n",
       "      <th>onlinesecurity</th>\n",
       "      <th>onlinebackup</th>\n",
       "      <th>deviceprotection</th>\n",
       "      <th>techsupport</th>\n",
       "      <th>streamingtv</th>\n",
       "      <th>streamingmovies</th>\n",
       "      <th>multiplelines</th>\n",
       "      <th>target</th>\n",
       "      <th>duration</th>\n",
       "    </tr>\n",
       "  </thead>\n",
       "  <tbody>\n",
       "    <tr>\n",
       "      <th>0</th>\n",
       "      <td>Month-to-month</td>\n",
       "      <td>1</td>\n",
       "      <td>Electronic check</td>\n",
       "      <td>29.85</td>\n",
       "      <td>31.04</td>\n",
       "      <td>Female</td>\n",
       "      <td>0</td>\n",
       "      <td>1</td>\n",
       "      <td>0</td>\n",
       "      <td>DSL</td>\n",
       "      <td>0</td>\n",
       "      <td>1</td>\n",
       "      <td>0</td>\n",
       "      <td>0</td>\n",
       "      <td>0</td>\n",
       "      <td>0</td>\n",
       "      <td>0</td>\n",
       "      <td>0</td>\n",
       "      <td>31</td>\n",
       "    </tr>\n",
       "    <tr>\n",
       "      <th>1</th>\n",
       "      <td>One year</td>\n",
       "      <td>0</td>\n",
       "      <td>Mailed check</td>\n",
       "      <td>56.95</td>\n",
       "      <td>2071.84</td>\n",
       "      <td>Male</td>\n",
       "      <td>0</td>\n",
       "      <td>0</td>\n",
       "      <td>0</td>\n",
       "      <td>DSL</td>\n",
       "      <td>1</td>\n",
       "      <td>0</td>\n",
       "      <td>1</td>\n",
       "      <td>0</td>\n",
       "      <td>0</td>\n",
       "      <td>0</td>\n",
       "      <td>0</td>\n",
       "      <td>0</td>\n",
       "      <td>1036</td>\n",
       "    </tr>\n",
       "    <tr>\n",
       "      <th>2</th>\n",
       "      <td>Month-to-month</td>\n",
       "      <td>1</td>\n",
       "      <td>Mailed check</td>\n",
       "      <td>53.85</td>\n",
       "      <td>226.17</td>\n",
       "      <td>Male</td>\n",
       "      <td>0</td>\n",
       "      <td>0</td>\n",
       "      <td>0</td>\n",
       "      <td>DSL</td>\n",
       "      <td>1</td>\n",
       "      <td>1</td>\n",
       "      <td>0</td>\n",
       "      <td>0</td>\n",
       "      <td>0</td>\n",
       "      <td>0</td>\n",
       "      <td>0</td>\n",
       "      <td>0</td>\n",
       "      <td>123</td>\n",
       "    </tr>\n",
       "    <tr>\n",
       "      <th>3</th>\n",
       "      <td>One year</td>\n",
       "      <td>0</td>\n",
       "      <td>Bank transfer (automatic)</td>\n",
       "      <td>42.30</td>\n",
       "      <td>1960.60</td>\n",
       "      <td>Male</td>\n",
       "      <td>0</td>\n",
       "      <td>0</td>\n",
       "      <td>0</td>\n",
       "      <td>DSL</td>\n",
       "      <td>1</td>\n",
       "      <td>0</td>\n",
       "      <td>1</td>\n",
       "      <td>1</td>\n",
       "      <td>0</td>\n",
       "      <td>0</td>\n",
       "      <td>0</td>\n",
       "      <td>0</td>\n",
       "      <td>1371</td>\n",
       "    </tr>\n",
       "    <tr>\n",
       "      <th>4</th>\n",
       "      <td>Month-to-month</td>\n",
       "      <td>1</td>\n",
       "      <td>Electronic check</td>\n",
       "      <td>70.70</td>\n",
       "      <td>353.50</td>\n",
       "      <td>Female</td>\n",
       "      <td>0</td>\n",
       "      <td>0</td>\n",
       "      <td>0</td>\n",
       "      <td>Fiber optic</td>\n",
       "      <td>0</td>\n",
       "      <td>0</td>\n",
       "      <td>0</td>\n",
       "      <td>0</td>\n",
       "      <td>0</td>\n",
       "      <td>0</td>\n",
       "      <td>0</td>\n",
       "      <td>0</td>\n",
       "      <td>153</td>\n",
       "    </tr>\n",
       "  </tbody>\n",
       "</table>\n",
       "</div>"
      ],
      "text/plain": [
       "             type  paperlessbilling              paymentmethod  \\\n",
       "0  Month-to-month                 1           Electronic check   \n",
       "1        One year                 0               Mailed check   \n",
       "2  Month-to-month                 1               Mailed check   \n",
       "3        One year                 0  Bank transfer (automatic)   \n",
       "4  Month-to-month                 1           Electronic check   \n",
       "\n",
       "   monthlycharges  totalcharges  gender  seniorcitizen  partner  dependents  \\\n",
       "0           29.85         31.04  Female              0        1           0   \n",
       "1           56.95       2071.84    Male              0        0           0   \n",
       "2           53.85        226.17    Male              0        0           0   \n",
       "3           42.30       1960.60    Male              0        0           0   \n",
       "4           70.70        353.50  Female              0        0           0   \n",
       "\n",
       "  internetservice  onlinesecurity  onlinebackup  deviceprotection  \\\n",
       "0             DSL               0             1                 0   \n",
       "1             DSL               1             0                 1   \n",
       "2             DSL               1             1                 0   \n",
       "3             DSL               1             0                 1   \n",
       "4     Fiber optic               0             0                 0   \n",
       "\n",
       "   techsupport  streamingtv  streamingmovies  multiplelines  target  duration  \n",
       "0            0            0                0              0       0        31  \n",
       "1            0            0                0              0       0      1036  \n",
       "2            0            0                0              0       0       123  \n",
       "3            1            0                0              0       0      1371  \n",
       "4            0            0                0              0       0       153  "
      ]
     },
     "execution_count": 23,
     "metadata": {},
     "output_type": "execute_result"
    }
   ],
   "source": [
    "data.head()"
   ]
  },
  {
   "cell_type": "code",
   "execution_count": 24,
   "id": "eead8cda",
   "metadata": {},
   "outputs": [
    {
     "data": {
      "text/plain": [
       "Index(['type', 'paperlessbilling', 'paymentmethod', 'monthlycharges',\n",
       "       'totalcharges', 'gender', 'seniorcitizen', 'partner', 'dependents',\n",
       "       'internetservice', 'onlinesecurity', 'onlinebackup', 'deviceprotection',\n",
       "       'techsupport', 'streamingtv', 'streamingmovies', 'multiplelines',\n",
       "       'target', 'duration'],\n",
       "      dtype='object')"
      ]
     },
     "execution_count": 24,
     "metadata": {},
     "output_type": "execute_result"
    }
   ],
   "source": [
    "data.columns"
   ]
  },
  {
   "cell_type": "code",
   "execution_count": 25,
   "id": "14b1f3aa",
   "metadata": {},
   "outputs": [
    {
     "name": "stdout",
     "output_type": "stream",
     "text": [
      "Распределение значений признака \"type\":\n"
     ]
    },
    {
     "data": {
      "text/html": [
       "<div>\n",
       "<style scoped>\n",
       "    .dataframe tbody tr th:only-of-type {\n",
       "        vertical-align: middle;\n",
       "    }\n",
       "\n",
       "    .dataframe tbody tr th {\n",
       "        vertical-align: top;\n",
       "    }\n",
       "\n",
       "    .dataframe thead th {\n",
       "        text-align: right;\n",
       "    }\n",
       "</style>\n",
       "<table border=\"1\" class=\"dataframe\">\n",
       "  <thead>\n",
       "    <tr style=\"text-align: right;\">\n",
       "      <th></th>\n",
       "      <th>count</th>\n",
       "      <th>unique</th>\n",
       "      <th>top</th>\n",
       "      <th>freq</th>\n",
       "    </tr>\n",
       "  </thead>\n",
       "  <tbody>\n",
       "    <tr>\n",
       "      <th>Класс 0</th>\n",
       "      <td>5942</td>\n",
       "      <td>3</td>\n",
       "      <td>Month-to-month</td>\n",
       "      <td>3468</td>\n",
       "    </tr>\n",
       "    <tr>\n",
       "      <th>Класс 1</th>\n",
       "      <td>1101</td>\n",
       "      <td>3</td>\n",
       "      <td>Month-to-month</td>\n",
       "      <td>407</td>\n",
       "    </tr>\n",
       "  </tbody>\n",
       "</table>\n",
       "</div>"
      ],
      "text/plain": [
       "         count  unique             top  freq\n",
       "Класс 0   5942       3  Month-to-month  3468\n",
       "Класс 1   1101       3  Month-to-month   407"
      ]
     },
     "metadata": {},
     "output_type": "display_data"
    },
    {
     "data": {
      "image/png": "[encoded data removed]",
      "text/plain": [
       "<Figure size 432x288 with 1 Axes>"
      ]
     },
     "metadata": {
      "needs_background": "light"
     },
     "output_type": "display_data"
    },
    {
     "name": "stdout",
     "output_type": "stream",
     "text": [
      "Распределение значений признака \"paperlessbilling\":\n"
     ]
    },
    {
     "data": {
      "text/html": [
       "<div>\n",
       "<style scoped>\n",
       "    .dataframe tbody tr th:only-of-type {\n",
       "        vertical-align: middle;\n",
       "    }\n",
       "\n",
       "    .dataframe tbody tr th {\n",
       "        vertical-align: top;\n",
       "    }\n",
       "\n",
       "    .dataframe thead th {\n",
       "        text-align: right;\n",
       "    }\n",
       "</style>\n",
       "<table border=\"1\" class=\"dataframe\">\n",
       "  <thead>\n",
       "    <tr style=\"text-align: right;\">\n",
       "      <th></th>\n",
       "      <th>count</th>\n",
       "      <th>mean</th>\n",
       "      <th>std</th>\n",
       "      <th>min</th>\n",
       "      <th>25%</th>\n",
       "      <th>50%</th>\n",
       "      <th>75%</th>\n",
       "      <th>max</th>\n",
       "    </tr>\n",
       "  </thead>\n",
       "  <tbody>\n",
       "    <tr>\n",
       "      <th>Класс 0</th>\n",
       "      <td>5942.0</td>\n",
       "      <td>0.580613</td>\n",
       "      <td>0.49350</td>\n",
       "      <td>0.0</td>\n",
       "      <td>0.0</td>\n",
       "      <td>1.0</td>\n",
       "      <td>1.0</td>\n",
       "      <td>1.0</td>\n",
       "    </tr>\n",
       "    <tr>\n",
       "      <th>Класс 1</th>\n",
       "      <td>1101.0</td>\n",
       "      <td>0.654859</td>\n",
       "      <td>0.47563</td>\n",
       "      <td>0.0</td>\n",
       "      <td>0.0</td>\n",
       "      <td>1.0</td>\n",
       "      <td>1.0</td>\n",
       "      <td>1.0</td>\n",
       "    </tr>\n",
       "  </tbody>\n",
       "</table>\n",
       "</div>"
      ],
      "text/plain": [
       "          count      mean      std  min  25%  50%  75%  max\n",
       "Класс 0  5942.0  0.580613  0.49350  0.0  0.0  1.0  1.0  1.0\n",
       "Класс 1  1101.0  0.654859  0.47563  0.0  0.0  1.0  1.0  1.0"
      ]
     },
     "metadata": {},
     "output_type": "display_data"
    },
    {
     "data": {
      "image/png": "[encoded data removed]",
      "text/plain": [
       "<Figure size 432x288 with 1 Axes>"
      ]
     },
     "metadata": {
      "needs_background": "light"
     },
     "output_type": "display_data"
    },
    {
     "name": "stdout",
     "output_type": "stream",
     "text": [
      "Распределение значений признака \"paymentmethod\":\n"
     ]
    },
    {
     "data": {
      "text/html": [
       "<div>\n",
       "<style scoped>\n",
       "    .dataframe tbody tr th:only-of-type {\n",
       "        vertical-align: middle;\n",
       "    }\n",
       "\n",
       "    .dataframe tbody tr th {\n",
       "        vertical-align: top;\n",
       "    }\n",
       "\n",
       "    .dataframe thead th {\n",
       "        text-align: right;\n",
       "    }\n",
       "</style>\n",
       "<table border=\"1\" class=\"dataframe\">\n",
       "  <thead>\n",
       "    <tr style=\"text-align: right;\">\n",
       "      <th></th>\n",
       "      <th>count</th>\n",
       "      <th>unique</th>\n",
       "      <th>top</th>\n",
       "      <th>freq</th>\n",
       "    </tr>\n",
       "  </thead>\n",
       "  <tbody>\n",
       "    <tr>\n",
       "      <th>Класс 0</th>\n",
       "      <td>5942</td>\n",
       "      <td>4</td>\n",
       "      <td>Electronic check</td>\n",
       "      <td>2015</td>\n",
       "    </tr>\n",
       "    <tr>\n",
       "      <th>Класс 1</th>\n",
       "      <td>1101</td>\n",
       "      <td>4</td>\n",
       "      <td>Electronic check</td>\n",
       "      <td>350</td>\n",
       "    </tr>\n",
       "  </tbody>\n",
       "</table>\n",
       "</div>"
      ],
      "text/plain": [
       "         count  unique               top  freq\n",
       "Класс 0   5942       4  Electronic check  2015\n",
       "Класс 1   1101       4  Electronic check   350"
      ]
     },
     "metadata": {},
     "output_type": "display_data"
    },
    {
     "data": {
      "image/png": "[encoded data removed]",
      "text/plain": [
       "<Figure size 432x288 with 1 Axes>"
      ]
     },
     "metadata": {
      "needs_background": "light"
     },
     "output_type": "display_data"
    },
    {
     "name": "stdout",
     "output_type": "stream",
     "text": [
      "Распределение значений признака \"monthlycharges\":\n"
     ]
    },
    {
     "data": {
      "text/html": [
       "<div>\n",
       "<style scoped>\n",
       "    .dataframe tbody tr th:only-of-type {\n",
       "        vertical-align: middle;\n",
       "    }\n",
       "\n",
       "    .dataframe tbody tr th {\n",
       "        vertical-align: top;\n",
       "    }\n",
       "\n",
       "    .dataframe thead th {\n",
       "        text-align: right;\n",
       "    }\n",
       "</style>\n",
       "<table border=\"1\" class=\"dataframe\">\n",
       "  <thead>\n",
       "    <tr style=\"text-align: right;\">\n",
       "      <th></th>\n",
       "      <th>count</th>\n",
       "      <th>mean</th>\n",
       "      <th>std</th>\n",
       "      <th>min</th>\n",
       "      <th>25%</th>\n",
       "      <th>50%</th>\n",
       "      <th>75%</th>\n",
       "      <th>max</th>\n",
       "    </tr>\n",
       "  </thead>\n",
       "  <tbody>\n",
       "    <tr>\n",
       "      <th>Класс 0</th>\n",
       "      <td>5942.0</td>\n",
       "      <td>62.763455</td>\n",
       "      <td>29.844462</td>\n",
       "      <td>18.25</td>\n",
       "      <td>30.0625</td>\n",
       "      <td>69.2</td>\n",
       "      <td>87.2375</td>\n",
       "      <td>118.60</td>\n",
       "    </tr>\n",
       "    <tr>\n",
       "      <th>Класс 1</th>\n",
       "      <td>1101.0</td>\n",
       "      <td>75.546004</td>\n",
       "      <td>29.116213</td>\n",
       "      <td>18.40</td>\n",
       "      <td>56.1500</td>\n",
       "      <td>84.2</td>\n",
       "      <td>99.5000</td>\n",
       "      <td>118.75</td>\n",
       "    </tr>\n",
       "  </tbody>\n",
       "</table>\n",
       "</div>"
      ],
      "text/plain": [
       "          count       mean        std    min      25%   50%      75%     max\n",
       "Класс 0  5942.0  62.763455  29.844462  18.25  30.0625  69.2  87.2375  118.60\n",
       "Класс 1  1101.0  75.546004  29.116213  18.40  56.1500  84.2  99.5000  118.75"
      ]
     },
     "metadata": {},
     "output_type": "display_data"
    },
    {
     "data": {
      "image/png": "[encoded data removed]",
      "text/plain": [
       "<Figure size 432x288 with 1 Axes>"
      ]
     },
     "metadata": {
      "needs_background": "light"
     },
     "output_type": "display_data"
    },
    {
     "name": "stdout",
     "output_type": "stream",
     "text": [
      "Распределение значений признака \"totalcharges\":\n"
     ]
    },
    {
     "data": {
      "text/html": [
       "<div>\n",
       "<style scoped>\n",
       "    .dataframe tbody tr th:only-of-type {\n",
       "        vertical-align: middle;\n",
       "    }\n",
       "\n",
       "    .dataframe tbody tr th {\n",
       "        vertical-align: top;\n",
       "    }\n",
       "\n",
       "    .dataframe thead th {\n",
       "        text-align: right;\n",
       "    }\n",
       "</style>\n",
       "<table border=\"1\" class=\"dataframe\">\n",
       "  <thead>\n",
       "    <tr style=\"text-align: right;\">\n",
       "      <th></th>\n",
       "      <th>count</th>\n",
       "      <th>mean</th>\n",
       "      <th>std</th>\n",
       "      <th>min</th>\n",
       "      <th>25%</th>\n",
       "      <th>50%</th>\n",
       "      <th>75%</th>\n",
       "      <th>max</th>\n",
       "    </tr>\n",
       "  </thead>\n",
       "  <tbody>\n",
       "    <tr>\n",
       "      <th>Класс 0</th>\n",
       "      <td>5942.0</td>\n",
       "      <td>2067.866420</td>\n",
       "      <td>2193.898483</td>\n",
       "      <td>0.00</td>\n",
       "      <td>374.3525</td>\n",
       "      <td>1192.80</td>\n",
       "      <td>3173.8375</td>\n",
       "      <td>9221.38</td>\n",
       "    </tr>\n",
       "    <tr>\n",
       "      <th>Класс 1</th>\n",
       "      <td>1101.0</td>\n",
       "      <td>2371.377275</td>\n",
       "      <td>1581.862275</td>\n",
       "      <td>77.84</td>\n",
       "      <td>1048.0500</td>\n",
       "      <td>2139.03</td>\n",
       "      <td>3404.9100</td>\n",
       "      <td>7649.76</td>\n",
       "    </tr>\n",
       "  </tbody>\n",
       "</table>\n",
       "</div>"
      ],
      "text/plain": [
       "          count         mean          std    min        25%      50%  \\\n",
       "Класс 0  5942.0  2067.866420  2193.898483   0.00   374.3525  1192.80   \n",
       "Класс 1  1101.0  2371.377275  1581.862275  77.84  1048.0500  2139.03   \n",
       "\n",
       "               75%      max  \n",
       "Класс 0  3173.8375  9221.38  \n",
       "Класс 1  3404.9100  7649.76  "
      ]
     },
     "metadata": {},
     "output_type": "display_data"
    },
    {
     "data": {
      "image/png": "[encoded data removed]",
      "text/plain": [
       "<Figure size 432x288 with 1 Axes>"
      ]
     },
     "metadata": {
      "needs_background": "light"
     },
     "output_type": "display_data"
    },
    {
     "name": "stdout",
     "output_type": "stream",
     "text": [
      "Распределение значений признака \"gender\":\n"
     ]
    },
    {
     "data": {
      "text/html": [
       "<div>\n",
       "<style scoped>\n",
       "    .dataframe tbody tr th:only-of-type {\n",
       "        vertical-align: middle;\n",
       "    }\n",
       "\n",
       "    .dataframe tbody tr th {\n",
       "        vertical-align: top;\n",
       "    }\n",
       "\n",
       "    .dataframe thead th {\n",
       "        text-align: right;\n",
       "    }\n",
       "</style>\n",
       "<table border=\"1\" class=\"dataframe\">\n",
       "  <thead>\n",
       "    <tr style=\"text-align: right;\">\n",
       "      <th></th>\n",
       "      <th>count</th>\n",
       "      <th>unique</th>\n",
       "      <th>top</th>\n",
       "      <th>freq</th>\n",
       "    </tr>\n",
       "  </thead>\n",
       "  <tbody>\n",
       "    <tr>\n",
       "      <th>Класс 0</th>\n",
       "      <td>5942</td>\n",
       "      <td>2</td>\n",
       "      <td>Male</td>\n",
       "      <td>2982</td>\n",
       "    </tr>\n",
       "    <tr>\n",
       "      <th>Класс 1</th>\n",
       "      <td>1101</td>\n",
       "      <td>2</td>\n",
       "      <td>Male</td>\n",
       "      <td>573</td>\n",
       "    </tr>\n",
       "  </tbody>\n",
       "</table>\n",
       "</div>"
      ],
      "text/plain": [
       "         count  unique   top  freq\n",
       "Класс 0   5942       2  Male  2982\n",
       "Класс 1   1101       2  Male   573"
      ]
     },
     "metadata": {},
     "output_type": "display_data"
    },
    {
     "data": {
      "image/png": "[encoded data removed]",
      "text/plain": [
       "<Figure size 432x288 with 1 Axes>"
      ]
     },
     "metadata": {
      "needs_background": "light"
     },
     "output_type": "display_data"
    },
    {
     "name": "stdout",
     "output_type": "stream",
     "text": [
      "Распределение значений признака \"seniorcitizen\":\n"
     ]
    },
    {
     "data": {
      "text/html": [
       "<div>\n",
       "<style scoped>\n",
       "    .dataframe tbody tr th:only-of-type {\n",
       "        vertical-align: middle;\n",
       "    }\n",
       "\n",
       "    .dataframe tbody tr th {\n",
       "        vertical-align: top;\n",
       "    }\n",
       "\n",
       "    .dataframe thead th {\n",
       "        text-align: right;\n",
       "    }\n",
       "</style>\n",
       "<table border=\"1\" class=\"dataframe\">\n",
       "  <thead>\n",
       "    <tr style=\"text-align: right;\">\n",
       "      <th></th>\n",
       "      <th>count</th>\n",
       "      <th>mean</th>\n",
       "      <th>std</th>\n",
       "      <th>min</th>\n",
       "      <th>25%</th>\n",
       "      <th>50%</th>\n",
       "      <th>75%</th>\n",
       "      <th>max</th>\n",
       "    </tr>\n",
       "  </thead>\n",
       "  <tbody>\n",
       "    <tr>\n",
       "      <th>Класс 0</th>\n",
       "      <td>5942.0</td>\n",
       "      <td>0.153147</td>\n",
       "      <td>0.360160</td>\n",
       "      <td>0.0</td>\n",
       "      <td>0.0</td>\n",
       "      <td>0.0</td>\n",
       "      <td>0.0</td>\n",
       "      <td>1.0</td>\n",
       "    </tr>\n",
       "    <tr>\n",
       "      <th>Класс 1</th>\n",
       "      <td>1101.0</td>\n",
       "      <td>0.210718</td>\n",
       "      <td>0.408003</td>\n",
       "      <td>0.0</td>\n",
       "      <td>0.0</td>\n",
       "      <td>0.0</td>\n",
       "      <td>0.0</td>\n",
       "      <td>1.0</td>\n",
       "    </tr>\n",
       "  </tbody>\n",
       "</table>\n",
       "</div>"
      ],
      "text/plain": [
       "          count      mean       std  min  25%  50%  75%  max\n",
       "Класс 0  5942.0  0.153147  0.360160  0.0  0.0  0.0  0.0  1.0\n",
       "Класс 1  1101.0  0.210718  0.408003  0.0  0.0  0.0  0.0  1.0"
      ]
     },
     "metadata": {},
     "output_type": "display_data"
    },
    {
     "data": {
      "image/png": "[encoded data removed]",
      "text/plain": [
       "<Figure size 432x288 with 1 Axes>"
      ]
     },
     "metadata": {
      "needs_background": "light"
     },
     "output_type": "display_data"
    },
    {
     "name": "stdout",
     "output_type": "stream",
     "text": [
      "Распределение значений признака \"partner\":\n"
     ]
    },
    {
     "data": {
      "text/html": [
       "<div>\n",
       "<style scoped>\n",
       "    .dataframe tbody tr th:only-of-type {\n",
       "        vertical-align: middle;\n",
       "    }\n",
       "\n",
       "    .dataframe tbody tr th {\n",
       "        vertical-align: top;\n",
       "    }\n",
       "\n",
       "    .dataframe thead th {\n",
       "        text-align: right;\n",
       "    }\n",
       "</style>\n",
       "<table border=\"1\" class=\"dataframe\">\n",
       "  <thead>\n",
       "    <tr style=\"text-align: right;\">\n",
       "      <th></th>\n",
       "      <th>count</th>\n",
       "      <th>mean</th>\n",
       "      <th>std</th>\n",
       "      <th>min</th>\n",
       "      <th>25%</th>\n",
       "      <th>50%</th>\n",
       "      <th>75%</th>\n",
       "      <th>max</th>\n",
       "    </tr>\n",
       "  </thead>\n",
       "  <tbody>\n",
       "    <tr>\n",
       "      <th>Класс 0</th>\n",
       "      <td>5942.0</td>\n",
       "      <td>0.451531</td>\n",
       "      <td>0.497687</td>\n",
       "      <td>0.0</td>\n",
       "      <td>0.0</td>\n",
       "      <td>0.0</td>\n",
       "      <td>1.0</td>\n",
       "      <td>1.0</td>\n",
       "    </tr>\n",
       "    <tr>\n",
       "      <th>Класс 1</th>\n",
       "      <td>1101.0</td>\n",
       "      <td>0.653043</td>\n",
       "      <td>0.476218</td>\n",
       "      <td>0.0</td>\n",
       "      <td>0.0</td>\n",
       "      <td>1.0</td>\n",
       "      <td>1.0</td>\n",
       "      <td>1.0</td>\n",
       "    </tr>\n",
       "  </tbody>\n",
       "</table>\n",
       "</div>"
      ],
      "text/plain": [
       "          count      mean       std  min  25%  50%  75%  max\n",
       "Класс 0  5942.0  0.451531  0.497687  0.0  0.0  0.0  1.0  1.0\n",
       "Класс 1  1101.0  0.653043  0.476218  0.0  0.0  1.0  1.0  1.0"
      ]
     },
     "metadata": {},
     "output_type": "display_data"
    },
    {
     "data": {
      "image/png": "[encoded data removed]",
      "text/plain": [
       "<Figure size 432x288 with 1 Axes>"
      ]
     },
     "metadata": {
      "needs_background": "light"
     },
     "output_type": "display_data"
    },
    {
     "name": "stdout",
     "output_type": "stream",
     "text": [
      "Распределение значений признака \"dependents\":\n"
     ]
    },
    {
     "data": {
      "text/html": [
       "<div>\n",
       "<style scoped>\n",
       "    .dataframe tbody tr th:only-of-type {\n",
       "        vertical-align: middle;\n",
       "    }\n",
       "\n",
       "    .dataframe tbody tr th {\n",
       "        vertical-align: top;\n",
       "    }\n",
       "\n",
       "    .dataframe thead th {\n",
       "        text-align: right;\n",
       "    }\n",
       "</style>\n",
       "<table border=\"1\" class=\"dataframe\">\n",
       "  <thead>\n",
       "    <tr style=\"text-align: right;\">\n",
       "      <th></th>\n",
       "      <th>count</th>\n",
       "      <th>mean</th>\n",
       "      <th>std</th>\n",
       "      <th>min</th>\n",
       "      <th>25%</th>\n",
       "      <th>50%</th>\n",
       "      <th>75%</th>\n",
       "      <th>max</th>\n",
       "    </tr>\n",
       "  </thead>\n",
       "  <tbody>\n",
       "    <tr>\n",
       "      <th>Класс 0</th>\n",
       "      <td>5942.0</td>\n",
       "      <td>0.293167</td>\n",
       "      <td>0.455253</td>\n",
       "      <td>0.0</td>\n",
       "      <td>0.0</td>\n",
       "      <td>0.0</td>\n",
       "      <td>1.0</td>\n",
       "      <td>1.0</td>\n",
       "    </tr>\n",
       "    <tr>\n",
       "      <th>Класс 1</th>\n",
       "      <td>1101.0</td>\n",
       "      <td>0.334242</td>\n",
       "      <td>0.471939</td>\n",
       "      <td>0.0</td>\n",
       "      <td>0.0</td>\n",
       "      <td>0.0</td>\n",
       "      <td>1.0</td>\n",
       "      <td>1.0</td>\n",
       "    </tr>\n",
       "  </tbody>\n",
       "</table>\n",
       "</div>"
      ],
      "text/plain": [
       "          count      mean       std  min  25%  50%  75%  max\n",
       "Класс 0  5942.0  0.293167  0.455253  0.0  0.0  0.0  1.0  1.0\n",
       "Класс 1  1101.0  0.334242  0.471939  0.0  0.0  0.0  1.0  1.0"
      ]
     },
     "metadata": {},
     "output_type": "display_data"
    },
    {
     "data": {
      "image/png": "[encoded data removed]",
      "text/plain": [
       "<Figure size 432x288 with 1 Axes>"
      ]
     },
     "metadata": {
      "needs_background": "light"
     },
     "output_type": "display_data"
    },
    {
     "name": "stdout",
     "output_type": "stream",
     "text": [
      "Распределение значений признака \"internetservice\":\n"
     ]
    },
    {
     "data": {
      "text/html": [
       "<div>\n",
       "<style scoped>\n",
       "    .dataframe tbody tr th:only-of-type {\n",
       "        vertical-align: middle;\n",
       "    }\n",
       "\n",
       "    .dataframe tbody tr th {\n",
       "        vertical-align: top;\n",
       "    }\n",
       "\n",
       "    .dataframe thead th {\n",
       "        text-align: right;\n",
       "    }\n",
       "</style>\n",
       "<table border=\"1\" class=\"dataframe\">\n",
       "  <thead>\n",
       "    <tr style=\"text-align: right;\">\n",
       "      <th></th>\n",
       "      <th>count</th>\n",
       "      <th>unique</th>\n",
       "      <th>top</th>\n",
       "      <th>freq</th>\n",
       "    </tr>\n",
       "  </thead>\n",
       "  <tbody>\n",
       "    <tr>\n",
       "      <th>Класс 0</th>\n",
       "      <td>5942</td>\n",
       "      <td>3</td>\n",
       "      <td>Fiber optic</td>\n",
       "      <td>2501</td>\n",
       "    </tr>\n",
       "    <tr>\n",
       "      <th>Класс 1</th>\n",
       "      <td>1101</td>\n",
       "      <td>3</td>\n",
       "      <td>Fiber optic</td>\n",
       "      <td>595</td>\n",
       "    </tr>\n",
       "  </tbody>\n",
       "</table>\n",
       "</div>"
      ],
      "text/plain": [
       "         count  unique          top  freq\n",
       "Класс 0   5942       3  Fiber optic  2501\n",
       "Класс 1   1101       3  Fiber optic   595"
      ]
     },
     "metadata": {},
     "output_type": "display_data"
    },
    {
     "data": {
      "image/png": "[encoded data removed]",
      "text/plain": [
       "<Figure size 432x288 with 1 Axes>"
      ]
     },
     "metadata": {
      "needs_background": "light"
     },
     "output_type": "display_data"
    },
    {
     "name": "stdout",
     "output_type": "stream",
     "text": [
      "Распределение значений признака \"onlinesecurity\":\n"
     ]
    },
    {
     "data": {
      "text/html": [
       "<div>\n",
       "<style scoped>\n",
       "    .dataframe tbody tr th:only-of-type {\n",
       "        vertical-align: middle;\n",
       "    }\n",
       "\n",
       "    .dataframe tbody tr th {\n",
       "        vertical-align: top;\n",
       "    }\n",
       "\n",
       "    .dataframe thead th {\n",
       "        text-align: right;\n",
       "    }\n",
       "</style>\n",
       "<table border=\"1\" class=\"dataframe\">\n",
       "  <thead>\n",
       "    <tr style=\"text-align: right;\">\n",
       "      <th></th>\n",
       "      <th>count</th>\n",
       "      <th>mean</th>\n",
       "      <th>std</th>\n",
       "      <th>min</th>\n",
       "      <th>25%</th>\n",
       "      <th>50%</th>\n",
       "      <th>75%</th>\n",
       "      <th>max</th>\n",
       "    </tr>\n",
       "  </thead>\n",
       "  <tbody>\n",
       "    <tr>\n",
       "      <th>Класс 0</th>\n",
       "      <td>5942.0</td>\n",
       "      <td>0.269943</td>\n",
       "      <td>0.443967</td>\n",
       "      <td>0.0</td>\n",
       "      <td>0.0</td>\n",
       "      <td>0.0</td>\n",
       "      <td>1.0</td>\n",
       "      <td>1.0</td>\n",
       "    </tr>\n",
       "    <tr>\n",
       "      <th>Класс 1</th>\n",
       "      <td>1101.0</td>\n",
       "      <td>0.376930</td>\n",
       "      <td>0.484837</td>\n",
       "      <td>0.0</td>\n",
       "      <td>0.0</td>\n",
       "      <td>0.0</td>\n",
       "      <td>1.0</td>\n",
       "      <td>1.0</td>\n",
       "    </tr>\n",
       "  </tbody>\n",
       "</table>\n",
       "</div>"
      ],
      "text/plain": [
       "          count      mean       std  min  25%  50%  75%  max\n",
       "Класс 0  5942.0  0.269943  0.443967  0.0  0.0  0.0  1.0  1.0\n",
       "Класс 1  1101.0  0.376930  0.484837  0.0  0.0  0.0  1.0  1.0"
      ]
     },
     "metadata": {},
     "output_type": "display_data"
    },
    {
     "data": {
      "image/png": "[encoded data removed]",
      "text/plain": [
       "<Figure size 432x288 with 1 Axes>"
      ]
     },
     "metadata": {
      "needs_background": "light"
     },
     "output_type": "display_data"
    },
    {
     "name": "stdout",
     "output_type": "stream",
     "text": [
      "Распределение значений признака \"onlinebackup\":\n"
     ]
    },
    {
     "data": {
      "text/html": [
       "<div>\n",
       "<style scoped>\n",
       "    .dataframe tbody tr th:only-of-type {\n",
       "        vertical-align: middle;\n",
       "    }\n",
       "\n",
       "    .dataframe tbody tr th {\n",
       "        vertical-align: top;\n",
       "    }\n",
       "\n",
       "    .dataframe thead th {\n",
       "        text-align: right;\n",
       "    }\n",
       "</style>\n",
       "<table border=\"1\" class=\"dataframe\">\n",
       "  <thead>\n",
       "    <tr style=\"text-align: right;\">\n",
       "      <th></th>\n",
       "      <th>count</th>\n",
       "      <th>mean</th>\n",
       "      <th>std</th>\n",
       "      <th>min</th>\n",
       "      <th>25%</th>\n",
       "      <th>50%</th>\n",
       "      <th>75%</th>\n",
       "      <th>max</th>\n",
       "    </tr>\n",
       "  </thead>\n",
       "  <tbody>\n",
       "    <tr>\n",
       "      <th>Класс 0</th>\n",
       "      <td>5942.0</td>\n",
       "      <td>0.314541</td>\n",
       "      <td>0.464372</td>\n",
       "      <td>0.0</td>\n",
       "      <td>0.0</td>\n",
       "      <td>0.0</td>\n",
       "      <td>1.0</td>\n",
       "      <td>1.0</td>\n",
       "    </tr>\n",
       "    <tr>\n",
       "      <th>Класс 1</th>\n",
       "      <td>1101.0</td>\n",
       "      <td>0.508629</td>\n",
       "      <td>0.500153</td>\n",
       "      <td>0.0</td>\n",
       "      <td>0.0</td>\n",
       "      <td>1.0</td>\n",
       "      <td>1.0</td>\n",
       "      <td>1.0</td>\n",
       "    </tr>\n",
       "  </tbody>\n",
       "</table>\n",
       "</div>"
      ],
      "text/plain": [
       "          count      mean       std  min  25%  50%  75%  max\n",
       "Класс 0  5942.0  0.314541  0.464372  0.0  0.0  0.0  1.0  1.0\n",
       "Класс 1  1101.0  0.508629  0.500153  0.0  0.0  1.0  1.0  1.0"
      ]
     },
     "metadata": {},
     "output_type": "display_data"
    },
    {
     "data": {
      "image/png": "[encoded data removed]",
      "text/plain": [
       "<Figure size 432x288 with 1 Axes>"
      ]
     },
     "metadata": {
      "needs_background": "light"
     },
     "output_type": "display_data"
    },
    {
     "name": "stdout",
     "output_type": "stream",
     "text": [
      "Распределение значений признака \"deviceprotection\":\n"
     ]
    },
    {
     "data": {
      "text/html": [
       "<div>\n",
       "<style scoped>\n",
       "    .dataframe tbody tr th:only-of-type {\n",
       "        vertical-align: middle;\n",
       "    }\n",
       "\n",
       "    .dataframe tbody tr th {\n",
       "        vertical-align: top;\n",
       "    }\n",
       "\n",
       "    .dataframe thead th {\n",
       "        text-align: right;\n",
       "    }\n",
       "</style>\n",
       "<table border=\"1\" class=\"dataframe\">\n",
       "  <thead>\n",
       "    <tr style=\"text-align: right;\">\n",
       "      <th></th>\n",
       "      <th>count</th>\n",
       "      <th>mean</th>\n",
       "      <th>std</th>\n",
       "      <th>min</th>\n",
       "      <th>25%</th>\n",
       "      <th>50%</th>\n",
       "      <th>75%</th>\n",
       "      <th>max</th>\n",
       "    </tr>\n",
       "  </thead>\n",
       "  <tbody>\n",
       "    <tr>\n",
       "      <th>Класс 0</th>\n",
       "      <td>5942.0</td>\n",
       "      <td>0.315045</td>\n",
       "      <td>0.464573</td>\n",
       "      <td>0.0</td>\n",
       "      <td>0.0</td>\n",
       "      <td>0.0</td>\n",
       "      <td>1.0</td>\n",
       "      <td>1.0</td>\n",
       "    </tr>\n",
       "    <tr>\n",
       "      <th>Класс 1</th>\n",
       "      <td>1101.0</td>\n",
       "      <td>0.499546</td>\n",
       "      <td>0.500227</td>\n",
       "      <td>0.0</td>\n",
       "      <td>0.0</td>\n",
       "      <td>0.0</td>\n",
       "      <td>1.0</td>\n",
       "      <td>1.0</td>\n",
       "    </tr>\n",
       "  </tbody>\n",
       "</table>\n",
       "</div>"
      ],
      "text/plain": [
       "          count      mean       std  min  25%  50%  75%  max\n",
       "Класс 0  5942.0  0.315045  0.464573  0.0  0.0  0.0  1.0  1.0\n",
       "Класс 1  1101.0  0.499546  0.500227  0.0  0.0  0.0  1.0  1.0"
      ]
     },
     "metadata": {},
     "output_type": "display_data"
    },
    {
     "data": {
      "image/png": "[encoded data removed]",
      "text/plain": [
       "<Figure size 432x288 with 1 Axes>"
      ]
     },
     "metadata": {
      "needs_background": "light"
     },
     "output_type": "display_data"
    },
    {
     "name": "stdout",
     "output_type": "stream",
     "text": [
      "Распределение значений признака \"techsupport\":\n"
     ]
    },
    {
     "data": {
      "text/html": [
       "<div>\n",
       "<style scoped>\n",
       "    .dataframe tbody tr th:only-of-type {\n",
       "        vertical-align: middle;\n",
       "    }\n",
       "\n",
       "    .dataframe tbody tr th {\n",
       "        vertical-align: top;\n",
       "    }\n",
       "\n",
       "    .dataframe thead th {\n",
       "        text-align: right;\n",
       "    }\n",
       "</style>\n",
       "<table border=\"1\" class=\"dataframe\">\n",
       "  <thead>\n",
       "    <tr style=\"text-align: right;\">\n",
       "      <th></th>\n",
       "      <th>count</th>\n",
       "      <th>mean</th>\n",
       "      <th>std</th>\n",
       "      <th>min</th>\n",
       "      <th>25%</th>\n",
       "      <th>50%</th>\n",
       "      <th>75%</th>\n",
       "      <th>max</th>\n",
       "    </tr>\n",
       "  </thead>\n",
       "  <tbody>\n",
       "    <tr>\n",
       "      <th>Класс 0</th>\n",
       "      <td>5942.0</td>\n",
       "      <td>0.277011</td>\n",
       "      <td>0.44756</td>\n",
       "      <td>0.0</td>\n",
       "      <td>0.0</td>\n",
       "      <td>0.0</td>\n",
       "      <td>1.0</td>\n",
       "      <td>1.0</td>\n",
       "    </tr>\n",
       "    <tr>\n",
       "      <th>Класс 1</th>\n",
       "      <td>1101.0</td>\n",
       "      <td>0.361490</td>\n",
       "      <td>0.48065</td>\n",
       "      <td>0.0</td>\n",
       "      <td>0.0</td>\n",
       "      <td>0.0</td>\n",
       "      <td>1.0</td>\n",
       "      <td>1.0</td>\n",
       "    </tr>\n",
       "  </tbody>\n",
       "</table>\n",
       "</div>"
      ],
      "text/plain": [
       "          count      mean      std  min  25%  50%  75%  max\n",
       "Класс 0  5942.0  0.277011  0.44756  0.0  0.0  0.0  1.0  1.0\n",
       "Класс 1  1101.0  0.361490  0.48065  0.0  0.0  0.0  1.0  1.0"
      ]
     },
     "metadata": {},
     "output_type": "display_data"
    },
    {
     "data": {
      "image/png": "[encoded data removed]",
      "text/plain": [
       "<Figure size 432x288 with 1 Axes>"
      ]
     },
     "metadata": {
      "needs_background": "light"
     },
     "output_type": "display_data"
    },
    {
     "name": "stdout",
     "output_type": "stream",
     "text": [
      "Распределение значений признака \"streamingtv\":\n"
     ]
    },
    {
     "data": {
      "text/html": [
       "<div>\n",
       "<style scoped>\n",
       "    .dataframe tbody tr th:only-of-type {\n",
       "        vertical-align: middle;\n",
       "    }\n",
       "\n",
       "    .dataframe tbody tr th {\n",
       "        vertical-align: top;\n",
       "    }\n",
       "\n",
       "    .dataframe thead th {\n",
       "        text-align: right;\n",
       "    }\n",
       "</style>\n",
       "<table border=\"1\" class=\"dataframe\">\n",
       "  <thead>\n",
       "    <tr style=\"text-align: right;\">\n",
       "      <th></th>\n",
       "      <th>count</th>\n",
       "      <th>mean</th>\n",
       "      <th>std</th>\n",
       "      <th>min</th>\n",
       "      <th>25%</th>\n",
       "      <th>50%</th>\n",
       "      <th>75%</th>\n",
       "      <th>max</th>\n",
       "    </tr>\n",
       "  </thead>\n",
       "  <tbody>\n",
       "    <tr>\n",
       "      <th>Класс 0</th>\n",
       "      <td>5942.0</td>\n",
       "      <td>0.357287</td>\n",
       "      <td>0.479241</td>\n",
       "      <td>0.0</td>\n",
       "      <td>0.0</td>\n",
       "      <td>0.0</td>\n",
       "      <td>1.0</td>\n",
       "      <td>1.0</td>\n",
       "    </tr>\n",
       "    <tr>\n",
       "      <th>Класс 1</th>\n",
       "      <td>1101.0</td>\n",
       "      <td>0.530427</td>\n",
       "      <td>0.499300</td>\n",
       "      <td>0.0</td>\n",
       "      <td>0.0</td>\n",
       "      <td>1.0</td>\n",
       "      <td>1.0</td>\n",
       "      <td>1.0</td>\n",
       "    </tr>\n",
       "  </tbody>\n",
       "</table>\n",
       "</div>"
      ],
      "text/plain": [
       "          count      mean       std  min  25%  50%  75%  max\n",
       "Класс 0  5942.0  0.357287  0.479241  0.0  0.0  0.0  1.0  1.0\n",
       "Класс 1  1101.0  0.530427  0.499300  0.0  0.0  1.0  1.0  1.0"
      ]
     },
     "metadata": {},
     "output_type": "display_data"
    },
    {
     "data": {
      "image/png": "[encoded data removed]",
      "text/plain": [
       "<Figure size 432x288 with 1 Axes>"
      ]
     },
     "metadata": {
      "needs_background": "light"
     },
     "output_type": "display_data"
    },
    {
     "name": "stdout",
     "output_type": "stream",
     "text": [
      "Распределение значений признака \"streamingmovies\":\n"
     ]
    },
    {
     "data": {
      "text/html": [
       "<div>\n",
       "<style scoped>\n",
       "    .dataframe tbody tr th:only-of-type {\n",
       "        vertical-align: middle;\n",
       "    }\n",
       "\n",
       "    .dataframe tbody tr th {\n",
       "        vertical-align: top;\n",
       "    }\n",
       "\n",
       "    .dataframe thead th {\n",
       "        text-align: right;\n",
       "    }\n",
       "</style>\n",
       "<table border=\"1\" class=\"dataframe\">\n",
       "  <thead>\n",
       "    <tr style=\"text-align: right;\">\n",
       "      <th></th>\n",
       "      <th>count</th>\n",
       "      <th>mean</th>\n",
       "      <th>std</th>\n",
       "      <th>min</th>\n",
       "      <th>25%</th>\n",
       "      <th>50%</th>\n",
       "      <th>75%</th>\n",
       "      <th>max</th>\n",
       "    </tr>\n",
       "  </thead>\n",
       "  <tbody>\n",
       "    <tr>\n",
       "      <th>Класс 0</th>\n",
       "      <td>5942.0</td>\n",
       "      <td>0.357792</td>\n",
       "      <td>0.479391</td>\n",
       "      <td>0.0</td>\n",
       "      <td>0.0</td>\n",
       "      <td>0.0</td>\n",
       "      <td>1.0</td>\n",
       "      <td>1.0</td>\n",
       "    </tr>\n",
       "    <tr>\n",
       "      <th>Класс 1</th>\n",
       "      <td>1101.0</td>\n",
       "      <td>0.550409</td>\n",
       "      <td>0.497679</td>\n",
       "      <td>0.0</td>\n",
       "      <td>0.0</td>\n",
       "      <td>1.0</td>\n",
       "      <td>1.0</td>\n",
       "      <td>1.0</td>\n",
       "    </tr>\n",
       "  </tbody>\n",
       "</table>\n",
       "</div>"
      ],
      "text/plain": [
       "          count      mean       std  min  25%  50%  75%  max\n",
       "Класс 0  5942.0  0.357792  0.479391  0.0  0.0  0.0  1.0  1.0\n",
       "Класс 1  1101.0  0.550409  0.497679  0.0  0.0  1.0  1.0  1.0"
      ]
     },
     "metadata": {},
     "output_type": "display_data"
    },
    {
     "data": {
      "image/png": "[encoded data removed]",
      "text/plain": [
       "<Figure size 432x288 with 1 Axes>"
      ]
     },
     "metadata": {
      "needs_background": "light"
     },
     "output_type": "display_data"
    },
    {
     "name": "stdout",
     "output_type": "stream",
     "text": [
      "Распределение значений признака \"multiplelines\":\n"
     ]
    },
    {
     "data": {
      "text/html": [
       "<div>\n",
       "<style scoped>\n",
       "    .dataframe tbody tr th:only-of-type {\n",
       "        vertical-align: middle;\n",
       "    }\n",
       "\n",
       "    .dataframe tbody tr th {\n",
       "        vertical-align: top;\n",
       "    }\n",
       "\n",
       "    .dataframe thead th {\n",
       "        text-align: right;\n",
       "    }\n",
       "</style>\n",
       "<table border=\"1\" class=\"dataframe\">\n",
       "  <thead>\n",
       "    <tr style=\"text-align: right;\">\n",
       "      <th></th>\n",
       "      <th>count</th>\n",
       "      <th>mean</th>\n",
       "      <th>std</th>\n",
       "      <th>min</th>\n",
       "      <th>25%</th>\n",
       "      <th>50%</th>\n",
       "      <th>75%</th>\n",
       "      <th>max</th>\n",
       "    </tr>\n",
       "  </thead>\n",
       "  <tbody>\n",
       "    <tr>\n",
       "      <th>Класс 0</th>\n",
       "      <td>5942.0</td>\n",
       "      <td>0.385897</td>\n",
       "      <td>0.486847</td>\n",
       "      <td>0.0</td>\n",
       "      <td>0.0</td>\n",
       "      <td>0.0</td>\n",
       "      <td>1.0</td>\n",
       "      <td>1.0</td>\n",
       "    </tr>\n",
       "    <tr>\n",
       "      <th>Класс 1</th>\n",
       "      <td>1101.0</td>\n",
       "      <td>0.615804</td>\n",
       "      <td>0.486626</td>\n",
       "      <td>0.0</td>\n",
       "      <td>0.0</td>\n",
       "      <td>1.0</td>\n",
       "      <td>1.0</td>\n",
       "      <td>1.0</td>\n",
       "    </tr>\n",
       "  </tbody>\n",
       "</table>\n",
       "</div>"
      ],
      "text/plain": [
       "          count      mean       std  min  25%  50%  75%  max\n",
       "Класс 0  5942.0  0.385897  0.486847  0.0  0.0  0.0  1.0  1.0\n",
       "Класс 1  1101.0  0.615804  0.486626  0.0  0.0  1.0  1.0  1.0"
      ]
     },
     "metadata": {},
     "output_type": "display_data"
    },
    {
     "data": {
      "image/png": "[encoded data removed]",
      "text/plain": [
       "<Figure size 432x288 with 1 Axes>"
      ]
     },
     "metadata": {
      "needs_background": "light"
     },
     "output_type": "display_data"
    },
    {
     "name": "stdout",
     "output_type": "stream",
     "text": [
      "Распределение значений признака \"target\":\n"
     ]
    },
    {
     "data": {
      "text/html": [
       "<div>\n",
       "<style scoped>\n",
       "    .dataframe tbody tr th:only-of-type {\n",
       "        vertical-align: middle;\n",
       "    }\n",
       "\n",
       "    .dataframe tbody tr th {\n",
       "        vertical-align: top;\n",
       "    }\n",
       "\n",
       "    .dataframe thead th {\n",
       "        text-align: right;\n",
       "    }\n",
       "</style>\n",
       "<table border=\"1\" class=\"dataframe\">\n",
       "  <thead>\n",
       "    <tr style=\"text-align: right;\">\n",
       "      <th></th>\n",
       "      <th>count</th>\n",
       "      <th>mean</th>\n",
       "      <th>std</th>\n",
       "      <th>min</th>\n",
       "      <th>25%</th>\n",
       "      <th>50%</th>\n",
       "      <th>75%</th>\n",
       "      <th>max</th>\n",
       "    </tr>\n",
       "  </thead>\n",
       "  <tbody>\n",
       "    <tr>\n",
       "      <th>Класс 0</th>\n",
       "      <td>5942.0</td>\n",
       "      <td>0.0</td>\n",
       "      <td>0.0</td>\n",
       "      <td>0.0</td>\n",
       "      <td>0.0</td>\n",
       "      <td>0.0</td>\n",
       "      <td>0.0</td>\n",
       "      <td>0.0</td>\n",
       "    </tr>\n",
       "    <tr>\n",
       "      <th>Класс 1</th>\n",
       "      <td>1101.0</td>\n",
       "      <td>1.0</td>\n",
       "      <td>0.0</td>\n",
       "      <td>1.0</td>\n",
       "      <td>1.0</td>\n",
       "      <td>1.0</td>\n",
       "      <td>1.0</td>\n",
       "      <td>1.0</td>\n",
       "    </tr>\n",
       "  </tbody>\n",
       "</table>\n",
       "</div>"
      ],
      "text/plain": [
       "          count  mean  std  min  25%  50%  75%  max\n",
       "Класс 0  5942.0   0.0  0.0  0.0  0.0  0.0  0.0  0.0\n",
       "Класс 1  1101.0   1.0  0.0  1.0  1.0  1.0  1.0  1.0"
      ]
     },
     "metadata": {},
     "output_type": "display_data"
    },
    {
     "data": {
      "image/png": "[encoded data removed]",
      "text/plain": [
       "<Figure size 432x288 with 1 Axes>"
      ]
     },
     "metadata": {
      "needs_background": "light"
     },
     "output_type": "display_data"
    },
    {
     "name": "stdout",
     "output_type": "stream",
     "text": [
      "Распределение значений признака \"duration\":\n"
     ]
    },
    {
     "data": {
      "text/html": [
       "<div>\n",
       "<style scoped>\n",
       "    .dataframe tbody tr th:only-of-type {\n",
       "        vertical-align: middle;\n",
       "    }\n",
       "\n",
       "    .dataframe tbody tr th {\n",
       "        vertical-align: top;\n",
       "    }\n",
       "\n",
       "    .dataframe thead th {\n",
       "        text-align: right;\n",
       "    }\n",
       "</style>\n",
       "<table border=\"1\" class=\"dataframe\">\n",
       "  <thead>\n",
       "    <tr style=\"text-align: right;\">\n",
       "      <th></th>\n",
       "      <th>count</th>\n",
       "      <th>mean</th>\n",
       "      <th>std</th>\n",
       "      <th>min</th>\n",
       "      <th>25%</th>\n",
       "      <th>50%</th>\n",
       "      <th>75%</th>\n",
       "      <th>max</th>\n",
       "    </tr>\n",
       "  </thead>\n",
       "  <tbody>\n",
       "    <tr>\n",
       "      <th>Класс 0</th>\n",
       "      <td>5942.0</td>\n",
       "      <td>893.681084</td>\n",
       "      <td>716.958551</td>\n",
       "      <td>0.0</td>\n",
       "      <td>245.0</td>\n",
       "      <td>702.0</td>\n",
       "      <td>1523.0</td>\n",
       "      <td>2314.0</td>\n",
       "    </tr>\n",
       "    <tr>\n",
       "      <th>Класс 1</th>\n",
       "      <td>1101.0</td>\n",
       "      <td>1615.099001</td>\n",
       "      <td>507.691522</td>\n",
       "      <td>123.0</td>\n",
       "      <td>1279.0</td>\n",
       "      <td>1737.0</td>\n",
       "      <td>2071.0</td>\n",
       "      <td>2253.0</td>\n",
       "    </tr>\n",
       "  </tbody>\n",
       "</table>\n",
       "</div>"
      ],
      "text/plain": [
       "          count         mean         std    min     25%     50%     75%  \\\n",
       "Класс 0  5942.0   893.681084  716.958551    0.0   245.0   702.0  1523.0   \n",
       "Класс 1  1101.0  1615.099001  507.691522  123.0  1279.0  1737.0  2071.0   \n",
       "\n",
       "            max  \n",
       "Класс 0  2314.0  \n",
       "Класс 1  2253.0  "
      ]
     },
     "metadata": {},
     "output_type": "display_data"
    },
    {
     "data": {
      "image/png": "[encoded data removed]",
      "text/plain": [
       "<Figure size 432x288 with 1 Axes>"
      ]
     },
     "metadata": {
      "needs_background": "light"
     },
     "output_type": "display_data"
    }
   ],
   "source": [
    "for i in data.columns:\n",
    "    print(f'Распределение значений признака \"{i}\":')\n",
    "                \n",
    "    t0 = data.loc[data['target'] == 0, i] \n",
    "    t1 = data.loc[data['target'] == 1, i] \n",
    "                \n",
    "    t0 = t0.rename('Класс 0') \n",
    "    t1 = t1.rename('Класс 1') \n",
    "                \n",
    "    display(pd.DataFrame([t0.describe(), t1.describe()])) \n",
    "                \n",
    "    t0.hist(legend=True, alpha=.8)\n",
    "    t1.hist(legend=True, alpha=.8) \n",
    "    plt.title(f'Распределение значений признака \"{i}\"')\n",
    "    plt.xlabel(f'Значения признака \"{i}\"')\n",
    "    plt.ylabel('Количество значений')\n",
    "    plt.show() \n"
   ]
  },
  {
   "cell_type": "markdown",
   "id": "1236b1fd",
   "metadata": {},
   "source": [
    "При анализе графиков выявлено, что самый популярный способ оплаты - помесячный и с электронным чеком.\n",
    "В призанке MonthlyCharges виден пик в районе 20, но при этом большинство пользователей, которые ушли - обладали большими расходами за месяц. Значения в столбце TotalCharges убывают. У признака duration пик приходится на новых пользователей, но видим, что большинство ушедших пользователей пользовались услугами долго.\n",
    "В признаке gender значения разделились примерно поровну. Большинство пользователей не являются пенсионерами. У большиства абонентов нет детей и жены/мужа.\n",
    "Дополнительные услуги OnlineSecurity, OnlineBackup, DeviceProtection, TechSupport, StreamingTV, StreamingMovies, MultipleLines не пользуются популярностью у пользователей"
   ]
  },
  {
   "cell_type": "code",
   "execution_count": 26,
   "id": "cc08ee7a",
   "metadata": {},
   "outputs": [
    {
     "name": "stdout",
     "output_type": "stream",
     "text": [
      "interval columns not set, guessing: ['paperlessbilling', 'monthlycharges', 'totalcharges', 'seniorcitizen', 'partner', 'dependents', 'onlinesecurity', 'onlinebackup', 'deviceprotection', 'techsupport', 'streamingtv', 'streamingmovies', 'multiplelines', 'target', 'duration']\n"
     ]
    },
    {
     "data": {
      "text/html": [
       "<div>\n",
       "<style scoped>\n",
       "    .dataframe tbody tr th:only-of-type {\n",
       "        vertical-align: middle;\n",
       "    }\n",
       "\n",
       "    .dataframe tbody tr th {\n",
       "        vertical-align: top;\n",
       "    }\n",
       "\n",
       "    .dataframe thead th {\n",
       "        text-align: right;\n",
       "    }\n",
       "</style>\n",
       "<table border=\"1\" class=\"dataframe\">\n",
       "  <thead>\n",
       "    <tr style=\"text-align: right;\">\n",
       "      <th></th>\n",
       "      <th>type</th>\n",
       "      <th>paperlessbilling</th>\n",
       "      <th>paymentmethod</th>\n",
       "      <th>monthlycharges</th>\n",
       "      <th>totalcharges</th>\n",
       "      <th>gender</th>\n",
       "      <th>seniorcitizen</th>\n",
       "      <th>partner</th>\n",
       "      <th>dependents</th>\n",
       "      <th>internetservice</th>\n",
       "      <th>onlinesecurity</th>\n",
       "      <th>onlinebackup</th>\n",
       "      <th>deviceprotection</th>\n",
       "      <th>techsupport</th>\n",
       "      <th>streamingtv</th>\n",
       "      <th>streamingmovies</th>\n",
       "      <th>multiplelines</th>\n",
       "      <th>target</th>\n",
       "      <th>duration</th>\n",
       "    </tr>\n",
       "  </thead>\n",
       "  <tbody>\n",
       "    <tr>\n",
       "      <th>type</th>\n",
       "      <td>1.000000</td>\n",
       "      <td>0.106860</td>\n",
       "      <td>0.277462</td>\n",
       "      <td>0.388444</td>\n",
       "      <td>0.470860</td>\n",
       "      <td>0.000000</td>\n",
       "      <td>0.086231</td>\n",
       "      <td>0.179736</td>\n",
       "      <td>0.147680</td>\n",
       "      <td>0.505187</td>\n",
       "      <td>0.152145</td>\n",
       "      <td>0.098884</td>\n",
       "      <td>0.137610</td>\n",
       "      <td>0.179999</td>\n",
       "      <td>0.066961</td>\n",
       "      <td>0.069608</td>\n",
       "      <td>0.065498</td>\n",
       "      <td>0.094015</td>\n",
       "      <td>0.665092</td>\n",
       "    </tr>\n",
       "    <tr>\n",
       "      <th>paperlessbilling</th>\n",
       "      <td>0.106860</td>\n",
       "      <td>1.000000</td>\n",
       "      <td>0.370495</td>\n",
       "      <td>0.467812</td>\n",
       "      <td>0.201703</td>\n",
       "      <td>0.000000</td>\n",
       "      <td>0.242133</td>\n",
       "      <td>0.013218</td>\n",
       "      <td>0.172593</td>\n",
       "      <td>0.231438</td>\n",
       "      <td>0.000000</td>\n",
       "      <td>0.196443</td>\n",
       "      <td>0.160796</td>\n",
       "      <td>0.055929</td>\n",
       "      <td>0.343524</td>\n",
       "      <td>0.325551</td>\n",
       "      <td>0.252972</td>\n",
       "      <td>0.083398</td>\n",
       "      <td>0.045393</td>\n",
       "    </tr>\n",
       "    <tr>\n",
       "      <th>paymentmethod</th>\n",
       "      <td>0.277462</td>\n",
       "      <td>0.370495</td>\n",
       "      <td>1.000000</td>\n",
       "      <td>0.399526</td>\n",
       "      <td>0.335666</td>\n",
       "      <td>0.000000</td>\n",
       "      <td>0.292725</td>\n",
       "      <td>0.243008</td>\n",
       "      <td>0.224903</td>\n",
       "      <td>0.323886</td>\n",
       "      <td>0.262911</td>\n",
       "      <td>0.282475</td>\n",
       "      <td>0.306866</td>\n",
       "      <td>0.272101</td>\n",
       "      <td>0.377209</td>\n",
       "      <td>0.378907</td>\n",
       "      <td>0.339313</td>\n",
       "      <td>0.214832</td>\n",
       "      <td>0.375379</td>\n",
       "    </tr>\n",
       "    <tr>\n",
       "      <th>monthlycharges</th>\n",
       "      <td>0.388444</td>\n",
       "      <td>0.467812</td>\n",
       "      <td>0.399526</td>\n",
       "      <td>1.000000</td>\n",
       "      <td>0.710905</td>\n",
       "      <td>0.008175</td>\n",
       "      <td>0.304985</td>\n",
       "      <td>0.203545</td>\n",
       "      <td>0.184366</td>\n",
       "      <td>0.919002</td>\n",
       "      <td>0.551621</td>\n",
       "      <td>0.629541</td>\n",
       "      <td>0.667481</td>\n",
       "      <td>0.576525</td>\n",
       "      <td>0.835340</td>\n",
       "      <td>0.833307</td>\n",
       "      <td>0.675883</td>\n",
       "      <td>0.226280</td>\n",
       "      <td>0.426086</td>\n",
       "    </tr>\n",
       "    <tr>\n",
       "      <th>totalcharges</th>\n",
       "      <td>0.470860</td>\n",
       "      <td>0.201703</td>\n",
       "      <td>0.335666</td>\n",
       "      <td>0.710905</td>\n",
       "      <td>1.000000</td>\n",
       "      <td>0.000000</td>\n",
       "      <td>0.135650</td>\n",
       "      <td>0.381958</td>\n",
       "      <td>0.084247</td>\n",
       "      <td>0.490081</td>\n",
       "      <td>0.522090</td>\n",
       "      <td>0.622445</td>\n",
       "      <td>0.640977</td>\n",
       "      <td>0.550065</td>\n",
       "      <td>0.641488</td>\n",
       "      <td>0.643210</td>\n",
       "      <td>0.573191</td>\n",
       "      <td>0.302890</td>\n",
       "      <td>0.799578</td>\n",
       "    </tr>\n",
       "    <tr>\n",
       "      <th>gender</th>\n",
       "      <td>0.000000</td>\n",
       "      <td>0.000000</td>\n",
       "      <td>0.000000</td>\n",
       "      <td>0.008175</td>\n",
       "      <td>0.000000</td>\n",
       "      <td>1.000000</td>\n",
       "      <td>0.000000</td>\n",
       "      <td>0.000000</td>\n",
       "      <td>0.000000</td>\n",
       "      <td>0.000000</td>\n",
       "      <td>0.018397</td>\n",
       "      <td>0.009882</td>\n",
       "      <td>0.000000</td>\n",
       "      <td>0.000000</td>\n",
       "      <td>0.000000</td>\n",
       "      <td>0.000000</td>\n",
       "      <td>0.000000</td>\n",
       "      <td>0.008581</td>\n",
       "      <td>0.000000</td>\n",
       "    </tr>\n",
       "    <tr>\n",
       "      <th>seniorcitizen</th>\n",
       "      <td>0.086231</td>\n",
       "      <td>0.242133</td>\n",
       "      <td>0.292725</td>\n",
       "      <td>0.304985</td>\n",
       "      <td>0.135650</td>\n",
       "      <td>0.000000</td>\n",
       "      <td>1.000000</td>\n",
       "      <td>0.016992</td>\n",
       "      <td>0.324576</td>\n",
       "      <td>0.160702</td>\n",
       "      <td>0.057028</td>\n",
       "      <td>0.102065</td>\n",
       "      <td>0.090686</td>\n",
       "      <td>0.092565</td>\n",
       "      <td>0.163120</td>\n",
       "      <td>0.186141</td>\n",
       "      <td>0.221313</td>\n",
       "      <td>0.086159</td>\n",
       "      <td>0.025186</td>\n",
       "    </tr>\n",
       "    <tr>\n",
       "      <th>partner</th>\n",
       "      <td>0.179736</td>\n",
       "      <td>0.013218</td>\n",
       "      <td>0.243008</td>\n",
       "      <td>0.203545</td>\n",
       "      <td>0.381958</td>\n",
       "      <td>0.000000</td>\n",
       "      <td>0.016992</td>\n",
       "      <td>1.000000</td>\n",
       "      <td>0.652122</td>\n",
       "      <td>0.000000</td>\n",
       "      <td>0.221673</td>\n",
       "      <td>0.219223</td>\n",
       "      <td>0.238079</td>\n",
       "      <td>0.185993</td>\n",
       "      <td>0.193258</td>\n",
       "      <td>0.182011</td>\n",
       "      <td>0.220101</td>\n",
       "      <td>0.226688</td>\n",
       "      <td>0.497292</td>\n",
       "    </tr>\n",
       "    <tr>\n",
       "      <th>dependents</th>\n",
       "      <td>0.147680</td>\n",
       "      <td>0.172593</td>\n",
       "      <td>0.224903</td>\n",
       "      <td>0.184366</td>\n",
       "      <td>0.084247</td>\n",
       "      <td>0.000000</td>\n",
       "      <td>0.324576</td>\n",
       "      <td>0.652122</td>\n",
       "      <td>1.000000</td>\n",
       "      <td>0.108463</td>\n",
       "      <td>0.124945</td>\n",
       "      <td>0.031533</td>\n",
       "      <td>0.010416</td>\n",
       "      <td>0.096912</td>\n",
       "      <td>0.017331</td>\n",
       "      <td>0.058999</td>\n",
       "      <td>0.033103</td>\n",
       "      <td>0.046871</td>\n",
       "      <td>0.205641</td>\n",
       "    </tr>\n",
       "    <tr>\n",
       "      <th>internetservice</th>\n",
       "      <td>0.505187</td>\n",
       "      <td>0.231438</td>\n",
       "      <td>0.323886</td>\n",
       "      <td>0.919002</td>\n",
       "      <td>0.490081</td>\n",
       "      <td>0.000000</td>\n",
       "      <td>0.160702</td>\n",
       "      <td>0.000000</td>\n",
       "      <td>0.108463</td>\n",
       "      <td>1.000000</td>\n",
       "      <td>0.241421</td>\n",
       "      <td>0.233602</td>\n",
       "      <td>0.232916</td>\n",
       "      <td>0.239663</td>\n",
       "      <td>0.272818</td>\n",
       "      <td>0.272782</td>\n",
       "      <td>0.225383</td>\n",
       "      <td>0.056621</td>\n",
       "      <td>0.063783</td>\n",
       "    </tr>\n",
       "    <tr>\n",
       "      <th>onlinesecurity</th>\n",
       "      <td>0.152145</td>\n",
       "      <td>0.000000</td>\n",
       "      <td>0.262911</td>\n",
       "      <td>0.551621</td>\n",
       "      <td>0.522090</td>\n",
       "      <td>0.018397</td>\n",
       "      <td>0.057028</td>\n",
       "      <td>0.221673</td>\n",
       "      <td>0.124945</td>\n",
       "      <td>0.241421</td>\n",
       "      <td>1.000000</td>\n",
       "      <td>0.430425</td>\n",
       "      <td>0.418474</td>\n",
       "      <td>0.528391</td>\n",
       "      <td>0.272186</td>\n",
       "      <td>0.289097</td>\n",
       "      <td>0.151886</td>\n",
       "      <td>0.132594</td>\n",
       "      <td>0.424705</td>\n",
       "    </tr>\n",
       "    <tr>\n",
       "      <th>onlinebackup</th>\n",
       "      <td>0.098884</td>\n",
       "      <td>0.196443</td>\n",
       "      <td>0.282475</td>\n",
       "      <td>0.629541</td>\n",
       "      <td>0.622445</td>\n",
       "      <td>0.009882</td>\n",
       "      <td>0.102065</td>\n",
       "      <td>0.219223</td>\n",
       "      <td>0.031533</td>\n",
       "      <td>0.233602</td>\n",
       "      <td>0.430425</td>\n",
       "      <td>1.000000</td>\n",
       "      <td>0.458211</td>\n",
       "      <td>0.445130</td>\n",
       "      <td>0.428007</td>\n",
       "      <td>0.417170</td>\n",
       "      <td>0.311403</td>\n",
       "      <td>0.229482</td>\n",
       "      <td>0.468858</td>\n",
       "    </tr>\n",
       "    <tr>\n",
       "      <th>deviceprotection</th>\n",
       "      <td>0.137610</td>\n",
       "      <td>0.160796</td>\n",
       "      <td>0.306866</td>\n",
       "      <td>0.667481</td>\n",
       "      <td>0.640977</td>\n",
       "      <td>0.000000</td>\n",
       "      <td>0.090686</td>\n",
       "      <td>0.238079</td>\n",
       "      <td>0.010416</td>\n",
       "      <td>0.232916</td>\n",
       "      <td>0.418474</td>\n",
       "      <td>0.458211</td>\n",
       "      <td>1.000000</td>\n",
       "      <td>0.499267</td>\n",
       "      <td>0.575536</td>\n",
       "      <td>0.589888</td>\n",
       "      <td>0.309757</td>\n",
       "      <td>0.218380</td>\n",
       "      <td>0.470216</td>\n",
       "    </tr>\n",
       "    <tr>\n",
       "      <th>techsupport</th>\n",
       "      <td>0.179999</td>\n",
       "      <td>0.055929</td>\n",
       "      <td>0.272101</td>\n",
       "      <td>0.576525</td>\n",
       "      <td>0.550065</td>\n",
       "      <td>0.000000</td>\n",
       "      <td>0.092565</td>\n",
       "      <td>0.185993</td>\n",
       "      <td>0.096912</td>\n",
       "      <td>0.239663</td>\n",
       "      <td>0.528391</td>\n",
       "      <td>0.445130</td>\n",
       "      <td>0.499267</td>\n",
       "      <td>1.000000</td>\n",
       "      <td>0.422242</td>\n",
       "      <td>0.424078</td>\n",
       "      <td>0.155739</td>\n",
       "      <td>0.103652</td>\n",
       "      <td>0.425066</td>\n",
       "    </tr>\n",
       "    <tr>\n",
       "      <th>streamingtv</th>\n",
       "      <td>0.066961</td>\n",
       "      <td>0.343524</td>\n",
       "      <td>0.377209</td>\n",
       "      <td>0.835340</td>\n",
       "      <td>0.641488</td>\n",
       "      <td>0.000000</td>\n",
       "      <td>0.163120</td>\n",
       "      <td>0.193258</td>\n",
       "      <td>0.017331</td>\n",
       "      <td>0.272818</td>\n",
       "      <td>0.272186</td>\n",
       "      <td>0.428007</td>\n",
       "      <td>0.575536</td>\n",
       "      <td>0.422242</td>\n",
       "      <td>1.000000</td>\n",
       "      <td>0.742479</td>\n",
       "      <td>0.392239</td>\n",
       "      <td>0.200198</td>\n",
       "      <td>0.373019</td>\n",
       "    </tr>\n",
       "    <tr>\n",
       "      <th>streamingmovies</th>\n",
       "      <td>0.069608</td>\n",
       "      <td>0.325551</td>\n",
       "      <td>0.378907</td>\n",
       "      <td>0.833307</td>\n",
       "      <td>0.643210</td>\n",
       "      <td>0.000000</td>\n",
       "      <td>0.186141</td>\n",
       "      <td>0.182011</td>\n",
       "      <td>0.058999</td>\n",
       "      <td>0.272782</td>\n",
       "      <td>0.289097</td>\n",
       "      <td>0.417170</td>\n",
       "      <td>0.589888</td>\n",
       "      <td>0.424078</td>\n",
       "      <td>0.742479</td>\n",
       "      <td>1.000000</td>\n",
       "      <td>0.394553</td>\n",
       "      <td>0.222232</td>\n",
       "      <td>0.380294</td>\n",
       "    </tr>\n",
       "    <tr>\n",
       "      <th>multiplelines</th>\n",
       "      <td>0.065498</td>\n",
       "      <td>0.252972</td>\n",
       "      <td>0.339313</td>\n",
       "      <td>0.675883</td>\n",
       "      <td>0.573191</td>\n",
       "      <td>0.000000</td>\n",
       "      <td>0.221313</td>\n",
       "      <td>0.220101</td>\n",
       "      <td>0.033103</td>\n",
       "      <td>0.225383</td>\n",
       "      <td>0.151886</td>\n",
       "      <td>0.311403</td>\n",
       "      <td>0.309757</td>\n",
       "      <td>0.155739</td>\n",
       "      <td>0.392239</td>\n",
       "      <td>0.394553</td>\n",
       "      <td>1.000000</td>\n",
       "      <td>0.261237</td>\n",
       "      <td>0.445495</td>\n",
       "    </tr>\n",
       "    <tr>\n",
       "      <th>target</th>\n",
       "      <td>0.094015</td>\n",
       "      <td>0.083398</td>\n",
       "      <td>0.214832</td>\n",
       "      <td>0.226280</td>\n",
       "      <td>0.302890</td>\n",
       "      <td>0.008581</td>\n",
       "      <td>0.086159</td>\n",
       "      <td>0.226688</td>\n",
       "      <td>0.046871</td>\n",
       "      <td>0.056621</td>\n",
       "      <td>0.132594</td>\n",
       "      <td>0.229482</td>\n",
       "      <td>0.218380</td>\n",
       "      <td>0.103652</td>\n",
       "      <td>0.200198</td>\n",
       "      <td>0.222232</td>\n",
       "      <td>0.261237</td>\n",
       "      <td>1.000000</td>\n",
       "      <td>0.470220</td>\n",
       "    </tr>\n",
       "    <tr>\n",
       "      <th>duration</th>\n",
       "      <td>0.665092</td>\n",
       "      <td>0.045393</td>\n",
       "      <td>0.375379</td>\n",
       "      <td>0.426086</td>\n",
       "      <td>0.799578</td>\n",
       "      <td>0.000000</td>\n",
       "      <td>0.025186</td>\n",
       "      <td>0.497292</td>\n",
       "      <td>0.205641</td>\n",
       "      <td>0.063783</td>\n",
       "      <td>0.424705</td>\n",
       "      <td>0.468858</td>\n",
       "      <td>0.470216</td>\n",
       "      <td>0.425066</td>\n",
       "      <td>0.373019</td>\n",
       "      <td>0.380294</td>\n",
       "      <td>0.445495</td>\n",
       "      <td>0.470220</td>\n",
       "      <td>1.000000</td>\n",
       "    </tr>\n",
       "  </tbody>\n",
       "</table>\n",
       "</div>"
      ],
      "text/plain": [
       "                      type  paperlessbilling  paymentmethod  monthlycharges  \\\n",
       "type              1.000000          0.106860       0.277462        0.388444   \n",
       "paperlessbilling  0.106860          1.000000       0.370495        0.467812   \n",
       "paymentmethod     0.277462          0.370495       1.000000        0.399526   \n",
       "monthlycharges    0.388444          0.467812       0.399526        1.000000   \n",
       "totalcharges      0.470860          0.201703       0.335666        0.710905   \n",
       "gender            0.000000          0.000000       0.000000        0.008175   \n",
       "seniorcitizen     0.086231          0.242133       0.292725        0.304985   \n",
       "partner           0.179736          0.013218       0.243008        0.203545   \n",
       "dependents        0.147680          0.172593       0.224903        0.184366   \n",
       "internetservice   0.505187          0.231438       0.323886        0.919002   \n",
       "onlinesecurity    0.152145          0.000000       0.262911        0.551621   \n",
       "onlinebackup      0.098884          0.196443       0.282475        0.629541   \n",
       "deviceprotection  0.137610          0.160796       0.306866        0.667481   \n",
       "techsupport       0.179999          0.055929       0.272101        0.576525   \n",
       "streamingtv       0.066961          0.343524       0.377209        0.835340   \n",
       "streamingmovies   0.069608          0.325551       0.378907        0.833307   \n",
       "multiplelines     0.065498          0.252972       0.339313        0.675883   \n",
       "target            0.094015          0.083398       0.214832        0.226280   \n",
       "duration          0.665092          0.045393       0.375379        0.426086   \n",
       "\n",
       "                  totalcharges    gender  seniorcitizen   partner  dependents  \\\n",
       "type                  0.470860  0.000000       0.086231  0.179736    0.147680   \n",
       "paperlessbilling      0.201703  0.000000       0.242133  0.013218    0.172593   \n",
       "paymentmethod         0.335666  0.000000       0.292725  0.243008    0.224903   \n",
       "monthlycharges        0.710905  0.008175       0.304985  0.203545    0.184366   \n",
       "totalcharges          1.000000  0.000000       0.135650  0.381958    0.084247   \n",
       "gender                0.000000  1.000000       0.000000  0.000000    0.000000   \n",
       "seniorcitizen         0.135650  0.000000       1.000000  0.016992    0.324576   \n",
       "partner               0.381958  0.000000       0.016992  1.000000    0.652122   \n",
       "dependents            0.084247  0.000000       0.324576  0.652122    1.000000   \n",
       "internetservice       0.490081  0.000000       0.160702  0.000000    0.108463   \n",
       "onlinesecurity        0.522090  0.018397       0.057028  0.221673    0.124945   \n",
       "onlinebackup          0.622445  0.009882       0.102065  0.219223    0.031533   \n",
       "deviceprotection      0.640977  0.000000       0.090686  0.238079    0.010416   \n",
       "techsupport           0.550065  0.000000       0.092565  0.185993    0.096912   \n",
       "streamingtv           0.641488  0.000000       0.163120  0.193258    0.017331   \n",
       "streamingmovies       0.643210  0.000000       0.186141  0.182011    0.058999   \n",
       "multiplelines         0.573191  0.000000       0.221313  0.220101    0.033103   \n",
       "target                0.302890  0.008581       0.086159  0.226688    0.046871   \n",
       "duration              0.799578  0.000000       0.025186  0.497292    0.205641   \n",
       "\n",
       "                  internetservice  onlinesecurity  onlinebackup  \\\n",
       "type                     0.505187        0.152145      0.098884   \n",
       "paperlessbilling         0.231438        0.000000      0.196443   \n",
       "paymentmethod            0.323886        0.262911      0.282475   \n",
       "monthlycharges           0.919002        0.551621      0.629541   \n",
       "totalcharges             0.490081        0.522090      0.622445   \n",
       "gender                   0.000000        0.018397      0.009882   \n",
       "seniorcitizen            0.160702        0.057028      0.102065   \n",
       "partner                  0.000000        0.221673      0.219223   \n",
       "dependents               0.108463        0.124945      0.031533   \n",
       "internetservice          1.000000        0.241421      0.233602   \n",
       "onlinesecurity           0.241421        1.000000      0.430425   \n",
       "onlinebackup             0.233602        0.430425      1.000000   \n",
       "deviceprotection         0.232916        0.418474      0.458211   \n",
       "techsupport              0.239663        0.528391      0.445130   \n",
       "streamingtv              0.272818        0.272186      0.428007   \n",
       "streamingmovies          0.272782        0.289097      0.417170   \n",
       "multiplelines            0.225383        0.151886      0.311403   \n",
       "target                   0.056621        0.132594      0.229482   \n",
       "duration                 0.063783        0.424705      0.468858   \n",
       "\n",
       "                  deviceprotection  techsupport  streamingtv  streamingmovies  \\\n",
       "type                      0.137610     0.179999     0.066961         0.069608   \n",
       "paperlessbilling          0.160796     0.055929     0.343524         0.325551   \n",
       "paymentmethod             0.306866     0.272101     0.377209         0.378907   \n",
       "monthlycharges            0.667481     0.576525     0.835340         0.833307   \n",
       "totalcharges              0.640977     0.550065     0.641488         0.643210   \n",
       "gender                    0.000000     0.000000     0.000000         0.000000   \n",
       "seniorcitizen             0.090686     0.092565     0.163120         0.186141   \n",
       "partner                   0.238079     0.185993     0.193258         0.182011   \n",
       "dependents                0.010416     0.096912     0.017331         0.058999   \n",
       "internetservice           0.232916     0.239663     0.272818         0.272782   \n",
       "onlinesecurity            0.418474     0.528391     0.272186         0.289097   \n",
       "onlinebackup              0.458211     0.445130     0.428007         0.417170   \n",
       "deviceprotection          1.000000     0.499267     0.575536         0.589888   \n",
       "techsupport               0.499267     1.000000     0.422242         0.424078   \n",
       "streamingtv               0.575536     0.422242     1.000000         0.742479   \n",
       "streamingmovies           0.589888     0.424078     0.742479         1.000000   \n",
       "multiplelines             0.309757     0.155739     0.392239         0.394553   \n",
       "target                    0.218380     0.103652     0.200198         0.222232   \n",
       "duration                  0.470216     0.425066     0.373019         0.380294   \n",
       "\n",
       "                  multiplelines    target  duration  \n",
       "type                   0.065498  0.094015  0.665092  \n",
       "paperlessbilling       0.252972  0.083398  0.045393  \n",
       "paymentmethod          0.339313  0.214832  0.375379  \n",
       "monthlycharges         0.675883  0.226280  0.426086  \n",
       "totalcharges           0.573191  0.302890  0.799578  \n",
       "gender                 0.000000  0.008581  0.000000  \n",
       "seniorcitizen          0.221313  0.086159  0.025186  \n",
       "partner                0.220101  0.226688  0.497292  \n",
       "dependents             0.033103  0.046871  0.205641  \n",
       "internetservice        0.225383  0.056621  0.063783  \n",
       "onlinesecurity         0.151886  0.132594  0.424705  \n",
       "onlinebackup           0.311403  0.229482  0.468858  \n",
       "deviceprotection       0.309757  0.218380  0.470216  \n",
       "techsupport            0.155739  0.103652  0.425066  \n",
       "streamingtv            0.392239  0.200198  0.373019  \n",
       "streamingmovies        0.394553  0.222232  0.380294  \n",
       "multiplelines          1.000000  0.261237  0.445495  \n",
       "target                 0.261237  1.000000  0.470220  \n",
       "duration               0.445495  0.470220  1.000000  "
      ]
     },
     "execution_count": 26,
     "metadata": {},
     "output_type": "execute_result"
    }
   ],
   "source": [
    "data.phik_matrix()"
   ]
  },
  {
   "cell_type": "markdown",
   "id": "c1981076",
   "metadata": {},
   "source": [
    "Видим нулевую зависимость признака gender и очень малую с paperlessbilling, seniorcitizen, internetservice. Самая большая - с totalcharges, что логично, так как чем больше абонент пользуется услугами, тем больше платит."
   ]
  },
  {
   "cell_type": "markdown",
   "id": "3990529e",
   "metadata": {},
   "source": [
    "## Разделение на выборки"
   ]
  },
  {
   "cell_type": "code",
   "execution_count": 27,
   "id": "827af5be",
   "metadata": {},
   "outputs": [],
   "source": [
    "target = data['target'] \n",
    "features = data.drop(columns='target')"
   ]
  },
  {
   "cell_type": "code",
   "execution_count": 28,
   "id": "6fda855c",
   "metadata": {},
   "outputs": [
    {
     "name": "stdout",
     "output_type": "stream",
     "text": [
      "(1761, 18)\n"
     ]
    },
    {
     "data": {
      "text/plain": [
       "(5282, 18)"
      ]
     },
     "execution_count": 28,
     "metadata": {},
     "output_type": "execute_result"
    }
   ],
   "source": [
    "features_train, features_test, target_train, target_test = train_test_split(\n",
    "    features, target, \n",
    "    test_size=TEST_SIZE, \n",
    "    random_state=RANDOM_STATE\n",
    ")\n",
    "print(features_test.shape)\n",
    "features_train.shape"
   ]
  },
  {
   "cell_type": "markdown",
   "id": "8d7cdda5",
   "metadata": {},
   "source": [
    "Кодирование данных"
   ]
  },
  {
   "cell_type": "code",
   "execution_count": 29,
   "id": "85285df2",
   "metadata": {},
   "outputs": [
    {
     "name": "stderr",
     "output_type": "stream",
     "text": [
      "/tmp/ipykernel_31/2516940213.py:4: SettingWithCopyWarning: \n",
      "A value is trying to be set on a copy of a slice from a DataFrame.\n",
      "Try using .loc[row_indexer,col_indexer] = value instead\n",
      "\n",
      "See the caveats in the documentation: https://pandas.pydata.org/pandas-docs/stable/user_guide/indexing.html#returning-a-view-versus-a-copy\n",
      "  features_train[cat_columns] = encoder.fit_transform(features_train[cat_columns])\n",
      "/opt/conda/lib/python3.9/site-packages/pandas/core/indexing.py:1738: SettingWithCopyWarning: \n",
      "A value is trying to be set on a copy of a slice from a DataFrame.\n",
      "Try using .loc[row_indexer,col_indexer] = value instead\n",
      "\n",
      "See the caveats in the documentation: https://pandas.pydata.org/pandas-docs/stable/user_guide/indexing.html#returning-a-view-versus-a-copy\n",
      "  self._setitem_single_column(loc, value[:, i].tolist(), pi)\n",
      "/tmp/ipykernel_31/2516940213.py:5: SettingWithCopyWarning: \n",
      "A value is trying to be set on a copy of a slice from a DataFrame.\n",
      "Try using .loc[row_indexer,col_indexer] = value instead\n",
      "\n",
      "See the caveats in the documentation: https://pandas.pydata.org/pandas-docs/stable/user_guide/indexing.html#returning-a-view-versus-a-copy\n",
      "  features_test[cat_columns] = encoder.transform(features_test[cat_columns])\n",
      "/opt/conda/lib/python3.9/site-packages/pandas/core/indexing.py:1738: SettingWithCopyWarning: \n",
      "A value is trying to be set on a copy of a slice from a DataFrame.\n",
      "Try using .loc[row_indexer,col_indexer] = value instead\n",
      "\n",
      "See the caveats in the documentation: https://pandas.pydata.org/pandas-docs/stable/user_guide/indexing.html#returning-a-view-versus-a-copy\n",
      "  self._setitem_single_column(loc, value[:, i].tolist(), pi)\n"
     ]
    }
   ],
   "source": [
    "encoder = OrdinalEncoder(handle_unknown='ignore')\n",
    "cat_columns = ['type', 'paymentmethod', 'gender', 'internetservice']\n",
    "\n",
    "features_train[cat_columns] = encoder.fit_transform(features_train[cat_columns])\n",
    "features_test[cat_columns] = encoder.transform(features_test[cat_columns])"
   ]
  },
  {
   "cell_type": "markdown",
   "id": "d091a127",
   "metadata": {},
   "source": [
    "Масштабирование данных"
   ]
  },
  {
   "cell_type": "code",
   "execution_count": 30,
   "id": "95ec77a6",
   "metadata": {},
   "outputs": [
    {
     "name": "stderr",
     "output_type": "stream",
     "text": [
      "/tmp/ipykernel_31/1214830706.py:5: SettingWithCopyWarning: \n",
      "A value is trying to be set on a copy of a slice from a DataFrame.\n",
      "Try using .loc[row_indexer,col_indexer] = value instead\n",
      "\n",
      "See the caveats in the documentation: https://pandas.pydata.org/pandas-docs/stable/user_guide/indexing.html#returning-a-view-versus-a-copy\n",
      "  features_train[num_columns] = scaler.transform(features_train[num_columns])\n",
      "/opt/conda/lib/python3.9/site-packages/pandas/core/indexing.py:1738: SettingWithCopyWarning: \n",
      "A value is trying to be set on a copy of a slice from a DataFrame.\n",
      "Try using .loc[row_indexer,col_indexer] = value instead\n",
      "\n",
      "See the caveats in the documentation: https://pandas.pydata.org/pandas-docs/stable/user_guide/indexing.html#returning-a-view-versus-a-copy\n",
      "  self._setitem_single_column(loc, value[:, i].tolist(), pi)\n",
      "/tmp/ipykernel_31/1214830706.py:6: SettingWithCopyWarning: \n",
      "A value is trying to be set on a copy of a slice from a DataFrame.\n",
      "Try using .loc[row_indexer,col_indexer] = value instead\n",
      "\n",
      "See the caveats in the documentation: https://pandas.pydata.org/pandas-docs/stable/user_guide/indexing.html#returning-a-view-versus-a-copy\n",
      "  features_test[num_columns] = scaler.transform(features_test[num_columns])\n",
      "/opt/conda/lib/python3.9/site-packages/pandas/core/indexing.py:1738: SettingWithCopyWarning: \n",
      "A value is trying to be set on a copy of a slice from a DataFrame.\n",
      "Try using .loc[row_indexer,col_indexer] = value instead\n",
      "\n",
      "See the caveats in the documentation: https://pandas.pydata.org/pandas-docs/stable/user_guide/indexing.html#returning-a-view-versus-a-copy\n",
      "  self._setitem_single_column(loc, value[:, i].tolist(), pi)\n"
     ]
    }
   ],
   "source": [
    "scaler = StandardScaler()\n",
    "num_columns = ['monthlycharges', 'totalcharges', 'duration']\n",
    "scaler.fit(features_train[num_columns])\n",
    "\n",
    "features_train[num_columns] = scaler.transform(features_train[num_columns])\n",
    "features_test[num_columns] = scaler.transform(features_test[num_columns])"
   ]
  },
  {
   "cell_type": "markdown",
   "id": "e1f2b4b2",
   "metadata": {},
   "source": [
    "## Обучение моделей"
   ]
  },
  {
   "cell_type": "markdown",
   "id": "dfc3002d",
   "metadata": {},
   "source": [
    "### CatBoostClassifier"
   ]
  },
  {
   "cell_type": "code",
   "execution_count": 32,
   "id": "b8fa91c3",
   "metadata": {},
   "outputs": [
    {
     "data": {
      "text/html": [
       "<div>\n",
       "<style scoped>\n",
       "    .dataframe tbody tr th:only-of-type {\n",
       "        vertical-align: middle;\n",
       "    }\n",
       "\n",
       "    .dataframe tbody tr th {\n",
       "        vertical-align: top;\n",
       "    }\n",
       "\n",
       "    .dataframe thead th {\n",
       "        text-align: right;\n",
       "    }\n",
       "</style>\n",
       "<table border=\"1\" class=\"dataframe\">\n",
       "  <thead>\n",
       "    <tr style=\"text-align: right;\">\n",
       "      <th></th>\n",
       "      <th>type</th>\n",
       "      <th>paperlessbilling</th>\n",
       "      <th>paymentmethod</th>\n",
       "      <th>monthlycharges</th>\n",
       "      <th>totalcharges</th>\n",
       "      <th>gender</th>\n",
       "      <th>seniorcitizen</th>\n",
       "      <th>partner</th>\n",
       "      <th>dependents</th>\n",
       "      <th>internetservice</th>\n",
       "      <th>onlinesecurity</th>\n",
       "      <th>onlinebackup</th>\n",
       "      <th>deviceprotection</th>\n",
       "      <th>techsupport</th>\n",
       "      <th>streamingtv</th>\n",
       "      <th>streamingmovies</th>\n",
       "      <th>multiplelines</th>\n",
       "      <th>duration</th>\n",
       "    </tr>\n",
       "  </thead>\n",
       "  <tbody>\n",
       "    <tr>\n",
       "      <th>1844</th>\n",
       "      <td>1.0</td>\n",
       "      <td>0</td>\n",
       "      <td>1.0</td>\n",
       "      <td>0.049156</td>\n",
       "      <td>0.085323</td>\n",
       "      <td>1.0</td>\n",
       "      <td>0</td>\n",
       "      <td>1</td>\n",
       "      <td>0</td>\n",
       "      <td>0.0</td>\n",
       "      <td>1</td>\n",
       "      <td>1</td>\n",
       "      <td>1</td>\n",
       "      <td>0</td>\n",
       "      <td>1</td>\n",
       "      <td>0</td>\n",
       "      <td>0</td>\n",
       "      <td>1.070199</td>\n",
       "    </tr>\n",
       "    <tr>\n",
       "      <th>2782</th>\n",
       "      <td>2.0</td>\n",
       "      <td>1</td>\n",
       "      <td>0.0</td>\n",
       "      <td>0.679705</td>\n",
       "      <td>0.629980</td>\n",
       "      <td>1.0</td>\n",
       "      <td>0</td>\n",
       "      <td>1</td>\n",
       "      <td>1</td>\n",
       "      <td>0.0</td>\n",
       "      <td>1</td>\n",
       "      <td>0</td>\n",
       "      <td>1</td>\n",
       "      <td>1</td>\n",
       "      <td>1</td>\n",
       "      <td>1</td>\n",
       "      <td>1</td>\n",
       "      <td>0.201089</td>\n",
       "    </tr>\n",
       "    <tr>\n",
       "      <th>4384</th>\n",
       "      <td>0.0</td>\n",
       "      <td>0</td>\n",
       "      <td>0.0</td>\n",
       "      <td>0.490541</td>\n",
       "      <td>-0.817874</td>\n",
       "      <td>0.0</td>\n",
       "      <td>0</td>\n",
       "      <td>1</td>\n",
       "      <td>0</td>\n",
       "      <td>1.0</td>\n",
       "      <td>0</td>\n",
       "      <td>1</td>\n",
       "      <td>1</td>\n",
       "      <td>0</td>\n",
       "      <td>0</td>\n",
       "      <td>0</td>\n",
       "      <td>0</td>\n",
       "      <td>-1.160199</td>\n",
       "    </tr>\n",
       "    <tr>\n",
       "      <th>3580</th>\n",
       "      <td>0.0</td>\n",
       "      <td>1</td>\n",
       "      <td>3.0</td>\n",
       "      <td>0.264870</td>\n",
       "      <td>-0.559189</td>\n",
       "      <td>0.0</td>\n",
       "      <td>0</td>\n",
       "      <td>0</td>\n",
       "      <td>1</td>\n",
       "      <td>0.0</td>\n",
       "      <td>0</td>\n",
       "      <td>0</td>\n",
       "      <td>1</td>\n",
       "      <td>1</td>\n",
       "      <td>1</td>\n",
       "      <td>1</td>\n",
       "      <td>0</td>\n",
       "      <td>-0.830724</td>\n",
       "    </tr>\n",
       "    <tr>\n",
       "      <th>2394</th>\n",
       "      <td>1.0</td>\n",
       "      <td>1</td>\n",
       "      <td>1.0</td>\n",
       "      <td>0.468969</td>\n",
       "      <td>-0.372594</td>\n",
       "      <td>1.0</td>\n",
       "      <td>0</td>\n",
       "      <td>0</td>\n",
       "      <td>0</td>\n",
       "      <td>1.0</td>\n",
       "      <td>0</td>\n",
       "      <td>1</td>\n",
       "      <td>0</td>\n",
       "      <td>0</td>\n",
       "      <td>0</td>\n",
       "      <td>0</td>\n",
       "      <td>1</td>\n",
       "      <td>1.565089</td>\n",
       "    </tr>\n",
       "    <tr>\n",
       "      <th>...</th>\n",
       "      <td>...</td>\n",
       "      <td>...</td>\n",
       "      <td>...</td>\n",
       "      <td>...</td>\n",
       "      <td>...</td>\n",
       "      <td>...</td>\n",
       "      <td>...</td>\n",
       "      <td>...</td>\n",
       "      <td>...</td>\n",
       "      <td>...</td>\n",
       "      <td>...</td>\n",
       "      <td>...</td>\n",
       "      <td>...</td>\n",
       "      <td>...</td>\n",
       "      <td>...</td>\n",
       "      <td>...</td>\n",
       "      <td>...</td>\n",
       "      <td>...</td>\n",
       "    </tr>\n",
       "    <tr>\n",
       "      <th>4756</th>\n",
       "      <td>0.0</td>\n",
       "      <td>1</td>\n",
       "      <td>0.0</td>\n",
       "      <td>0.249936</td>\n",
       "      <td>0.052314</td>\n",
       "      <td>1.0</td>\n",
       "      <td>0</td>\n",
       "      <td>0</td>\n",
       "      <td>0</td>\n",
       "      <td>0.0</td>\n",
       "      <td>1</td>\n",
       "      <td>1</td>\n",
       "      <td>1</td>\n",
       "      <td>1</td>\n",
       "      <td>1</td>\n",
       "      <td>0</td>\n",
       "      <td>0</td>\n",
       "      <td>-0.086354</td>\n",
       "    </tr>\n",
       "    <tr>\n",
       "      <th>5698</th>\n",
       "      <td>0.0</td>\n",
       "      <td>0</td>\n",
       "      <td>2.0</td>\n",
       "      <td>1.310255</td>\n",
       "      <td>0.223790</td>\n",
       "      <td>1.0</td>\n",
       "      <td>0</td>\n",
       "      <td>1</td>\n",
       "      <td>1</td>\n",
       "      <td>1.0</td>\n",
       "      <td>0</td>\n",
       "      <td>1</td>\n",
       "      <td>1</td>\n",
       "      <td>0</td>\n",
       "      <td>1</td>\n",
       "      <td>1</td>\n",
       "      <td>1</td>\n",
       "      <td>-0.335833</td>\n",
       "    </tr>\n",
       "    <tr>\n",
       "      <th>2191</th>\n",
       "      <td>0.0</td>\n",
       "      <td>1</td>\n",
       "      <td>2.0</td>\n",
       "      <td>0.875507</td>\n",
       "      <td>-0.833559</td>\n",
       "      <td>0.0</td>\n",
       "      <td>1</td>\n",
       "      <td>0</td>\n",
       "      <td>0</td>\n",
       "      <td>1.0</td>\n",
       "      <td>0</td>\n",
       "      <td>0</td>\n",
       "      <td>0</td>\n",
       "      <td>0</td>\n",
       "      <td>1</td>\n",
       "      <td>1</td>\n",
       "      <td>0</td>\n",
       "      <td>-1.200875</td>\n",
       "    </tr>\n",
       "    <tr>\n",
       "      <th>6161</th>\n",
       "      <td>0.0</td>\n",
       "      <td>0</td>\n",
       "      <td>3.0</td>\n",
       "      <td>0.312991</td>\n",
       "      <td>-0.760433</td>\n",
       "      <td>1.0</td>\n",
       "      <td>0</td>\n",
       "      <td>0</td>\n",
       "      <td>0</td>\n",
       "      <td>1.0</td>\n",
       "      <td>1</td>\n",
       "      <td>0</td>\n",
       "      <td>0</td>\n",
       "      <td>0</td>\n",
       "      <td>0</td>\n",
       "      <td>0</td>\n",
       "      <td>0</td>\n",
       "      <td>-1.076135</td>\n",
       "    </tr>\n",
       "    <tr>\n",
       "      <th>2780</th>\n",
       "      <td>1.0</td>\n",
       "      <td>0</td>\n",
       "      <td>3.0</td>\n",
       "      <td>0.311332</td>\n",
       "      <td>-0.095657</td>\n",
       "      <td>0.0</td>\n",
       "      <td>0</td>\n",
       "      <td>0</td>\n",
       "      <td>0</td>\n",
       "      <td>0.0</td>\n",
       "      <td>1</td>\n",
       "      <td>1</td>\n",
       "      <td>1</td>\n",
       "      <td>1</td>\n",
       "      <td>1</td>\n",
       "      <td>0</td>\n",
       "      <td>0</td>\n",
       "      <td>-0.293801</td>\n",
       "    </tr>\n",
       "  </tbody>\n",
       "</table>\n",
       "<p>5282 rows × 18 columns</p>\n",
       "</div>"
      ],
      "text/plain": [
       "      type  paperlessbilling  paymentmethod  monthlycharges  totalcharges  \\\n",
       "1844   1.0                 0            1.0        0.049156      0.085323   \n",
       "2782   2.0                 1            0.0        0.679705      0.629980   \n",
       "4384   0.0                 0            0.0        0.490541     -0.817874   \n",
       "3580   0.0                 1            3.0        0.264870     -0.559189   \n",
       "2394   1.0                 1            1.0        0.468969     -0.372594   \n",
       "...    ...               ...            ...             ...           ...   \n",
       "4756   0.0                 1            0.0        0.249936      0.052314   \n",
       "5698   0.0                 0            2.0        1.310255      0.223790   \n",
       "2191   0.0                 1            2.0        0.875507     -0.833559   \n",
       "6161   0.0                 0            3.0        0.312991     -0.760433   \n",
       "2780   1.0                 0            3.0        0.311332     -0.095657   \n",
       "\n",
       "      gender  seniorcitizen  partner  dependents  internetservice  \\\n",
       "1844     1.0              0        1           0              0.0   \n",
       "2782     1.0              0        1           1              0.0   \n",
       "4384     0.0              0        1           0              1.0   \n",
       "3580     0.0              0        0           1              0.0   \n",
       "2394     1.0              0        0           0              1.0   \n",
       "...      ...            ...      ...         ...              ...   \n",
       "4756     1.0              0        0           0              0.0   \n",
       "5698     1.0              0        1           1              1.0   \n",
       "2191     0.0              1        0           0              1.0   \n",
       "6161     1.0              0        0           0              1.0   \n",
       "2780     0.0              0        0           0              0.0   \n",
       "\n",
       "      onlinesecurity  onlinebackup  deviceprotection  techsupport  \\\n",
       "1844               1             1                 1            0   \n",
       "2782               1             0                 1            1   \n",
       "4384               0             1                 1            0   \n",
       "3580               0             0                 1            1   \n",
       "2394               0             1                 0            0   \n",
       "...              ...           ...               ...          ...   \n",
       "4756               1             1                 1            1   \n",
       "5698               0             1                 1            0   \n",
       "2191               0             0                 0            0   \n",
       "6161               1             0                 0            0   \n",
       "2780               1             1                 1            1   \n",
       "\n",
       "      streamingtv  streamingmovies  multiplelines  duration  \n",
       "1844            1                0              0  1.070199  \n",
       "2782            1                1              1  0.201089  \n",
       "4384            0                0              0 -1.160199  \n",
       "3580            1                1              0 -0.830724  \n",
       "2394            0                0              1  1.565089  \n",
       "...           ...              ...            ...       ...  \n",
       "4756            1                0              0 -0.086354  \n",
       "5698            1                1              1 -0.335833  \n",
       "2191            1                1              0 -1.200875  \n",
       "6161            0                0              0 -1.076135  \n",
       "2780            1                0              0 -0.293801  \n",
       "\n",
       "[5282 rows x 18 columns]"
      ]
     },
     "execution_count": 32,
     "metadata": {},
     "output_type": "execute_result"
    }
   ],
   "source": [
    "features_train"
   ]
  },
  {
   "cell_type": "code",
   "execution_count": 34,
   "id": "1b853697",
   "metadata": {
    "scrolled": false
   },
   "outputs": [
    {
     "name": "stdout",
     "output_type": "stream",
     "text": [
      "Fitting 3 folds for each of 81 candidates, totalling 243 fits\n",
      "[CV 1/3; 1/81] START iterations=200, l2_leaf_reg=3, learning_rate=0.1, max_depth=1\n",
      "[CV 1/3; 1/81] END iterations=200, l2_leaf_reg=3, learning_rate=0.1, max_depth=1; total time=   0.8s\n",
      "[CV 2/3; 1/81] START iterations=200, l2_leaf_reg=3, learning_rate=0.1, max_depth=1\n",
      "[CV 2/3; 1/81] END iterations=200, l2_leaf_reg=3, learning_rate=0.1, max_depth=1; total time=   0.7s\n",
      "[CV 3/3; 1/81] START iterations=200, l2_leaf_reg=3, learning_rate=0.1, max_depth=1\n",
      "[CV 3/3; 1/81] END iterations=200, l2_leaf_reg=3, learning_rate=0.1, max_depth=1; total time=   0.7s\n",
      "[CV 1/3; 2/81] START iterations=200, l2_leaf_reg=3, learning_rate=0.1, max_depth=3\n",
      "[CV 1/3; 2/81] END iterations=200, l2_leaf_reg=3, learning_rate=0.1, max_depth=3; total time=   0.8s\n",
      "[CV 2/3; 2/81] START iterations=200, l2_leaf_reg=3, learning_rate=0.1, max_depth=3\n",
      "[CV 2/3; 2/81] END iterations=200, l2_leaf_reg=3, learning_rate=0.1, max_depth=3; total time=   1.0s\n",
      "[CV 3/3; 2/81] START iterations=200, l2_leaf_reg=3, learning_rate=0.1, max_depth=3\n",
      "[CV 3/3; 2/81] END iterations=200, l2_leaf_reg=3, learning_rate=0.1, max_depth=3; total time=   0.8s\n",
      "[CV 1/3; 3/81] START iterations=200, l2_leaf_reg=3, learning_rate=0.1, max_depth=5\n",
      "[CV 1/3; 3/81] END iterations=200, l2_leaf_reg=3, learning_rate=0.1, max_depth=5; total time=   0.9s\n",
      "[CV 2/3; 3/81] START iterations=200, l2_leaf_reg=3, learning_rate=0.1, max_depth=5\n",
      "[CV 2/3; 3/81] END iterations=200, l2_leaf_reg=3, learning_rate=0.1, max_depth=5; total time=   0.9s\n",
      "[CV 3/3; 3/81] START iterations=200, l2_leaf_reg=3, learning_rate=0.1, max_depth=5\n",
      "[CV 3/3; 3/81] END iterations=200, l2_leaf_reg=3, learning_rate=0.1, max_depth=5; total time=   0.9s\n",
      "[CV 1/3; 4/81] START iterations=200, l2_leaf_reg=3, learning_rate=0.3, max_depth=1\n",
      "[CV 1/3; 4/81] END iterations=200, l2_leaf_reg=3, learning_rate=0.3, max_depth=1; total time=   0.7s\n",
      "[CV 2/3; 4/81] START iterations=200, l2_leaf_reg=3, learning_rate=0.3, max_depth=1\n",
      "[CV 2/3; 4/81] END iterations=200, l2_leaf_reg=3, learning_rate=0.3, max_depth=1; total time=   0.8s\n",
      "[CV 3/3; 4/81] START iterations=200, l2_leaf_reg=3, learning_rate=0.3, max_depth=1\n",
      "[CV 3/3; 4/81] END iterations=200, l2_leaf_reg=3, learning_rate=0.3, max_depth=1; total time=   0.7s\n",
      "[CV 1/3; 5/81] START iterations=200, l2_leaf_reg=3, learning_rate=0.3, max_depth=3\n",
      "[CV 1/3; 5/81] END iterations=200, l2_leaf_reg=3, learning_rate=0.3, max_depth=3; total time=   0.7s\n",
      "[CV 2/3; 5/81] START iterations=200, l2_leaf_reg=3, learning_rate=0.3, max_depth=3\n",
      "[CV 2/3; 5/81] END iterations=200, l2_leaf_reg=3, learning_rate=0.3, max_depth=3; total time=   0.8s\n",
      "[CV 3/3; 5/81] START iterations=200, l2_leaf_reg=3, learning_rate=0.3, max_depth=3\n",
      "[CV 3/3; 5/81] END iterations=200, l2_leaf_reg=3, learning_rate=0.3, max_depth=3; total time=   0.8s\n",
      "[CV 1/3; 6/81] START iterations=200, l2_leaf_reg=3, learning_rate=0.3, max_depth=5\n",
      "[CV 1/3; 6/81] END iterations=200, l2_leaf_reg=3, learning_rate=0.3, max_depth=5; total time=   0.9s\n",
      "[CV 2/3; 6/81] START iterations=200, l2_leaf_reg=3, learning_rate=0.3, max_depth=5\n",
      "[CV 2/3; 6/81] END iterations=200, l2_leaf_reg=3, learning_rate=0.3, max_depth=5; total time=   0.9s\n",
      "[CV 3/3; 6/81] START iterations=200, l2_leaf_reg=3, learning_rate=0.3, max_depth=5\n",
      "[CV 3/3; 6/81] END iterations=200, l2_leaf_reg=3, learning_rate=0.3, max_depth=5; total time=   0.8s\n",
      "[CV 1/3; 7/81] START iterations=200, l2_leaf_reg=3, learning_rate=0.5, max_depth=1\n",
      "[CV 1/3; 7/81] END iterations=200, l2_leaf_reg=3, learning_rate=0.5, max_depth=1; total time=   0.8s\n",
      "[CV 2/3; 7/81] START iterations=200, l2_leaf_reg=3, learning_rate=0.5, max_depth=1\n",
      "[CV 2/3; 7/81] END iterations=200, l2_leaf_reg=3, learning_rate=0.5, max_depth=1; total time=   0.7s\n",
      "[CV 3/3; 7/81] START iterations=200, l2_leaf_reg=3, learning_rate=0.5, max_depth=1\n",
      "[CV 3/3; 7/81] END iterations=200, l2_leaf_reg=3, learning_rate=0.5, max_depth=1; total time=   0.8s\n",
      "[CV 1/3; 8/81] START iterations=200, l2_leaf_reg=3, learning_rate=0.5, max_depth=3\n",
      "[CV 1/3; 8/81] END iterations=200, l2_leaf_reg=3, learning_rate=0.5, max_depth=3; total time=   0.9s\n",
      "[CV 2/3; 8/81] START iterations=200, l2_leaf_reg=3, learning_rate=0.5, max_depth=3\n",
      "[CV 2/3; 8/81] END iterations=200, l2_leaf_reg=3, learning_rate=0.5, max_depth=3; total time=   0.9s\n",
      "[CV 3/3; 8/81] START iterations=200, l2_leaf_reg=3, learning_rate=0.5, max_depth=3\n",
      "[CV 3/3; 8/81] END iterations=200, l2_leaf_reg=3, learning_rate=0.5, max_depth=3; total time=   1.0s\n",
      "[CV 1/3; 9/81] START iterations=200, l2_leaf_reg=3, learning_rate=0.5, max_depth=5\n",
      "[CV 1/3; 9/81] END iterations=200, l2_leaf_reg=3, learning_rate=0.5, max_depth=5; total time=   1.1s\n",
      "[CV 2/3; 9/81] START iterations=200, l2_leaf_reg=3, learning_rate=0.5, max_depth=5\n",
      "[CV 2/3; 9/81] END iterations=200, l2_leaf_reg=3, learning_rate=0.5, max_depth=5; total time=   1.1s\n",
      "[CV 3/3; 9/81] START iterations=200, l2_leaf_reg=3, learning_rate=0.5, max_depth=5\n",
      "[CV 3/3; 9/81] END iterations=200, l2_leaf_reg=3, learning_rate=0.5, max_depth=5; total time=   1.0s\n",
      "[CV 1/3; 10/81] START iterations=200, l2_leaf_reg=9, learning_rate=0.1, max_depth=1\n",
      "[CV 1/3; 10/81] END iterations=200, l2_leaf_reg=9, learning_rate=0.1, max_depth=1; total time=   0.8s\n",
      "[CV 2/3; 10/81] START iterations=200, l2_leaf_reg=9, learning_rate=0.1, max_depth=1\n",
      "[CV 2/3; 10/81] END iterations=200, l2_leaf_reg=9, learning_rate=0.1, max_depth=1; total time=   0.7s\n",
      "[CV 3/3; 10/81] START iterations=200, l2_leaf_reg=9, learning_rate=0.1, max_depth=1\n",
      "[CV 3/3; 10/81] END iterations=200, l2_leaf_reg=9, learning_rate=0.1, max_depth=1; total time=   0.8s\n",
      "[CV 1/3; 11/81] START iterations=200, l2_leaf_reg=9, learning_rate=0.1, max_depth=3\n",
      "[CV 1/3; 11/81] END iterations=200, l2_leaf_reg=9, learning_rate=0.1, max_depth=3; total time=   0.8s\n",
      "[CV 2/3; 11/81] START iterations=200, l2_leaf_reg=9, learning_rate=0.1, max_depth=3\n",
      "[CV 2/3; 11/81] END iterations=200, l2_leaf_reg=9, learning_rate=0.1, max_depth=3; total time=   0.9s\n",
      "[CV 3/3; 11/81] START iterations=200, l2_leaf_reg=9, learning_rate=0.1, max_depth=3\n",
      "[CV 3/3; 11/81] END iterations=200, l2_leaf_reg=9, learning_rate=0.1, max_depth=3; total time=   0.9s\n",
      "[CV 1/3; 12/81] START iterations=200, l2_leaf_reg=9, learning_rate=0.1, max_depth=5\n",
      "[CV 1/3; 12/81] END iterations=200, l2_leaf_reg=9, learning_rate=0.1, max_depth=5; total time=   0.8s\n",
      "[CV 2/3; 12/81] START iterations=200, l2_leaf_reg=9, learning_rate=0.1, max_depth=5\n",
      "[CV 2/3; 12/81] END iterations=200, l2_leaf_reg=9, learning_rate=0.1, max_depth=5; total time=   0.9s\n",
      "[CV 3/3; 12/81] START iterations=200, l2_leaf_reg=9, learning_rate=0.1, max_depth=5\n",
      "[CV 3/3; 12/81] END iterations=200, l2_leaf_reg=9, learning_rate=0.1, max_depth=5; total time=   0.8s\n",
      "[CV 1/3; 13/81] START iterations=200, l2_leaf_reg=9, learning_rate=0.3, max_depth=1\n",
      "[CV 1/3; 13/81] END iterations=200, l2_leaf_reg=9, learning_rate=0.3, max_depth=1; total time=   0.8s\n",
      "[CV 2/3; 13/81] START iterations=200, l2_leaf_reg=9, learning_rate=0.3, max_depth=1\n",
      "[CV 2/3; 13/81] END iterations=200, l2_leaf_reg=9, learning_rate=0.3, max_depth=1; total time=   0.7s\n",
      "[CV 3/3; 13/81] START iterations=200, l2_leaf_reg=9, learning_rate=0.3, max_depth=1\n",
      "[CV 3/3; 13/81] END iterations=200, l2_leaf_reg=9, learning_rate=0.3, max_depth=1; total time=   0.8s\n",
      "[CV 1/3; 14/81] START iterations=200, l2_leaf_reg=9, learning_rate=0.3, max_depth=3\n",
      "[CV 1/3; 14/81] END iterations=200, l2_leaf_reg=9, learning_rate=0.3, max_depth=3; total time=   0.8s\n",
      "[CV 2/3; 14/81] START iterations=200, l2_leaf_reg=9, learning_rate=0.3, max_depth=3\n",
      "[CV 2/3; 14/81] END iterations=200, l2_leaf_reg=9, learning_rate=0.3, max_depth=3; total time=   0.8s\n",
      "[CV 3/3; 14/81] START iterations=200, l2_leaf_reg=9, learning_rate=0.3, max_depth=3\n",
      "[CV 3/3; 14/81] END iterations=200, l2_leaf_reg=9, learning_rate=0.3, max_depth=3; total time=   0.7s\n",
      "[CV 1/3; 15/81] START iterations=200, l2_leaf_reg=9, learning_rate=0.3, max_depth=5\n",
      "[CV 1/3; 15/81] END iterations=200, l2_leaf_reg=9, learning_rate=0.3, max_depth=5; total time=   1.0s\n",
      "[CV 2/3; 15/81] START iterations=200, l2_leaf_reg=9, learning_rate=0.3, max_depth=5\n",
      "[CV 2/3; 15/81] END iterations=200, l2_leaf_reg=9, learning_rate=0.3, max_depth=5; total time=   0.9s\n",
      "[CV 3/3; 15/81] START iterations=200, l2_leaf_reg=9, learning_rate=0.3, max_depth=5\n",
      "[CV 3/3; 15/81] END iterations=200, l2_leaf_reg=9, learning_rate=0.3, max_depth=5; total time=   0.9s\n",
      "[CV 1/3; 16/81] START iterations=200, l2_leaf_reg=9, learning_rate=0.5, max_depth=1\n",
      "[CV 1/3; 16/81] END iterations=200, l2_leaf_reg=9, learning_rate=0.5, max_depth=1; total time=   0.7s\n",
      "[CV 2/3; 16/81] START iterations=200, l2_leaf_reg=9, learning_rate=0.5, max_depth=1\n",
      "[CV 2/3; 16/81] END iterations=200, l2_leaf_reg=9, learning_rate=0.5, max_depth=1; total time=   0.7s\n",
      "[CV 3/3; 16/81] START iterations=200, l2_leaf_reg=9, learning_rate=0.5, max_depth=1\n",
      "[CV 3/3; 16/81] END iterations=200, l2_leaf_reg=9, learning_rate=0.5, max_depth=1; total time=   0.7s\n",
      "[CV 1/3; 17/81] START iterations=200, l2_leaf_reg=9, learning_rate=0.5, max_depth=3\n",
      "[CV 1/3; 17/81] END iterations=200, l2_leaf_reg=9, learning_rate=0.5, max_depth=3; total time=   0.7s\n",
      "[CV 2/3; 17/81] START iterations=200, l2_leaf_reg=9, learning_rate=0.5, max_depth=3\n",
      "[CV 2/3; 17/81] END iterations=200, l2_leaf_reg=9, learning_rate=0.5, max_depth=3; total time=   0.7s\n",
      "[CV 3/3; 17/81] START iterations=200, l2_leaf_reg=9, learning_rate=0.5, max_depth=3\n",
      "[CV 3/3; 17/81] END iterations=200, l2_leaf_reg=9, learning_rate=0.5, max_depth=3; total time=   0.8s\n",
      "[CV 1/3; 18/81] START iterations=200, l2_leaf_reg=9, learning_rate=0.5, max_depth=5\n",
      "[CV 1/3; 18/81] END iterations=200, l2_leaf_reg=9, learning_rate=0.5, max_depth=5; total time=   0.9s\n",
      "[CV 2/3; 18/81] START iterations=200, l2_leaf_reg=9, learning_rate=0.5, max_depth=5\n",
      "[CV 2/3; 18/81] END iterations=200, l2_leaf_reg=9, learning_rate=0.5, max_depth=5; total time=   0.9s\n",
      "[CV 3/3; 18/81] START iterations=200, l2_leaf_reg=9, learning_rate=0.5, max_depth=5\n",
      "[CV 3/3; 18/81] END iterations=200, l2_leaf_reg=9, learning_rate=0.5, max_depth=5; total time=   0.9s\n",
      "[CV 1/3; 19/81] START iterations=200, l2_leaf_reg=15, learning_rate=0.1, max_depth=1\n",
      "[CV 1/3; 19/81] END iterations=200, l2_leaf_reg=15, learning_rate=0.1, max_depth=1; total time=   0.8s\n",
      "[CV 2/3; 19/81] START iterations=200, l2_leaf_reg=15, learning_rate=0.1, max_depth=1\n",
      "[CV 2/3; 19/81] END iterations=200, l2_leaf_reg=15, learning_rate=0.1, max_depth=1; total time=   0.7s\n",
      "[CV 3/3; 19/81] START iterations=200, l2_leaf_reg=15, learning_rate=0.1, max_depth=1\n",
      "[CV 3/3; 19/81] END iterations=200, l2_leaf_reg=15, learning_rate=0.1, max_depth=1; total time=   0.8s\n",
      "[CV 1/3; 20/81] START iterations=200, l2_leaf_reg=15, learning_rate=0.1, max_depth=3\n",
      "[CV 1/3; 20/81] END iterations=200, l2_leaf_reg=15, learning_rate=0.1, max_depth=3; total time=   0.9s\n",
      "[CV 2/3; 20/81] START iterations=200, l2_leaf_reg=15, learning_rate=0.1, max_depth=3\n",
      "[CV 2/3; 20/81] END iterations=200, l2_leaf_reg=15, learning_rate=0.1, max_depth=3; total time=   0.9s\n",
      "[CV 3/3; 20/81] START iterations=200, l2_leaf_reg=15, learning_rate=0.1, max_depth=3\n",
      "[CV 3/3; 20/81] END iterations=200, l2_leaf_reg=15, learning_rate=0.1, max_depth=3; total time=   0.8s\n",
      "[CV 1/3; 21/81] START iterations=200, l2_leaf_reg=15, learning_rate=0.1, max_depth=5\n",
      "[CV 1/3; 21/81] END iterations=200, l2_leaf_reg=15, learning_rate=0.1, max_depth=5; total time=   0.9s\n",
      "[CV 2/3; 21/81] START iterations=200, l2_leaf_reg=15, learning_rate=0.1, max_depth=5\n",
      "[CV 2/3; 21/81] END iterations=200, l2_leaf_reg=15, learning_rate=0.1, max_depth=5; total time=   0.9s\n",
      "[CV 3/3; 21/81] START iterations=200, l2_leaf_reg=15, learning_rate=0.1, max_depth=5\n",
      "[CV 3/3; 21/81] END iterations=200, l2_leaf_reg=15, learning_rate=0.1, max_depth=5; total time=   0.9s\n",
      "[CV 1/3; 22/81] START iterations=200, l2_leaf_reg=15, learning_rate=0.3, max_depth=1\n",
      "[CV 1/3; 22/81] END iterations=200, l2_leaf_reg=15, learning_rate=0.3, max_depth=1; total time=   0.8s\n",
      "[CV 2/3; 22/81] START iterations=200, l2_leaf_reg=15, learning_rate=0.3, max_depth=1\n",
      "[CV 2/3; 22/81] END iterations=200, l2_leaf_reg=15, learning_rate=0.3, max_depth=1; total time=   0.7s\n",
      "[CV 3/3; 22/81] START iterations=200, l2_leaf_reg=15, learning_rate=0.3, max_depth=1\n",
      "[CV 3/3; 22/81] END iterations=200, l2_leaf_reg=15, learning_rate=0.3, max_depth=1; total time=   0.7s\n",
      "[CV 1/3; 23/81] START iterations=200, l2_leaf_reg=15, learning_rate=0.3, max_depth=3\n",
      "[CV 1/3; 23/81] END iterations=200, l2_leaf_reg=15, learning_rate=0.3, max_depth=3; total time=   0.8s\n",
      "[CV 2/3; 23/81] START iterations=200, l2_leaf_reg=15, learning_rate=0.3, max_depth=3\n",
      "[CV 2/3; 23/81] END iterations=200, l2_leaf_reg=15, learning_rate=0.3, max_depth=3; total time=   0.7s\n",
      "[CV 3/3; 23/81] START iterations=200, l2_leaf_reg=15, learning_rate=0.3, max_depth=3\n",
      "[CV 3/3; 23/81] END iterations=200, l2_leaf_reg=15, learning_rate=0.3, max_depth=3; total time=   0.9s\n",
      "[CV 1/3; 24/81] START iterations=200, l2_leaf_reg=15, learning_rate=0.3, max_depth=5\n",
      "[CV 1/3; 24/81] END iterations=200, l2_leaf_reg=15, learning_rate=0.3, max_depth=5; total time=   0.9s\n",
      "[CV 2/3; 24/81] START iterations=200, l2_leaf_reg=15, learning_rate=0.3, max_depth=5\n",
      "[CV 2/3; 24/81] END iterations=200, l2_leaf_reg=15, learning_rate=0.3, max_depth=5; total time=   1.0s\n",
      "[CV 3/3; 24/81] START iterations=200, l2_leaf_reg=15, learning_rate=0.3, max_depth=5\n",
      "[CV 3/3; 24/81] END iterations=200, l2_leaf_reg=15, learning_rate=0.3, max_depth=5; total time=   0.9s\n",
      "[CV 1/3; 25/81] START iterations=200, l2_leaf_reg=15, learning_rate=0.5, max_depth=1\n",
      "[CV 1/3; 25/81] END iterations=200, l2_leaf_reg=15, learning_rate=0.5, max_depth=1; total time=   0.7s\n",
      "[CV 2/3; 25/81] START iterations=200, l2_leaf_reg=15, learning_rate=0.5, max_depth=1\n",
      "[CV 2/3; 25/81] END iterations=200, l2_leaf_reg=15, learning_rate=0.5, max_depth=1; total time=   0.7s\n",
      "[CV 3/3; 25/81] START iterations=200, l2_leaf_reg=15, learning_rate=0.5, max_depth=1\n",
      "[CV 3/3; 25/81] END iterations=200, l2_leaf_reg=15, learning_rate=0.5, max_depth=1; total time=   0.8s\n",
      "[CV 1/3; 26/81] START iterations=200, l2_leaf_reg=15, learning_rate=0.5, max_depth=3\n",
      "[CV 1/3; 26/81] END iterations=200, l2_leaf_reg=15, learning_rate=0.5, max_depth=3; total time=   0.8s\n",
      "[CV 2/3; 26/81] START iterations=200, l2_leaf_reg=15, learning_rate=0.5, max_depth=3\n",
      "[CV 2/3; 26/81] END iterations=200, l2_leaf_reg=15, learning_rate=0.5, max_depth=3; total time=   0.8s\n",
      "[CV 3/3; 26/81] START iterations=200, l2_leaf_reg=15, learning_rate=0.5, max_depth=3\n",
      "[CV 3/3; 26/81] END iterations=200, l2_leaf_reg=15, learning_rate=0.5, max_depth=3; total time=   0.8s\n",
      "[CV 1/3; 27/81] START iterations=200, l2_leaf_reg=15, learning_rate=0.5, max_depth=5\n",
      "[CV 1/3; 27/81] END iterations=200, l2_leaf_reg=15, learning_rate=0.5, max_depth=5; total time=   0.9s\n",
      "[CV 2/3; 27/81] START iterations=200, l2_leaf_reg=15, learning_rate=0.5, max_depth=5\n",
      "[CV 2/3; 27/81] END iterations=200, l2_leaf_reg=15, learning_rate=0.5, max_depth=5; total time=   0.9s\n",
      "[CV 3/3; 27/81] START iterations=200, l2_leaf_reg=15, learning_rate=0.5, max_depth=5\n",
      "[CV 3/3; 27/81] END iterations=200, l2_leaf_reg=15, learning_rate=0.5, max_depth=5; total time=   1.0s\n",
      "[CV 1/3; 28/81] START iterations=400, l2_leaf_reg=3, learning_rate=0.1, max_depth=1\n",
      "[CV 1/3; 28/81] END iterations=400, l2_leaf_reg=3, learning_rate=0.1, max_depth=1; total time=   1.0s\n",
      "[CV 2/3; 28/81] START iterations=400, l2_leaf_reg=3, learning_rate=0.1, max_depth=1\n",
      "[CV 2/3; 28/81] END iterations=400, l2_leaf_reg=3, learning_rate=0.1, max_depth=1; total time=   1.0s\n",
      "[CV 3/3; 28/81] START iterations=400, l2_leaf_reg=3, learning_rate=0.1, max_depth=1\n",
      "[CV 3/3; 28/81] END iterations=400, l2_leaf_reg=3, learning_rate=0.1, max_depth=1; total time=   0.9s\n",
      "[CV 1/3; 29/81] START iterations=400, l2_leaf_reg=3, learning_rate=0.1, max_depth=3\n",
      "[CV 1/3; 29/81] END iterations=400, l2_leaf_reg=3, learning_rate=0.1, max_depth=3; total time=   1.1s\n",
      "[CV 2/3; 29/81] START iterations=400, l2_leaf_reg=3, learning_rate=0.1, max_depth=3\n",
      "[CV 2/3; 29/81] END iterations=400, l2_leaf_reg=3, learning_rate=0.1, max_depth=3; total time=   1.2s\n",
      "[CV 3/3; 29/81] START iterations=400, l2_leaf_reg=3, learning_rate=0.1, max_depth=3\n",
      "[CV 3/3; 29/81] END iterations=400, l2_leaf_reg=3, learning_rate=0.1, max_depth=3; total time=   1.1s\n",
      "[CV 1/3; 30/81] START iterations=400, l2_leaf_reg=3, learning_rate=0.1, max_depth=5\n",
      "[CV 1/3; 30/81] END iterations=400, l2_leaf_reg=3, learning_rate=0.1, max_depth=5; total time=   1.2s\n",
      "[CV 2/3; 30/81] START iterations=400, l2_leaf_reg=3, learning_rate=0.1, max_depth=5\n",
      "[CV 2/3; 30/81] END iterations=400, l2_leaf_reg=3, learning_rate=0.1, max_depth=5; total time=   1.3s\n",
      "[CV 3/3; 30/81] START iterations=400, l2_leaf_reg=3, learning_rate=0.1, max_depth=5\n",
      "[CV 3/3; 30/81] END iterations=400, l2_leaf_reg=3, learning_rate=0.1, max_depth=5; total time=   1.7s\n",
      "[CV 1/3; 31/81] START iterations=400, l2_leaf_reg=3, learning_rate=0.3, max_depth=1\n",
      "[CV 1/3; 31/81] END iterations=400, l2_leaf_reg=3, learning_rate=0.3, max_depth=1; total time=   1.4s\n",
      "[CV 2/3; 31/81] START iterations=400, l2_leaf_reg=3, learning_rate=0.3, max_depth=1\n",
      "[CV 2/3; 31/81] END iterations=400, l2_leaf_reg=3, learning_rate=0.3, max_depth=1; total time=   1.3s\n",
      "[CV 3/3; 31/81] START iterations=400, l2_leaf_reg=3, learning_rate=0.3, max_depth=1\n",
      "[CV 3/3; 31/81] END iterations=400, l2_leaf_reg=3, learning_rate=0.3, max_depth=1; total time=   1.0s\n",
      "[CV 1/3; 32/81] START iterations=400, l2_leaf_reg=3, learning_rate=0.3, max_depth=3\n",
      "[CV 1/3; 32/81] END iterations=400, l2_leaf_reg=3, learning_rate=0.3, max_depth=3; total time=   1.0s\n",
      "[CV 2/3; 32/81] START iterations=400, l2_leaf_reg=3, learning_rate=0.3, max_depth=3\n",
      "[CV 2/3; 32/81] END iterations=400, l2_leaf_reg=3, learning_rate=0.3, max_depth=3; total time=   1.1s\n",
      "[CV 3/3; 32/81] START iterations=400, l2_leaf_reg=3, learning_rate=0.3, max_depth=3\n",
      "[CV 3/3; 32/81] END iterations=400, l2_leaf_reg=3, learning_rate=0.3, max_depth=3; total time=   1.0s\n",
      "[CV 1/3; 33/81] START iterations=400, l2_leaf_reg=3, learning_rate=0.3, max_depth=5\n",
      "[CV 1/3; 33/81] END iterations=400, l2_leaf_reg=3, learning_rate=0.3, max_depth=5; total time=   1.3s\n",
      "[CV 2/3; 33/81] START iterations=400, l2_leaf_reg=3, learning_rate=0.3, max_depth=5\n",
      "[CV 2/3; 33/81] END iterations=400, l2_leaf_reg=3, learning_rate=0.3, max_depth=5; total time=   1.4s\n",
      "[CV 3/3; 33/81] START iterations=400, l2_leaf_reg=3, learning_rate=0.3, max_depth=5\n",
      "[CV 3/3; 33/81] END iterations=400, l2_leaf_reg=3, learning_rate=0.3, max_depth=5; total time=   1.4s\n",
      "[CV 1/3; 34/81] START iterations=400, l2_leaf_reg=3, learning_rate=0.5, max_depth=1\n",
      "[CV 1/3; 34/81] END iterations=400, l2_leaf_reg=3, learning_rate=0.5, max_depth=1; total time=   1.0s\n",
      "[CV 2/3; 34/81] START iterations=400, l2_leaf_reg=3, learning_rate=0.5, max_depth=1\n",
      "[CV 2/3; 34/81] END iterations=400, l2_leaf_reg=3, learning_rate=0.5, max_depth=1; total time=   0.9s\n",
      "[CV 3/3; 34/81] START iterations=400, l2_leaf_reg=3, learning_rate=0.5, max_depth=1\n",
      "[CV 3/3; 34/81] END iterations=400, l2_leaf_reg=3, learning_rate=0.5, max_depth=1; total time=   0.9s\n",
      "[CV 1/3; 35/81] START iterations=400, l2_leaf_reg=3, learning_rate=0.5, max_depth=3\n",
      "[CV 1/3; 35/81] END iterations=400, l2_leaf_reg=3, learning_rate=0.5, max_depth=3; total time=   1.0s\n",
      "[CV 2/3; 35/81] START iterations=400, l2_leaf_reg=3, learning_rate=0.5, max_depth=3\n",
      "[CV 2/3; 35/81] END iterations=400, l2_leaf_reg=3, learning_rate=0.5, max_depth=3; total time=   1.1s\n",
      "[CV 3/3; 35/81] START iterations=400, l2_leaf_reg=3, learning_rate=0.5, max_depth=3\n",
      "[CV 3/3; 35/81] END iterations=400, l2_leaf_reg=3, learning_rate=0.5, max_depth=3; total time=   1.0s\n",
      "[CV 1/3; 36/81] START iterations=400, l2_leaf_reg=3, learning_rate=0.5, max_depth=5\n",
      "[CV 1/3; 36/81] END iterations=400, l2_leaf_reg=3, learning_rate=0.5, max_depth=5; total time=   1.3s\n",
      "[CV 2/3; 36/81] START iterations=400, l2_leaf_reg=3, learning_rate=0.5, max_depth=5\n",
      "[CV 2/3; 36/81] END iterations=400, l2_leaf_reg=3, learning_rate=0.5, max_depth=5; total time=   1.2s\n",
      "[CV 3/3; 36/81] START iterations=400, l2_leaf_reg=3, learning_rate=0.5, max_depth=5\n",
      "[CV 3/3; 36/81] END iterations=400, l2_leaf_reg=3, learning_rate=0.5, max_depth=5; total time=   1.3s\n",
      "[CV 1/3; 37/81] START iterations=400, l2_leaf_reg=9, learning_rate=0.1, max_depth=1\n",
      "[CV 1/3; 37/81] END iterations=400, l2_leaf_reg=9, learning_rate=0.1, max_depth=1; total time=   0.9s\n",
      "[CV 2/3; 37/81] START iterations=400, l2_leaf_reg=9, learning_rate=0.1, max_depth=1\n",
      "[CV 2/3; 37/81] END iterations=400, l2_leaf_reg=9, learning_rate=0.1, max_depth=1; total time=   1.0s\n",
      "[CV 3/3; 37/81] START iterations=400, l2_leaf_reg=9, learning_rate=0.1, max_depth=1\n",
      "[CV 3/3; 37/81] END iterations=400, l2_leaf_reg=9, learning_rate=0.1, max_depth=1; total time=   0.9s\n",
      "[CV 1/3; 38/81] START iterations=400, l2_leaf_reg=9, learning_rate=0.1, max_depth=3\n",
      "[CV 1/3; 38/81] END iterations=400, l2_leaf_reg=9, learning_rate=0.1, max_depth=3; total time=   1.0s\n",
      "[CV 2/3; 38/81] START iterations=400, l2_leaf_reg=9, learning_rate=0.1, max_depth=3\n",
      "[CV 2/3; 38/81] END iterations=400, l2_leaf_reg=9, learning_rate=0.1, max_depth=3; total time=   1.0s\n",
      "[CV 3/3; 38/81] START iterations=400, l2_leaf_reg=9, learning_rate=0.1, max_depth=3\n",
      "[CV 3/3; 38/81] END iterations=400, l2_leaf_reg=9, learning_rate=0.1, max_depth=3; total time=   1.2s\n",
      "[CV 1/3; 39/81] START iterations=400, l2_leaf_reg=9, learning_rate=0.1, max_depth=5\n",
      "[CV 1/3; 39/81] END iterations=400, l2_leaf_reg=9, learning_rate=0.1, max_depth=5; total time=   1.4s\n",
      "[CV 2/3; 39/81] START iterations=400, l2_leaf_reg=9, learning_rate=0.1, max_depth=5\n",
      "[CV 2/3; 39/81] END iterations=400, l2_leaf_reg=9, learning_rate=0.1, max_depth=5; total time=   1.3s\n",
      "[CV 3/3; 39/81] START iterations=400, l2_leaf_reg=9, learning_rate=0.1, max_depth=5\n",
      "[CV 3/3; 39/81] END iterations=400, l2_leaf_reg=9, learning_rate=0.1, max_depth=5; total time=   1.4s\n",
      "[CV 1/3; 40/81] START iterations=400, l2_leaf_reg=9, learning_rate=0.3, max_depth=1\n",
      "[CV 1/3; 40/81] END iterations=400, l2_leaf_reg=9, learning_rate=0.3, max_depth=1; total time=   0.9s\n",
      "[CV 2/3; 40/81] START iterations=400, l2_leaf_reg=9, learning_rate=0.3, max_depth=1\n",
      "[CV 2/3; 40/81] END iterations=400, l2_leaf_reg=9, learning_rate=0.3, max_depth=1; total time=   0.9s\n",
      "[CV 3/3; 40/81] START iterations=400, l2_leaf_reg=9, learning_rate=0.3, max_depth=1\n",
      "[CV 3/3; 40/81] END iterations=400, l2_leaf_reg=9, learning_rate=0.3, max_depth=1; total time=   1.1s\n",
      "[CV 1/3; 41/81] START iterations=400, l2_leaf_reg=9, learning_rate=0.3, max_depth=3\n",
      "[CV 1/3; 41/81] END iterations=400, l2_leaf_reg=9, learning_rate=0.3, max_depth=3; total time=   1.1s\n",
      "[CV 2/3; 41/81] START iterations=400, l2_leaf_reg=9, learning_rate=0.3, max_depth=3\n",
      "[CV 2/3; 41/81] END iterations=400, l2_leaf_reg=9, learning_rate=0.3, max_depth=3; total time=   1.0s\n",
      "[CV 3/3; 41/81] START iterations=400, l2_leaf_reg=9, learning_rate=0.3, max_depth=3\n",
      "[CV 3/3; 41/81] END iterations=400, l2_leaf_reg=9, learning_rate=0.3, max_depth=3; total time=   1.0s\n",
      "[CV 1/3; 42/81] START iterations=400, l2_leaf_reg=9, learning_rate=0.3, max_depth=5\n",
      "[CV 1/3; 42/81] END iterations=400, l2_leaf_reg=9, learning_rate=0.3, max_depth=5; total time=   1.3s\n",
      "[CV 2/3; 42/81] START iterations=400, l2_leaf_reg=9, learning_rate=0.3, max_depth=5\n",
      "[CV 2/3; 42/81] END iterations=400, l2_leaf_reg=9, learning_rate=0.3, max_depth=5; total time=   1.3s\n",
      "[CV 3/3; 42/81] START iterations=400, l2_leaf_reg=9, learning_rate=0.3, max_depth=5\n",
      "[CV 3/3; 42/81] END iterations=400, l2_leaf_reg=9, learning_rate=0.3, max_depth=5; total time=   1.4s\n",
      "[CV 1/3; 43/81] START iterations=400, l2_leaf_reg=9, learning_rate=0.5, max_depth=1\n",
      "[CV 1/3; 43/81] END iterations=400, l2_leaf_reg=9, learning_rate=0.5, max_depth=1; total time=   0.9s\n",
      "[CV 2/3; 43/81] START iterations=400, l2_leaf_reg=9, learning_rate=0.5, max_depth=1\n",
      "[CV 2/3; 43/81] END iterations=400, l2_leaf_reg=9, learning_rate=0.5, max_depth=1; total time=   1.0s\n",
      "[CV 3/3; 43/81] START iterations=400, l2_leaf_reg=9, learning_rate=0.5, max_depth=1\n",
      "[CV 3/3; 43/81] END iterations=400, l2_leaf_reg=9, learning_rate=0.5, max_depth=1; total time=   0.9s\n",
      "[CV 1/3; 44/81] START iterations=400, l2_leaf_reg=9, learning_rate=0.5, max_depth=3\n",
      "[CV 1/3; 44/81] END iterations=400, l2_leaf_reg=9, learning_rate=0.5, max_depth=3; total time=   1.1s\n",
      "[CV 2/3; 44/81] START iterations=400, l2_leaf_reg=9, learning_rate=0.5, max_depth=3\n",
      "[CV 2/3; 44/81] END iterations=400, l2_leaf_reg=9, learning_rate=0.5, max_depth=3; total time=   1.2s\n",
      "[CV 3/3; 44/81] START iterations=400, l2_leaf_reg=9, learning_rate=0.5, max_depth=3\n",
      "[CV 3/3; 44/81] END iterations=400, l2_leaf_reg=9, learning_rate=0.5, max_depth=3; total time=   1.1s\n",
      "[CV 1/3; 45/81] START iterations=400, l2_leaf_reg=9, learning_rate=0.5, max_depth=5\n",
      "[CV 1/3; 45/81] END iterations=400, l2_leaf_reg=9, learning_rate=0.5, max_depth=5; total time=   1.3s\n",
      "[CV 2/3; 45/81] START iterations=400, l2_leaf_reg=9, learning_rate=0.5, max_depth=5\n",
      "[CV 2/3; 45/81] END iterations=400, l2_leaf_reg=9, learning_rate=0.5, max_depth=5; total time=   1.3s\n",
      "[CV 3/3; 45/81] START iterations=400, l2_leaf_reg=9, learning_rate=0.5, max_depth=5\n",
      "[CV 3/3; 45/81] END iterations=400, l2_leaf_reg=9, learning_rate=0.5, max_depth=5; total time=   1.3s\n",
      "[CV 1/3; 46/81] START iterations=400, l2_leaf_reg=15, learning_rate=0.1, max_depth=1\n",
      "[CV 1/3; 46/81] END iterations=400, l2_leaf_reg=15, learning_rate=0.1, max_depth=1; total time=   0.9s\n",
      "[CV 2/3; 46/81] START iterations=400, l2_leaf_reg=15, learning_rate=0.1, max_depth=1\n",
      "[CV 2/3; 46/81] END iterations=400, l2_leaf_reg=15, learning_rate=0.1, max_depth=1; total time=   0.9s\n",
      "[CV 3/3; 46/81] START iterations=400, l2_leaf_reg=15, learning_rate=0.1, max_depth=1\n",
      "[CV 3/3; 46/81] END iterations=400, l2_leaf_reg=15, learning_rate=0.1, max_depth=1; total time=   0.9s\n",
      "[CV 1/3; 47/81] START iterations=400, l2_leaf_reg=15, learning_rate=0.1, max_depth=3\n",
      "[CV 1/3; 47/81] END iterations=400, l2_leaf_reg=15, learning_rate=0.1, max_depth=3; total time=   1.1s\n",
      "[CV 2/3; 47/81] START iterations=400, l2_leaf_reg=15, learning_rate=0.1, max_depth=3\n",
      "[CV 2/3; 47/81] END iterations=400, l2_leaf_reg=15, learning_rate=0.1, max_depth=3; total time=   1.1s\n",
      "[CV 3/3; 47/81] START iterations=400, l2_leaf_reg=15, learning_rate=0.1, max_depth=3\n",
      "[CV 3/3; 47/81] END iterations=400, l2_leaf_reg=15, learning_rate=0.1, max_depth=3; total time=   1.0s\n",
      "[CV 1/3; 48/81] START iterations=400, l2_leaf_reg=15, learning_rate=0.1, max_depth=5\n",
      "[CV 1/3; 48/81] END iterations=400, l2_leaf_reg=15, learning_rate=0.1, max_depth=5; total time=   1.3s\n",
      "[CV 2/3; 48/81] START iterations=400, l2_leaf_reg=15, learning_rate=0.1, max_depth=5\n",
      "[CV 2/3; 48/81] END iterations=400, l2_leaf_reg=15, learning_rate=0.1, max_depth=5; total time=   1.3s\n",
      "[CV 3/3; 48/81] START iterations=400, l2_leaf_reg=15, learning_rate=0.1, max_depth=5\n",
      "[CV 3/3; 48/81] END iterations=400, l2_leaf_reg=15, learning_rate=0.1, max_depth=5; total time=   1.4s\n",
      "[CV 1/3; 49/81] START iterations=400, l2_leaf_reg=15, learning_rate=0.3, max_depth=1\n",
      "[CV 1/3; 49/81] END iterations=400, l2_leaf_reg=15, learning_rate=0.3, max_depth=1; total time=   1.1s\n",
      "[CV 2/3; 49/81] START iterations=400, l2_leaf_reg=15, learning_rate=0.3, max_depth=1\n",
      "[CV 2/3; 49/81] END iterations=400, l2_leaf_reg=15, learning_rate=0.3, max_depth=1; total time=   1.1s\n",
      "[CV 3/3; 49/81] START iterations=400, l2_leaf_reg=15, learning_rate=0.3, max_depth=1\n",
      "[CV 3/3; 49/81] END iterations=400, l2_leaf_reg=15, learning_rate=0.3, max_depth=1; total time=   1.0s\n",
      "[CV 1/3; 50/81] START iterations=400, l2_leaf_reg=15, learning_rate=0.3, max_depth=3\n",
      "[CV 1/3; 50/81] END iterations=400, l2_leaf_reg=15, learning_rate=0.3, max_depth=3; total time=   1.2s\n",
      "[CV 2/3; 50/81] START iterations=400, l2_leaf_reg=15, learning_rate=0.3, max_depth=3\n",
      "[CV 2/3; 50/81] END iterations=400, l2_leaf_reg=15, learning_rate=0.3, max_depth=3; total time=   1.1s\n",
      "[CV 3/3; 50/81] START iterations=400, l2_leaf_reg=15, learning_rate=0.3, max_depth=3\n",
      "[CV 3/3; 50/81] END iterations=400, l2_leaf_reg=15, learning_rate=0.3, max_depth=3; total time=   1.1s\n",
      "[CV 1/3; 51/81] START iterations=400, l2_leaf_reg=15, learning_rate=0.3, max_depth=5\n",
      "[CV 1/3; 51/81] END iterations=400, l2_leaf_reg=15, learning_rate=0.3, max_depth=5; total time=   1.3s\n",
      "[CV 2/3; 51/81] START iterations=400, l2_leaf_reg=15, learning_rate=0.3, max_depth=5\n",
      "[CV 2/3; 51/81] END iterations=400, l2_leaf_reg=15, learning_rate=0.3, max_depth=5; total time=   1.3s\n",
      "[CV 3/3; 51/81] START iterations=400, l2_leaf_reg=15, learning_rate=0.3, max_depth=5\n",
      "[CV 3/3; 51/81] END iterations=400, l2_leaf_reg=15, learning_rate=0.3, max_depth=5; total time=   1.3s\n",
      "[CV 1/3; 52/81] START iterations=400, l2_leaf_reg=15, learning_rate=0.5, max_depth=1\n",
      "[CV 1/3; 52/81] END iterations=400, l2_leaf_reg=15, learning_rate=0.5, max_depth=1; total time=   0.9s\n",
      "[CV 2/3; 52/81] START iterations=400, l2_leaf_reg=15, learning_rate=0.5, max_depth=1\n",
      "[CV 2/3; 52/81] END iterations=400, l2_leaf_reg=15, learning_rate=0.5, max_depth=1; total time=   1.0s\n",
      "[CV 3/3; 52/81] START iterations=400, l2_leaf_reg=15, learning_rate=0.5, max_depth=1\n",
      "[CV 3/3; 52/81] END iterations=400, l2_leaf_reg=15, learning_rate=0.5, max_depth=1; total time=   0.9s\n",
      "[CV 1/3; 53/81] START iterations=400, l2_leaf_reg=15, learning_rate=0.5, max_depth=3\n",
      "[CV 1/3; 53/81] END iterations=400, l2_leaf_reg=15, learning_rate=0.5, max_depth=3; total time=   1.2s\n",
      "[CV 2/3; 53/81] START iterations=400, l2_leaf_reg=15, learning_rate=0.5, max_depth=3\n",
      "[CV 2/3; 53/81] END iterations=400, l2_leaf_reg=15, learning_rate=0.5, max_depth=3; total time=   1.0s\n",
      "[CV 3/3; 53/81] START iterations=400, l2_leaf_reg=15, learning_rate=0.5, max_depth=3\n",
      "[CV 3/3; 53/81] END iterations=400, l2_leaf_reg=15, learning_rate=0.5, max_depth=3; total time=   1.0s\n",
      "[CV 1/3; 54/81] START iterations=400, l2_leaf_reg=15, learning_rate=0.5, max_depth=5\n",
      "[CV 1/3; 54/81] END iterations=400, l2_leaf_reg=15, learning_rate=0.5, max_depth=5; total time=   1.2s\n",
      "[CV 2/3; 54/81] START iterations=400, l2_leaf_reg=15, learning_rate=0.5, max_depth=5\n",
      "[CV 2/3; 54/81] END iterations=400, l2_leaf_reg=15, learning_rate=0.5, max_depth=5; total time=   1.2s\n",
      "[CV 3/3; 54/81] START iterations=400, l2_leaf_reg=15, learning_rate=0.5, max_depth=5\n",
      "[CV 3/3; 54/81] END iterations=400, l2_leaf_reg=15, learning_rate=0.5, max_depth=5; total time=   1.3s\n",
      "[CV 1/3; 55/81] START iterations=500, l2_leaf_reg=3, learning_rate=0.1, max_depth=1\n",
      "[CV 1/3; 55/81] END iterations=500, l2_leaf_reg=3, learning_rate=0.1, max_depth=1; total time=   1.0s\n",
      "[CV 2/3; 55/81] START iterations=500, l2_leaf_reg=3, learning_rate=0.1, max_depth=1\n",
      "[CV 2/3; 55/81] END iterations=500, l2_leaf_reg=3, learning_rate=0.1, max_depth=1; total time=   1.0s\n",
      "[CV 3/3; 55/81] START iterations=500, l2_leaf_reg=3, learning_rate=0.1, max_depth=1\n",
      "[CV 3/3; 55/81] END iterations=500, l2_leaf_reg=3, learning_rate=0.1, max_depth=1; total time=   1.0s\n",
      "[CV 1/3; 56/81] START iterations=500, l2_leaf_reg=3, learning_rate=0.1, max_depth=3\n",
      "[CV 1/3; 56/81] END iterations=500, l2_leaf_reg=3, learning_rate=0.1, max_depth=3; total time=   1.2s\n",
      "[CV 2/3; 56/81] START iterations=500, l2_leaf_reg=3, learning_rate=0.1, max_depth=3\n",
      "[CV 2/3; 56/81] END iterations=500, l2_leaf_reg=3, learning_rate=0.1, max_depth=3; total time=   1.2s\n",
      "[CV 3/3; 56/81] START iterations=500, l2_leaf_reg=3, learning_rate=0.1, max_depth=3\n",
      "[CV 3/3; 56/81] END iterations=500, l2_leaf_reg=3, learning_rate=0.1, max_depth=3; total time=   1.1s\n",
      "[CV 1/3; 57/81] START iterations=500, l2_leaf_reg=3, learning_rate=0.1, max_depth=5\n",
      "[CV 1/3; 57/81] END iterations=500, l2_leaf_reg=3, learning_rate=0.1, max_depth=5; total time=   1.4s\n",
      "[CV 2/3; 57/81] START iterations=500, l2_leaf_reg=3, learning_rate=0.1, max_depth=5\n",
      "[CV 2/3; 57/81] END iterations=500, l2_leaf_reg=3, learning_rate=0.1, max_depth=5; total time=   1.6s\n",
      "[CV 3/3; 57/81] START iterations=500, l2_leaf_reg=3, learning_rate=0.1, max_depth=5\n",
      "[CV 3/3; 57/81] END iterations=500, l2_leaf_reg=3, learning_rate=0.1, max_depth=5; total time=   1.5s\n",
      "[CV 1/3; 58/81] START iterations=500, l2_leaf_reg=3, learning_rate=0.3, max_depth=1\n",
      "[CV 1/3; 58/81] END iterations=500, l2_leaf_reg=3, learning_rate=0.3, max_depth=1; total time=   1.0s\n",
      "[CV 2/3; 58/81] START iterations=500, l2_leaf_reg=3, learning_rate=0.3, max_depth=1\n",
      "[CV 2/3; 58/81] END iterations=500, l2_leaf_reg=3, learning_rate=0.3, max_depth=1; total time=   0.9s\n",
      "[CV 3/3; 58/81] START iterations=500, l2_leaf_reg=3, learning_rate=0.3, max_depth=1\n",
      "[CV 3/3; 58/81] END iterations=500, l2_leaf_reg=3, learning_rate=0.3, max_depth=1; total time=   1.0s\n",
      "[CV 1/3; 59/81] START iterations=500, l2_leaf_reg=3, learning_rate=0.3, max_depth=3\n",
      "[CV 1/3; 59/81] END iterations=500, l2_leaf_reg=3, learning_rate=0.3, max_depth=3; total time=   1.2s\n",
      "[CV 2/3; 59/81] START iterations=500, l2_leaf_reg=3, learning_rate=0.3, max_depth=3\n",
      "[CV 2/3; 59/81] END iterations=500, l2_leaf_reg=3, learning_rate=0.3, max_depth=3; total time=   1.1s\n",
      "[CV 3/3; 59/81] START iterations=500, l2_leaf_reg=3, learning_rate=0.3, max_depth=3\n",
      "[CV 3/3; 59/81] END iterations=500, l2_leaf_reg=3, learning_rate=0.3, max_depth=3; total time=   1.2s\n",
      "[CV 1/3; 60/81] START iterations=500, l2_leaf_reg=3, learning_rate=0.3, max_depth=5\n",
      "[CV 1/3; 60/81] END iterations=500, l2_leaf_reg=3, learning_rate=0.3, max_depth=5; total time=   1.4s\n",
      "[CV 2/3; 60/81] START iterations=500, l2_leaf_reg=3, learning_rate=0.3, max_depth=5\n",
      "[CV 2/3; 60/81] END iterations=500, l2_leaf_reg=3, learning_rate=0.3, max_depth=5; total time=   1.5s\n",
      "[CV 3/3; 60/81] START iterations=500, l2_leaf_reg=3, learning_rate=0.3, max_depth=5\n",
      "[CV 3/3; 60/81] END iterations=500, l2_leaf_reg=3, learning_rate=0.3, max_depth=5; total time=   1.5s\n",
      "[CV 1/3; 61/81] START iterations=500, l2_leaf_reg=3, learning_rate=0.5, max_depth=1\n",
      "[CV 1/3; 61/81] END iterations=500, l2_leaf_reg=3, learning_rate=0.5, max_depth=1; total time=   1.0s\n",
      "[CV 2/3; 61/81] START iterations=500, l2_leaf_reg=3, learning_rate=0.5, max_depth=1\n",
      "[CV 2/3; 61/81] END iterations=500, l2_leaf_reg=3, learning_rate=0.5, max_depth=1; total time=   1.0s\n",
      "[CV 3/3; 61/81] START iterations=500, l2_leaf_reg=3, learning_rate=0.5, max_depth=1\n",
      "[CV 3/3; 61/81] END iterations=500, l2_leaf_reg=3, learning_rate=0.5, max_depth=1; total time=   1.0s\n",
      "[CV 1/3; 62/81] START iterations=500, l2_leaf_reg=3, learning_rate=0.5, max_depth=3\n",
      "[CV 1/3; 62/81] END iterations=500, l2_leaf_reg=3, learning_rate=0.5, max_depth=3; total time=   1.2s\n",
      "[CV 2/3; 62/81] START iterations=500, l2_leaf_reg=3, learning_rate=0.5, max_depth=3\n",
      "[CV 2/3; 62/81] END iterations=500, l2_leaf_reg=3, learning_rate=0.5, max_depth=3; total time=   1.2s\n",
      "[CV 3/3; 62/81] START iterations=500, l2_leaf_reg=3, learning_rate=0.5, max_depth=3\n",
      "[CV 3/3; 62/81] END iterations=500, l2_leaf_reg=3, learning_rate=0.5, max_depth=3; total time=   1.1s\n",
      "[CV 1/3; 63/81] START iterations=500, l2_leaf_reg=3, learning_rate=0.5, max_depth=5\n",
      "[CV 1/3; 63/81] END iterations=500, l2_leaf_reg=3, learning_rate=0.5, max_depth=5; total time=   1.5s\n",
      "[CV 2/3; 63/81] START iterations=500, l2_leaf_reg=3, learning_rate=0.5, max_depth=5\n",
      "[CV 2/3; 63/81] END iterations=500, l2_leaf_reg=3, learning_rate=0.5, max_depth=5; total time=   1.5s\n",
      "[CV 3/3; 63/81] START iterations=500, l2_leaf_reg=3, learning_rate=0.5, max_depth=5\n",
      "[CV 3/3; 63/81] END iterations=500, l2_leaf_reg=3, learning_rate=0.5, max_depth=5; total time=   1.3s\n",
      "[CV 1/3; 64/81] START iterations=500, l2_leaf_reg=9, learning_rate=0.1, max_depth=1\n",
      "[CV 1/3; 64/81] END iterations=500, l2_leaf_reg=9, learning_rate=0.1, max_depth=1; total time=   1.0s\n",
      "[CV 2/3; 64/81] START iterations=500, l2_leaf_reg=9, learning_rate=0.1, max_depth=1\n",
      "[CV 2/3; 64/81] END iterations=500, l2_leaf_reg=9, learning_rate=0.1, max_depth=1; total time=   0.9s\n",
      "[CV 3/3; 64/81] START iterations=500, l2_leaf_reg=9, learning_rate=0.1, max_depth=1\n",
      "[CV 3/3; 64/81] END iterations=500, l2_leaf_reg=9, learning_rate=0.1, max_depth=1; total time=   1.1s\n",
      "[CV 1/3; 65/81] START iterations=500, l2_leaf_reg=9, learning_rate=0.1, max_depth=3\n",
      "[CV 1/3; 65/81] END iterations=500, l2_leaf_reg=9, learning_rate=0.1, max_depth=3; total time=   1.1s\n",
      "[CV 2/3; 65/81] START iterations=500, l2_leaf_reg=9, learning_rate=0.1, max_depth=3\n",
      "[CV 2/3; 65/81] END iterations=500, l2_leaf_reg=9, learning_rate=0.1, max_depth=3; total time=   1.1s\n",
      "[CV 3/3; 65/81] START iterations=500, l2_leaf_reg=9, learning_rate=0.1, max_depth=3\n",
      "[CV 3/3; 65/81] END iterations=500, l2_leaf_reg=9, learning_rate=0.1, max_depth=3; total time=   1.3s\n",
      "[CV 1/3; 66/81] START iterations=500, l2_leaf_reg=9, learning_rate=0.1, max_depth=5\n",
      "[CV 1/3; 66/81] END iterations=500, l2_leaf_reg=9, learning_rate=0.1, max_depth=5; total time=   1.6s\n",
      "[CV 2/3; 66/81] START iterations=500, l2_leaf_reg=9, learning_rate=0.1, max_depth=5\n",
      "[CV 2/3; 66/81] END iterations=500, l2_leaf_reg=9, learning_rate=0.1, max_depth=5; total time=   1.5s\n",
      "[CV 3/3; 66/81] START iterations=500, l2_leaf_reg=9, learning_rate=0.1, max_depth=5\n",
      "[CV 3/3; 66/81] END iterations=500, l2_leaf_reg=9, learning_rate=0.1, max_depth=5; total time=   1.6s\n",
      "[CV 1/3; 67/81] START iterations=500, l2_leaf_reg=9, learning_rate=0.3, max_depth=1\n",
      "[CV 1/3; 67/81] END iterations=500, l2_leaf_reg=9, learning_rate=0.3, max_depth=1; total time=   1.1s\n",
      "[CV 2/3; 67/81] START iterations=500, l2_leaf_reg=9, learning_rate=0.3, max_depth=1\n",
      "[CV 2/3; 67/81] END iterations=500, l2_leaf_reg=9, learning_rate=0.3, max_depth=1; total time=   1.1s\n",
      "[CV 3/3; 67/81] START iterations=500, l2_leaf_reg=9, learning_rate=0.3, max_depth=1\n",
      "[CV 3/3; 67/81] END iterations=500, l2_leaf_reg=9, learning_rate=0.3, max_depth=1; total time=   1.0s\n",
      "[CV 1/3; 68/81] START iterations=500, l2_leaf_reg=9, learning_rate=0.3, max_depth=3\n",
      "[CV 1/3; 68/81] END iterations=500, l2_leaf_reg=9, learning_rate=0.3, max_depth=3; total time=   1.3s\n",
      "[CV 2/3; 68/81] START iterations=500, l2_leaf_reg=9, learning_rate=0.3, max_depth=3\n",
      "[CV 2/3; 68/81] END iterations=500, l2_leaf_reg=9, learning_rate=0.3, max_depth=3; total time=   1.2s\n",
      "[CV 3/3; 68/81] START iterations=500, l2_leaf_reg=9, learning_rate=0.3, max_depth=3\n",
      "[CV 3/3; 68/81] END iterations=500, l2_leaf_reg=9, learning_rate=0.3, max_depth=3; total time=   1.3s\n",
      "[CV 1/3; 69/81] START iterations=500, l2_leaf_reg=9, learning_rate=0.3, max_depth=5\n",
      "[CV 1/3; 69/81] END iterations=500, l2_leaf_reg=9, learning_rate=0.3, max_depth=5; total time=   1.5s\n",
      "[CV 2/3; 69/81] START iterations=500, l2_leaf_reg=9, learning_rate=0.3, max_depth=5\n",
      "[CV 2/3; 69/81] END iterations=500, l2_leaf_reg=9, learning_rate=0.3, max_depth=5; total time=   1.5s\n",
      "[CV 3/3; 69/81] START iterations=500, l2_leaf_reg=9, learning_rate=0.3, max_depth=5\n",
      "[CV 3/3; 69/81] END iterations=500, l2_leaf_reg=9, learning_rate=0.3, max_depth=5; total time=   1.5s\n",
      "[CV 1/3; 70/81] START iterations=500, l2_leaf_reg=9, learning_rate=0.5, max_depth=1\n",
      "[CV 1/3; 70/81] END iterations=500, l2_leaf_reg=9, learning_rate=0.5, max_depth=1; total time=   1.0s\n",
      "[CV 2/3; 70/81] START iterations=500, l2_leaf_reg=9, learning_rate=0.5, max_depth=1\n",
      "[CV 2/3; 70/81] END iterations=500, l2_leaf_reg=9, learning_rate=0.5, max_depth=1; total time=   1.0s\n",
      "[CV 3/3; 70/81] START iterations=500, l2_leaf_reg=9, learning_rate=0.5, max_depth=1\n",
      "[CV 3/3; 70/81] END iterations=500, l2_leaf_reg=9, learning_rate=0.5, max_depth=1; total time=   1.1s\n",
      "[CV 1/3; 71/81] START iterations=500, l2_leaf_reg=9, learning_rate=0.5, max_depth=3\n",
      "[CV 1/3; 71/81] END iterations=500, l2_leaf_reg=9, learning_rate=0.5, max_depth=3; total time=   1.2s\n",
      "[CV 2/3; 71/81] START iterations=500, l2_leaf_reg=9, learning_rate=0.5, max_depth=3\n",
      "[CV 2/3; 71/81] END iterations=500, l2_leaf_reg=9, learning_rate=0.5, max_depth=3; total time=   1.2s\n",
      "[CV 3/3; 71/81] START iterations=500, l2_leaf_reg=9, learning_rate=0.5, max_depth=3\n",
      "[CV 3/3; 71/81] END iterations=500, l2_leaf_reg=9, learning_rate=0.5, max_depth=3; total time=   1.2s\n",
      "[CV 1/3; 72/81] START iterations=500, l2_leaf_reg=9, learning_rate=0.5, max_depth=5\n",
      "[CV 1/3; 72/81] END iterations=500, l2_leaf_reg=9, learning_rate=0.5, max_depth=5; total time=   1.4s\n",
      "[CV 2/3; 72/81] START iterations=500, l2_leaf_reg=9, learning_rate=0.5, max_depth=5\n",
      "[CV 2/3; 72/81] END iterations=500, l2_leaf_reg=9, learning_rate=0.5, max_depth=5; total time=   1.4s\n",
      "[CV 3/3; 72/81] START iterations=500, l2_leaf_reg=9, learning_rate=0.5, max_depth=5\n",
      "[CV 3/3; 72/81] END iterations=500, l2_leaf_reg=9, learning_rate=0.5, max_depth=5; total time=   1.4s\n",
      "[CV 1/3; 73/81] START iterations=500, l2_leaf_reg=15, learning_rate=0.1, max_depth=1\n",
      "[CV 1/3; 73/81] END iterations=500, l2_leaf_reg=15, learning_rate=0.1, max_depth=1; total time=   1.1s\n",
      "[CV 2/3; 73/81] START iterations=500, l2_leaf_reg=15, learning_rate=0.1, max_depth=1\n",
      "[CV 2/3; 73/81] END iterations=500, l2_leaf_reg=15, learning_rate=0.1, max_depth=1; total time=   1.1s\n",
      "[CV 3/3; 73/81] START iterations=500, l2_leaf_reg=15, learning_rate=0.1, max_depth=1\n",
      "[CV 3/3; 73/81] END iterations=500, l2_leaf_reg=15, learning_rate=0.1, max_depth=1; total time=   1.1s\n",
      "[CV 1/3; 74/81] START iterations=500, l2_leaf_reg=15, learning_rate=0.1, max_depth=3\n",
      "[CV 1/3; 74/81] END iterations=500, l2_leaf_reg=15, learning_rate=0.1, max_depth=3; total time=   1.6s\n",
      "[CV 2/3; 74/81] START iterations=500, l2_leaf_reg=15, learning_rate=0.1, max_depth=3\n",
      "[CV 2/3; 74/81] END iterations=500, l2_leaf_reg=15, learning_rate=0.1, max_depth=3; total time=   1.2s\n",
      "[CV 3/3; 74/81] START iterations=500, l2_leaf_reg=15, learning_rate=0.1, max_depth=3\n",
      "[CV 3/3; 74/81] END iterations=500, l2_leaf_reg=15, learning_rate=0.1, max_depth=3; total time=   1.3s\n",
      "[CV 1/3; 75/81] START iterations=500, l2_leaf_reg=15, learning_rate=0.1, max_depth=5\n",
      "[CV 1/3; 75/81] END iterations=500, l2_leaf_reg=15, learning_rate=0.1, max_depth=5; total time=   1.6s\n",
      "[CV 2/3; 75/81] START iterations=500, l2_leaf_reg=15, learning_rate=0.1, max_depth=5\n",
      "[CV 2/3; 75/81] END iterations=500, l2_leaf_reg=15, learning_rate=0.1, max_depth=5; total time=   1.4s\n",
      "[CV 3/3; 75/81] START iterations=500, l2_leaf_reg=15, learning_rate=0.1, max_depth=5\n",
      "[CV 3/3; 75/81] END iterations=500, l2_leaf_reg=15, learning_rate=0.1, max_depth=5; total time=   1.5s\n",
      "[CV 1/3; 76/81] START iterations=500, l2_leaf_reg=15, learning_rate=0.3, max_depth=1\n",
      "[CV 1/3; 76/81] END iterations=500, l2_leaf_reg=15, learning_rate=0.3, max_depth=1; total time=   1.1s\n",
      "[CV 2/3; 76/81] START iterations=500, l2_leaf_reg=15, learning_rate=0.3, max_depth=1\n",
      "[CV 2/3; 76/81] END iterations=500, l2_leaf_reg=15, learning_rate=0.3, max_depth=1; total time=   1.0s\n",
      "[CV 3/3; 76/81] START iterations=500, l2_leaf_reg=15, learning_rate=0.3, max_depth=1\n",
      "[CV 3/3; 76/81] END iterations=500, l2_leaf_reg=15, learning_rate=0.3, max_depth=1; total time=   1.0s\n",
      "[CV 1/3; 77/81] START iterations=500, l2_leaf_reg=15, learning_rate=0.3, max_depth=3\n",
      "[CV 1/3; 77/81] END iterations=500, l2_leaf_reg=15, learning_rate=0.3, max_depth=3; total time=   1.2s\n",
      "[CV 2/3; 77/81] START iterations=500, l2_leaf_reg=15, learning_rate=0.3, max_depth=3\n",
      "[CV 2/3; 77/81] END iterations=500, l2_leaf_reg=15, learning_rate=0.3, max_depth=3; total time=   1.3s\n",
      "[CV 3/3; 77/81] START iterations=500, l2_leaf_reg=15, learning_rate=0.3, max_depth=3\n",
      "[CV 3/3; 77/81] END iterations=500, l2_leaf_reg=15, learning_rate=0.3, max_depth=3; total time=   1.2s\n",
      "[CV 1/3; 78/81] START iterations=500, l2_leaf_reg=15, learning_rate=0.3, max_depth=5\n",
      "[CV 1/3; 78/81] END iterations=500, l2_leaf_reg=15, learning_rate=0.3, max_depth=5; total time=   1.5s\n",
      "[CV 2/3; 78/81] START iterations=500, l2_leaf_reg=15, learning_rate=0.3, max_depth=5\n",
      "[CV 2/3; 78/81] END iterations=500, l2_leaf_reg=15, learning_rate=0.3, max_depth=5; total time=   1.5s\n",
      "[CV 3/3; 78/81] START iterations=500, l2_leaf_reg=15, learning_rate=0.3, max_depth=5\n",
      "[CV 3/3; 78/81] END iterations=500, l2_leaf_reg=15, learning_rate=0.3, max_depth=5; total time=   1.9s\n",
      "[CV 1/3; 79/81] START iterations=500, l2_leaf_reg=15, learning_rate=0.5, max_depth=1\n",
      "[CV 1/3; 79/81] END iterations=500, l2_leaf_reg=15, learning_rate=0.5, max_depth=1; total time=   1.1s\n",
      "[CV 2/3; 79/81] START iterations=500, l2_leaf_reg=15, learning_rate=0.5, max_depth=1\n",
      "[CV 2/3; 79/81] END iterations=500, l2_leaf_reg=15, learning_rate=0.5, max_depth=1; total time=   1.1s\n",
      "[CV 3/3; 79/81] START iterations=500, l2_leaf_reg=15, learning_rate=0.5, max_depth=1\n",
      "[CV 3/3; 79/81] END iterations=500, l2_leaf_reg=15, learning_rate=0.5, max_depth=1; total time=   1.1s\n",
      "[CV 1/3; 80/81] START iterations=500, l2_leaf_reg=15, learning_rate=0.5, max_depth=3\n",
      "[CV 1/3; 80/81] END iterations=500, l2_leaf_reg=15, learning_rate=0.5, max_depth=3; total time=   1.4s\n",
      "[CV 2/3; 80/81] START iterations=500, l2_leaf_reg=15, learning_rate=0.5, max_depth=3\n",
      "[CV 2/3; 80/81] END iterations=500, l2_leaf_reg=15, learning_rate=0.5, max_depth=3; total time=   1.2s\n",
      "[CV 3/3; 80/81] START iterations=500, l2_leaf_reg=15, learning_rate=0.5, max_depth=3\n",
      "[CV 3/3; 80/81] END iterations=500, l2_leaf_reg=15, learning_rate=0.5, max_depth=3; total time=   1.2s\n",
      "[CV 1/3; 81/81] START iterations=500, l2_leaf_reg=15, learning_rate=0.5, max_depth=5\n",
      "[CV 1/3; 81/81] END iterations=500, l2_leaf_reg=15, learning_rate=0.5, max_depth=5; total time=   1.5s\n",
      "[CV 2/3; 81/81] START iterations=500, l2_leaf_reg=15, learning_rate=0.5, max_depth=5\n",
      "[CV 2/3; 81/81] END iterations=500, l2_leaf_reg=15, learning_rate=0.5, max_depth=5; total time=   1.7s\n",
      "[CV 3/3; 81/81] START iterations=500, l2_leaf_reg=15, learning_rate=0.5, max_depth=5\n",
      "[CV 3/3; 81/81] END iterations=500, l2_leaf_reg=15, learning_rate=0.5, max_depth=5; total time=   2.0s\n",
      "AUC-ROC модели CatBoostClassifier составляет: 0.9677268033494936\n",
      "Лучшие параметры модели {'iterations': 200, 'l2_leaf_reg': 15, 'learning_rate': 0.5, 'max_depth': 3}\n",
      "CPU times: user 1min 36s, sys: 6.93 s, total: 1min 43s\n",
      "Wall time: 4min 22s\n"
     ]
    }
   ],
   "source": [
    "%%time\n",
    "param_grid = {\n",
    "    'max_depth': [1, 3, 5],\n",
    "    'learning_rate': [0.1, 0.3, 0.5],\n",
    "    'iterations': [200, 400, 500],\n",
    "    'l2_leaf_reg': [3, 9, 15]\n",
    "}\n",
    "estimator = CatBoostClassifier(verbose=False, random_state=RANDOM_STATE)\n",
    "\n",
    "\n",
    "catboost = GridSearchCV(estimator=estimator,\n",
    "                        param_grid=param_grid,\n",
    "                        cv=3,\n",
    "                        n_jobs=-1,\n",
    "                        scoring='roc_auc',\n",
    "                        verbose=10)\n",
    "\n",
    "catboost.fit(features_train, target_train)\n",
    "\n",
    "\n",
    "print('AUC-ROC модели CatBoostClassifier составляет:', catboost.best_score_)\n",
    "print('Лучшие параметры модели', catboost.best_params_)"
   ]
  },
  {
   "cell_type": "markdown",
   "id": "15b89e4b",
   "metadata": {},
   "source": [
    "### RandomForestClassifier"
   ]
  },
  {
   "cell_type": "code",
   "execution_count": 30,
   "id": "4c5b7f5b",
   "metadata": {},
   "outputs": [
    {
     "name": "stdout",
     "output_type": "stream",
     "text": [
      "Fitting 3 folds for each of 36 candidates, totalling 108 fits\n",
      "[CV 1/3; 1/36] START class_weight=balanced, max_depth=5, min_samples_leaf=2, min_samples_split=2, n_estimators=10\n",
      "[CV 1/3; 1/36] END class_weight=balanced, max_depth=5, min_samples_leaf=2, min_samples_split=2, n_estimators=10; total time=   0.0s\n",
      "[CV 2/3; 1/36] START class_weight=balanced, max_depth=5, min_samples_leaf=2, min_samples_split=2, n_estimators=10\n",
      "[CV 2/3; 1/36] END class_weight=balanced, max_depth=5, min_samples_leaf=2, min_samples_split=2, n_estimators=10; total time=   0.0s\n",
      "[CV 3/3; 1/36] START class_weight=balanced, max_depth=5, min_samples_leaf=2, min_samples_split=2, n_estimators=10\n",
      "[CV 3/3; 1/36] END class_weight=balanced, max_depth=5, min_samples_leaf=2, min_samples_split=2, n_estimators=10; total time=   0.0s\n",
      "[CV 1/3; 2/36] START class_weight=balanced, max_depth=5, min_samples_leaf=2, min_samples_split=2, n_estimators=50\n",
      "[CV 1/3; 2/36] END class_weight=balanced, max_depth=5, min_samples_leaf=2, min_samples_split=2, n_estimators=50; total time=   0.1s\n",
      "[CV 2/3; 2/36] START class_weight=balanced, max_depth=5, min_samples_leaf=2, min_samples_split=2, n_estimators=50\n",
      "[CV 2/3; 2/36] END class_weight=balanced, max_depth=5, min_samples_leaf=2, min_samples_split=2, n_estimators=50; total time=   0.1s\n",
      "[CV 3/3; 2/36] START class_weight=balanced, max_depth=5, min_samples_leaf=2, min_samples_split=2, n_estimators=50\n",
      "[CV 3/3; 2/36] END class_weight=balanced, max_depth=5, min_samples_leaf=2, min_samples_split=2, n_estimators=50; total time=   0.1s\n",
      "[CV 1/3; 3/36] START class_weight=balanced, max_depth=5, min_samples_leaf=2, min_samples_split=2, n_estimators=100\n",
      "[CV 1/3; 3/36] END class_weight=balanced, max_depth=5, min_samples_leaf=2, min_samples_split=2, n_estimators=100; total time=   0.3s\n",
      "[CV 2/3; 3/36] START class_weight=balanced, max_depth=5, min_samples_leaf=2, min_samples_split=2, n_estimators=100\n",
      "[CV 2/3; 3/36] END class_weight=balanced, max_depth=5, min_samples_leaf=2, min_samples_split=2, n_estimators=100; total time=   0.3s\n",
      "[CV 3/3; 3/36] START class_weight=balanced, max_depth=5, min_samples_leaf=2, min_samples_split=2, n_estimators=100\n",
      "[CV 3/3; 3/36] END class_weight=balanced, max_depth=5, min_samples_leaf=2, min_samples_split=2, n_estimators=100; total time=   0.3s\n",
      "[CV 1/3; 4/36] START class_weight=balanced, max_depth=5, min_samples_leaf=2, min_samples_split=10, n_estimators=10\n",
      "[CV 1/3; 4/36] END class_weight=balanced, max_depth=5, min_samples_leaf=2, min_samples_split=10, n_estimators=10; total time=   0.0s\n",
      "[CV 2/3; 4/36] START class_weight=balanced, max_depth=5, min_samples_leaf=2, min_samples_split=10, n_estimators=10\n",
      "[CV 2/3; 4/36] END class_weight=balanced, max_depth=5, min_samples_leaf=2, min_samples_split=10, n_estimators=10; total time=   0.0s\n",
      "[CV 3/3; 4/36] START class_weight=balanced, max_depth=5, min_samples_leaf=2, min_samples_split=10, n_estimators=10\n",
      "[CV 3/3; 4/36] END class_weight=balanced, max_depth=5, min_samples_leaf=2, min_samples_split=10, n_estimators=10; total time=   0.0s\n",
      "[CV 1/3; 5/36] START class_weight=balanced, max_depth=5, min_samples_leaf=2, min_samples_split=10, n_estimators=50\n",
      "[CV 1/3; 5/36] END class_weight=balanced, max_depth=5, min_samples_leaf=2, min_samples_split=10, n_estimators=50; total time=   0.1s\n",
      "[CV 2/3; 5/36] START class_weight=balanced, max_depth=5, min_samples_leaf=2, min_samples_split=10, n_estimators=50\n",
      "[CV 2/3; 5/36] END class_weight=balanced, max_depth=5, min_samples_leaf=2, min_samples_split=10, n_estimators=50; total time=   0.1s\n",
      "[CV 3/3; 5/36] START class_weight=balanced, max_depth=5, min_samples_leaf=2, min_samples_split=10, n_estimators=50\n",
      "[CV 3/3; 5/36] END class_weight=balanced, max_depth=5, min_samples_leaf=2, min_samples_split=10, n_estimators=50; total time=   0.1s\n",
      "[CV 1/3; 6/36] START class_weight=balanced, max_depth=5, min_samples_leaf=2, min_samples_split=10, n_estimators=100\n",
      "[CV 1/3; 6/36] END class_weight=balanced, max_depth=5, min_samples_leaf=2, min_samples_split=10, n_estimators=100; total time=   0.3s\n",
      "[CV 2/3; 6/36] START class_weight=balanced, max_depth=5, min_samples_leaf=2, min_samples_split=10, n_estimators=100\n",
      "[CV 2/3; 6/36] END class_weight=balanced, max_depth=5, min_samples_leaf=2, min_samples_split=10, n_estimators=100; total time=   0.3s\n",
      "[CV 3/3; 6/36] START class_weight=balanced, max_depth=5, min_samples_leaf=2, min_samples_split=10, n_estimators=100\n",
      "[CV 3/3; 6/36] END class_weight=balanced, max_depth=5, min_samples_leaf=2, min_samples_split=10, n_estimators=100; total time=   0.3s\n",
      "[CV 1/3; 7/36] START class_weight=balanced, max_depth=5, min_samples_leaf=10, min_samples_split=2, n_estimators=10\n",
      "[CV 1/3; 7/36] END class_weight=balanced, max_depth=5, min_samples_leaf=10, min_samples_split=2, n_estimators=10; total time=   0.0s\n",
      "[CV 2/3; 7/36] START class_weight=balanced, max_depth=5, min_samples_leaf=10, min_samples_split=2, n_estimators=10\n",
      "[CV 2/3; 7/36] END class_weight=balanced, max_depth=5, min_samples_leaf=10, min_samples_split=2, n_estimators=10; total time=   0.0s\n",
      "[CV 3/3; 7/36] START class_weight=balanced, max_depth=5, min_samples_leaf=10, min_samples_split=2, n_estimators=10\n",
      "[CV 3/3; 7/36] END class_weight=balanced, max_depth=5, min_samples_leaf=10, min_samples_split=2, n_estimators=10; total time=   0.0s\n",
      "[CV 1/3; 8/36] START class_weight=balanced, max_depth=5, min_samples_leaf=10, min_samples_split=2, n_estimators=50\n",
      "[CV 1/3; 8/36] END class_weight=balanced, max_depth=5, min_samples_leaf=10, min_samples_split=2, n_estimators=50; total time=   0.1s\n",
      "[CV 2/3; 8/36] START class_weight=balanced, max_depth=5, min_samples_leaf=10, min_samples_split=2, n_estimators=50\n",
      "[CV 2/3; 8/36] END class_weight=balanced, max_depth=5, min_samples_leaf=10, min_samples_split=2, n_estimators=50; total time=   0.1s\n",
      "[CV 3/3; 8/36] START class_weight=balanced, max_depth=5, min_samples_leaf=10, min_samples_split=2, n_estimators=50\n",
      "[CV 3/3; 8/36] END class_weight=balanced, max_depth=5, min_samples_leaf=10, min_samples_split=2, n_estimators=50; total time=   0.1s\n",
      "[CV 1/3; 9/36] START class_weight=balanced, max_depth=5, min_samples_leaf=10, min_samples_split=2, n_estimators=100\n",
      "[CV 1/3; 9/36] END class_weight=balanced, max_depth=5, min_samples_leaf=10, min_samples_split=2, n_estimators=100; total time=   0.3s\n",
      "[CV 2/3; 9/36] START class_weight=balanced, max_depth=5, min_samples_leaf=10, min_samples_split=2, n_estimators=100\n",
      "[CV 2/3; 9/36] END class_weight=balanced, max_depth=5, min_samples_leaf=10, min_samples_split=2, n_estimators=100; total time=   0.3s\n",
      "[CV 3/3; 9/36] START class_weight=balanced, max_depth=5, min_samples_leaf=10, min_samples_split=2, n_estimators=100\n",
      "[CV 3/3; 9/36] END class_weight=balanced, max_depth=5, min_samples_leaf=10, min_samples_split=2, n_estimators=100; total time=   0.3s\n",
      "[CV 1/3; 10/36] START class_weight=balanced, max_depth=5, min_samples_leaf=10, min_samples_split=10, n_estimators=10\n",
      "[CV 1/3; 10/36] END class_weight=balanced, max_depth=5, min_samples_leaf=10, min_samples_split=10, n_estimators=10; total time=   0.0s\n",
      "[CV 2/3; 10/36] START class_weight=balanced, max_depth=5, min_samples_leaf=10, min_samples_split=10, n_estimators=10\n",
      "[CV 2/3; 10/36] END class_weight=balanced, max_depth=5, min_samples_leaf=10, min_samples_split=10, n_estimators=10; total time=   0.0s\n",
      "[CV 3/3; 10/36] START class_weight=balanced, max_depth=5, min_samples_leaf=10, min_samples_split=10, n_estimators=10\n",
      "[CV 3/3; 10/36] END class_weight=balanced, max_depth=5, min_samples_leaf=10, min_samples_split=10, n_estimators=10; total time=   0.0s\n",
      "[CV 1/3; 11/36] START class_weight=balanced, max_depth=5, min_samples_leaf=10, min_samples_split=10, n_estimators=50\n",
      "[CV 1/3; 11/36] END class_weight=balanced, max_depth=5, min_samples_leaf=10, min_samples_split=10, n_estimators=50; total time=   0.1s\n",
      "[CV 2/3; 11/36] START class_weight=balanced, max_depth=5, min_samples_leaf=10, min_samples_split=10, n_estimators=50\n",
      "[CV 2/3; 11/36] END class_weight=balanced, max_depth=5, min_samples_leaf=10, min_samples_split=10, n_estimators=50; total time=   0.1s\n",
      "[CV 3/3; 11/36] START class_weight=balanced, max_depth=5, min_samples_leaf=10, min_samples_split=10, n_estimators=50\n",
      "[CV 3/3; 11/36] END class_weight=balanced, max_depth=5, min_samples_leaf=10, min_samples_split=10, n_estimators=50; total time=   0.1s\n",
      "[CV 1/3; 12/36] START class_weight=balanced, max_depth=5, min_samples_leaf=10, min_samples_split=10, n_estimators=100\n",
      "[CV 1/3; 12/36] END class_weight=balanced, max_depth=5, min_samples_leaf=10, min_samples_split=10, n_estimators=100; total time=   0.3s\n",
      "[CV 2/3; 12/36] START class_weight=balanced, max_depth=5, min_samples_leaf=10, min_samples_split=10, n_estimators=100\n",
      "[CV 2/3; 12/36] END class_weight=balanced, max_depth=5, min_samples_leaf=10, min_samples_split=10, n_estimators=100; total time=   0.3s\n",
      "[CV 3/3; 12/36] START class_weight=balanced, max_depth=5, min_samples_leaf=10, min_samples_split=10, n_estimators=100\n",
      "[CV 3/3; 12/36] END class_weight=balanced, max_depth=5, min_samples_leaf=10, min_samples_split=10, n_estimators=100; total time=   0.3s\n",
      "[CV 1/3; 13/36] START class_weight=balanced, max_depth=10, min_samples_leaf=2, min_samples_split=2, n_estimators=10\n",
      "[CV 1/3; 13/36] END class_weight=balanced, max_depth=10, min_samples_leaf=2, min_samples_split=2, n_estimators=10; total time=   0.0s\n",
      "[CV 2/3; 13/36] START class_weight=balanced, max_depth=10, min_samples_leaf=2, min_samples_split=2, n_estimators=10\n",
      "[CV 2/3; 13/36] END class_weight=balanced, max_depth=10, min_samples_leaf=2, min_samples_split=2, n_estimators=10; total time=   0.0s\n",
      "[CV 3/3; 13/36] START class_weight=balanced, max_depth=10, min_samples_leaf=2, min_samples_split=2, n_estimators=10\n",
      "[CV 3/3; 13/36] END class_weight=balanced, max_depth=10, min_samples_leaf=2, min_samples_split=2, n_estimators=10; total time=   0.0s\n",
      "[CV 1/3; 14/36] START class_weight=balanced, max_depth=10, min_samples_leaf=2, min_samples_split=2, n_estimators=50\n",
      "[CV 1/3; 14/36] END class_weight=balanced, max_depth=10, min_samples_leaf=2, min_samples_split=2, n_estimators=50; total time=   0.2s\n",
      "[CV 2/3; 14/36] START class_weight=balanced, max_depth=10, min_samples_leaf=2, min_samples_split=2, n_estimators=50\n",
      "[CV 2/3; 14/36] END class_weight=balanced, max_depth=10, min_samples_leaf=2, min_samples_split=2, n_estimators=50; total time=   0.2s\n",
      "[CV 3/3; 14/36] START class_weight=balanced, max_depth=10, min_samples_leaf=2, min_samples_split=2, n_estimators=50\n",
      "[CV 3/3; 14/36] END class_weight=balanced, max_depth=10, min_samples_leaf=2, min_samples_split=2, n_estimators=50; total time=   0.2s\n",
      "[CV 1/3; 15/36] START class_weight=balanced, max_depth=10, min_samples_leaf=2, min_samples_split=2, n_estimators=100\n",
      "[CV 1/3; 15/36] END class_weight=balanced, max_depth=10, min_samples_leaf=2, min_samples_split=2, n_estimators=100; total time=   0.3s\n",
      "[CV 2/3; 15/36] START class_weight=balanced, max_depth=10, min_samples_leaf=2, min_samples_split=2, n_estimators=100\n",
      "[CV 2/3; 15/36] END class_weight=balanced, max_depth=10, min_samples_leaf=2, min_samples_split=2, n_estimators=100; total time=   0.3s\n",
      "[CV 3/3; 15/36] START class_weight=balanced, max_depth=10, min_samples_leaf=2, min_samples_split=2, n_estimators=100\n",
      "[CV 3/3; 15/36] END class_weight=balanced, max_depth=10, min_samples_leaf=2, min_samples_split=2, n_estimators=100; total time=   0.3s\n",
      "[CV 1/3; 16/36] START class_weight=balanced, max_depth=10, min_samples_leaf=2, min_samples_split=10, n_estimators=10\n",
      "[CV 1/3; 16/36] END class_weight=balanced, max_depth=10, min_samples_leaf=2, min_samples_split=10, n_estimators=10; total time=   0.0s\n",
      "[CV 2/3; 16/36] START class_weight=balanced, max_depth=10, min_samples_leaf=2, min_samples_split=10, n_estimators=10\n",
      "[CV 2/3; 16/36] END class_weight=balanced, max_depth=10, min_samples_leaf=2, min_samples_split=10, n_estimators=10; total time=   0.1s\n",
      "[CV 3/3; 16/36] START class_weight=balanced, max_depth=10, min_samples_leaf=2, min_samples_split=10, n_estimators=10\n",
      "[CV 3/3; 16/36] END class_weight=balanced, max_depth=10, min_samples_leaf=2, min_samples_split=10, n_estimators=10; total time=   0.0s\n",
      "[CV 1/3; 17/36] START class_weight=balanced, max_depth=10, min_samples_leaf=2, min_samples_split=10, n_estimators=50\n",
      "[CV 1/3; 17/36] END class_weight=balanced, max_depth=10, min_samples_leaf=2, min_samples_split=10, n_estimators=50; total time=   0.2s\n",
      "[CV 2/3; 17/36] START class_weight=balanced, max_depth=10, min_samples_leaf=2, min_samples_split=10, n_estimators=50\n",
      "[CV 2/3; 17/36] END class_weight=balanced, max_depth=10, min_samples_leaf=2, min_samples_split=10, n_estimators=50; total time=   0.2s\n",
      "[CV 3/3; 17/36] START class_weight=balanced, max_depth=10, min_samples_leaf=2, min_samples_split=10, n_estimators=50\n",
      "[CV 3/3; 17/36] END class_weight=balanced, max_depth=10, min_samples_leaf=2, min_samples_split=10, n_estimators=50; total time=   0.2s\n",
      "[CV 1/3; 18/36] START class_weight=balanced, max_depth=10, min_samples_leaf=2, min_samples_split=10, n_estimators=100\n",
      "[CV 1/3; 18/36] END class_weight=balanced, max_depth=10, min_samples_leaf=2, min_samples_split=10, n_estimators=100; total time=   0.3s\n",
      "[CV 2/3; 18/36] START class_weight=balanced, max_depth=10, min_samples_leaf=2, min_samples_split=10, n_estimators=100\n",
      "[CV 2/3; 18/36] END class_weight=balanced, max_depth=10, min_samples_leaf=2, min_samples_split=10, n_estimators=100; total time=   0.3s\n",
      "[CV 3/3; 18/36] START class_weight=balanced, max_depth=10, min_samples_leaf=2, min_samples_split=10, n_estimators=100\n",
      "[CV 3/3; 18/36] END class_weight=balanced, max_depth=10, min_samples_leaf=2, min_samples_split=10, n_estimators=100; total time=   0.3s\n",
      "[CV 1/3; 19/36] START class_weight=balanced, max_depth=10, min_samples_leaf=10, min_samples_split=2, n_estimators=10\n",
      "[CV 1/3; 19/36] END class_weight=balanced, max_depth=10, min_samples_leaf=10, min_samples_split=2, n_estimators=10; total time=   0.0s\n",
      "[CV 2/3; 19/36] START class_weight=balanced, max_depth=10, min_samples_leaf=10, min_samples_split=2, n_estimators=10\n",
      "[CV 2/3; 19/36] END class_weight=balanced, max_depth=10, min_samples_leaf=10, min_samples_split=2, n_estimators=10; total time=   0.0s\n",
      "[CV 3/3; 19/36] START class_weight=balanced, max_depth=10, min_samples_leaf=10, min_samples_split=2, n_estimators=10\n",
      "[CV 3/3; 19/36] END class_weight=balanced, max_depth=10, min_samples_leaf=10, min_samples_split=2, n_estimators=10; total time=   0.0s\n",
      "[CV 1/3; 20/36] START class_weight=balanced, max_depth=10, min_samples_leaf=10, min_samples_split=2, n_estimators=50\n",
      "[CV 1/3; 20/36] END class_weight=balanced, max_depth=10, min_samples_leaf=10, min_samples_split=2, n_estimators=50; total time=   0.2s\n",
      "[CV 2/3; 20/36] START class_weight=balanced, max_depth=10, min_samples_leaf=10, min_samples_split=2, n_estimators=50\n",
      "[CV 2/3; 20/36] END class_weight=balanced, max_depth=10, min_samples_leaf=10, min_samples_split=2, n_estimators=50; total time=   0.2s\n",
      "[CV 3/3; 20/36] START class_weight=balanced, max_depth=10, min_samples_leaf=10, min_samples_split=2, n_estimators=50\n",
      "[CV 3/3; 20/36] END class_weight=balanced, max_depth=10, min_samples_leaf=10, min_samples_split=2, n_estimators=50; total time=   0.2s\n",
      "[CV 1/3; 21/36] START class_weight=balanced, max_depth=10, min_samples_leaf=10, min_samples_split=2, n_estimators=100\n",
      "[CV 1/3; 21/36] END class_weight=balanced, max_depth=10, min_samples_leaf=10, min_samples_split=2, n_estimators=100; total time=   0.3s\n",
      "[CV 2/3; 21/36] START class_weight=balanced, max_depth=10, min_samples_leaf=10, min_samples_split=2, n_estimators=100\n",
      "[CV 2/3; 21/36] END class_weight=balanced, max_depth=10, min_samples_leaf=10, min_samples_split=2, n_estimators=100; total time=   0.3s\n",
      "[CV 3/3; 21/36] START class_weight=balanced, max_depth=10, min_samples_leaf=10, min_samples_split=2, n_estimators=100\n",
      "[CV 3/3; 21/36] END class_weight=balanced, max_depth=10, min_samples_leaf=10, min_samples_split=2, n_estimators=100; total time=   0.3s\n",
      "[CV 1/3; 22/36] START class_weight=balanced, max_depth=10, min_samples_leaf=10, min_samples_split=10, n_estimators=10\n",
      "[CV 1/3; 22/36] END class_weight=balanced, max_depth=10, min_samples_leaf=10, min_samples_split=10, n_estimators=10; total time=   0.0s\n",
      "[CV 2/3; 22/36] START class_weight=balanced, max_depth=10, min_samples_leaf=10, min_samples_split=10, n_estimators=10\n",
      "[CV 2/3; 22/36] END class_weight=balanced, max_depth=10, min_samples_leaf=10, min_samples_split=10, n_estimators=10; total time=   0.0s\n",
      "[CV 3/3; 22/36] START class_weight=balanced, max_depth=10, min_samples_leaf=10, min_samples_split=10, n_estimators=10\n",
      "[CV 3/3; 22/36] END class_weight=balanced, max_depth=10, min_samples_leaf=10, min_samples_split=10, n_estimators=10; total time=   0.0s\n",
      "[CV 1/3; 23/36] START class_weight=balanced, max_depth=10, min_samples_leaf=10, min_samples_split=10, n_estimators=50\n",
      "[CV 1/3; 23/36] END class_weight=balanced, max_depth=10, min_samples_leaf=10, min_samples_split=10, n_estimators=50; total time=   0.2s\n",
      "[CV 2/3; 23/36] START class_weight=balanced, max_depth=10, min_samples_leaf=10, min_samples_split=10, n_estimators=50\n",
      "[CV 2/3; 23/36] END class_weight=balanced, max_depth=10, min_samples_leaf=10, min_samples_split=10, n_estimators=50; total time=   0.2s\n",
      "[CV 3/3; 23/36] START class_weight=balanced, max_depth=10, min_samples_leaf=10, min_samples_split=10, n_estimators=50\n",
      "[CV 3/3; 23/36] END class_weight=balanced, max_depth=10, min_samples_leaf=10, min_samples_split=10, n_estimators=50; total time=   0.2s\n",
      "[CV 1/3; 24/36] START class_weight=balanced, max_depth=10, min_samples_leaf=10, min_samples_split=10, n_estimators=100\n",
      "[CV 1/3; 24/36] END class_weight=balanced, max_depth=10, min_samples_leaf=10, min_samples_split=10, n_estimators=100; total time=   0.3s\n",
      "[CV 2/3; 24/36] START class_weight=balanced, max_depth=10, min_samples_leaf=10, min_samples_split=10, n_estimators=100\n",
      "[CV 2/3; 24/36] END class_weight=balanced, max_depth=10, min_samples_leaf=10, min_samples_split=10, n_estimators=100; total time=   0.3s\n",
      "[CV 3/3; 24/36] START class_weight=balanced, max_depth=10, min_samples_leaf=10, min_samples_split=10, n_estimators=100\n",
      "[CV 3/3; 24/36] END class_weight=balanced, max_depth=10, min_samples_leaf=10, min_samples_split=10, n_estimators=100; total time=   0.3s\n",
      "[CV 1/3; 25/36] START class_weight=balanced, max_depth=20, min_samples_leaf=2, min_samples_split=2, n_estimators=10\n",
      "[CV 1/3; 25/36] END class_weight=balanced, max_depth=20, min_samples_leaf=2, min_samples_split=2, n_estimators=10; total time=   0.0s\n",
      "[CV 2/3; 25/36] START class_weight=balanced, max_depth=20, min_samples_leaf=2, min_samples_split=2, n_estimators=10\n",
      "[CV 2/3; 25/36] END class_weight=balanced, max_depth=20, min_samples_leaf=2, min_samples_split=2, n_estimators=10; total time=   0.0s\n",
      "[CV 3/3; 25/36] START class_weight=balanced, max_depth=20, min_samples_leaf=2, min_samples_split=2, n_estimators=10\n",
      "[CV 3/3; 25/36] END class_weight=balanced, max_depth=20, min_samples_leaf=2, min_samples_split=2, n_estimators=10; total time=   0.0s\n",
      "[CV 1/3; 26/36] START class_weight=balanced, max_depth=20, min_samples_leaf=2, min_samples_split=2, n_estimators=50\n",
      "[CV 1/3; 26/36] END class_weight=balanced, max_depth=20, min_samples_leaf=2, min_samples_split=2, n_estimators=50; total time=   0.2s\n",
      "[CV 2/3; 26/36] START class_weight=balanced, max_depth=20, min_samples_leaf=2, min_samples_split=2, n_estimators=50\n",
      "[CV 2/3; 26/36] END class_weight=balanced, max_depth=20, min_samples_leaf=2, min_samples_split=2, n_estimators=50; total time=   0.2s\n",
      "[CV 3/3; 26/36] START class_weight=balanced, max_depth=20, min_samples_leaf=2, min_samples_split=2, n_estimators=50\n",
      "[CV 3/3; 26/36] END class_weight=balanced, max_depth=20, min_samples_leaf=2, min_samples_split=2, n_estimators=50; total time=   0.2s\n",
      "[CV 1/3; 27/36] START class_weight=balanced, max_depth=20, min_samples_leaf=2, min_samples_split=2, n_estimators=100\n",
      "[CV 1/3; 27/36] END class_weight=balanced, max_depth=20, min_samples_leaf=2, min_samples_split=2, n_estimators=100; total time=   0.4s\n",
      "[CV 2/3; 27/36] START class_weight=balanced, max_depth=20, min_samples_leaf=2, min_samples_split=2, n_estimators=100\n",
      "[CV 2/3; 27/36] END class_weight=balanced, max_depth=20, min_samples_leaf=2, min_samples_split=2, n_estimators=100; total time=   0.4s\n",
      "[CV 3/3; 27/36] START class_weight=balanced, max_depth=20, min_samples_leaf=2, min_samples_split=2, n_estimators=100\n",
      "[CV 3/3; 27/36] END class_weight=balanced, max_depth=20, min_samples_leaf=2, min_samples_split=2, n_estimators=100; total time=   0.4s\n",
      "[CV 1/3; 28/36] START class_weight=balanced, max_depth=20, min_samples_leaf=2, min_samples_split=10, n_estimators=10\n",
      "[CV 1/3; 28/36] END class_weight=balanced, max_depth=20, min_samples_leaf=2, min_samples_split=10, n_estimators=10; total time=   0.0s\n",
      "[CV 2/3; 28/36] START class_weight=balanced, max_depth=20, min_samples_leaf=2, min_samples_split=10, n_estimators=10\n",
      "[CV 2/3; 28/36] END class_weight=balanced, max_depth=20, min_samples_leaf=2, min_samples_split=10, n_estimators=10; total time=   0.0s\n",
      "[CV 3/3; 28/36] START class_weight=balanced, max_depth=20, min_samples_leaf=2, min_samples_split=10, n_estimators=10\n",
      "[CV 3/3; 28/36] END class_weight=balanced, max_depth=20, min_samples_leaf=2, min_samples_split=10, n_estimators=10; total time=   0.0s\n",
      "[CV 1/3; 29/36] START class_weight=balanced, max_depth=20, min_samples_leaf=2, min_samples_split=10, n_estimators=50\n",
      "[CV 1/3; 29/36] END class_weight=balanced, max_depth=20, min_samples_leaf=2, min_samples_split=10, n_estimators=50; total time=   0.2s\n",
      "[CV 2/3; 29/36] START class_weight=balanced, max_depth=20, min_samples_leaf=2, min_samples_split=10, n_estimators=50\n",
      "[CV 2/3; 29/36] END class_weight=balanced, max_depth=20, min_samples_leaf=2, min_samples_split=10, n_estimators=50; total time=   0.2s\n",
      "[CV 3/3; 29/36] START class_weight=balanced, max_depth=20, min_samples_leaf=2, min_samples_split=10, n_estimators=50\n",
      "[CV 3/3; 29/36] END class_weight=balanced, max_depth=20, min_samples_leaf=2, min_samples_split=10, n_estimators=50; total time=   0.2s\n",
      "[CV 1/3; 30/36] START class_weight=balanced, max_depth=20, min_samples_leaf=2, min_samples_split=10, n_estimators=100\n",
      "[CV 1/3; 30/36] END class_weight=balanced, max_depth=20, min_samples_leaf=2, min_samples_split=10, n_estimators=100; total time=   0.4s\n",
      "[CV 2/3; 30/36] START class_weight=balanced, max_depth=20, min_samples_leaf=2, min_samples_split=10, n_estimators=100\n",
      "[CV 2/3; 30/36] END class_weight=balanced, max_depth=20, min_samples_leaf=2, min_samples_split=10, n_estimators=100; total time=   0.3s\n",
      "[CV 3/3; 30/36] START class_weight=balanced, max_depth=20, min_samples_leaf=2, min_samples_split=10, n_estimators=100\n",
      "[CV 3/3; 30/36] END class_weight=balanced, max_depth=20, min_samples_leaf=2, min_samples_split=10, n_estimators=100; total time=   0.4s\n",
      "[CV 1/3; 31/36] START class_weight=balanced, max_depth=20, min_samples_leaf=10, min_samples_split=2, n_estimators=10\n",
      "[CV 1/3; 31/36] END class_weight=balanced, max_depth=20, min_samples_leaf=10, min_samples_split=2, n_estimators=10; total time=   0.1s\n",
      "[CV 2/3; 31/36] START class_weight=balanced, max_depth=20, min_samples_leaf=10, min_samples_split=2, n_estimators=10\n",
      "[CV 2/3; 31/36] END class_weight=balanced, max_depth=20, min_samples_leaf=10, min_samples_split=2, n_estimators=10; total time=   0.0s\n",
      "[CV 3/3; 31/36] START class_weight=balanced, max_depth=20, min_samples_leaf=10, min_samples_split=2, n_estimators=10\n",
      "[CV 3/3; 31/36] END class_weight=balanced, max_depth=20, min_samples_leaf=10, min_samples_split=2, n_estimators=10; total time=   0.0s\n",
      "[CV 1/3; 32/36] START class_weight=balanced, max_depth=20, min_samples_leaf=10, min_samples_split=2, n_estimators=50\n",
      "[CV 1/3; 32/36] END class_weight=balanced, max_depth=20, min_samples_leaf=10, min_samples_split=2, n_estimators=50; total time=   0.2s\n",
      "[CV 2/3; 32/36] START class_weight=balanced, max_depth=20, min_samples_leaf=10, min_samples_split=2, n_estimators=50\n",
      "[CV 2/3; 32/36] END class_weight=balanced, max_depth=20, min_samples_leaf=10, min_samples_split=2, n_estimators=50; total time=   0.2s\n",
      "[CV 3/3; 32/36] START class_weight=balanced, max_depth=20, min_samples_leaf=10, min_samples_split=2, n_estimators=50\n",
      "[CV 3/3; 32/36] END class_weight=balanced, max_depth=20, min_samples_leaf=10, min_samples_split=2, n_estimators=50; total time=   0.2s\n",
      "[CV 1/3; 33/36] START class_weight=balanced, max_depth=20, min_samples_leaf=10, min_samples_split=2, n_estimators=100\n",
      "[CV 1/3; 33/36] END class_weight=balanced, max_depth=20, min_samples_leaf=10, min_samples_split=2, n_estimators=100; total time=   0.3s\n",
      "[CV 2/3; 33/36] START class_weight=balanced, max_depth=20, min_samples_leaf=10, min_samples_split=2, n_estimators=100\n",
      "[CV 2/3; 33/36] END class_weight=balanced, max_depth=20, min_samples_leaf=10, min_samples_split=2, n_estimators=100; total time=   0.3s\n",
      "[CV 3/3; 33/36] START class_weight=balanced, max_depth=20, min_samples_leaf=10, min_samples_split=2, n_estimators=100\n",
      "[CV 3/3; 33/36] END class_weight=balanced, max_depth=20, min_samples_leaf=10, min_samples_split=2, n_estimators=100; total time=   0.3s\n",
      "[CV 1/3; 34/36] START class_weight=balanced, max_depth=20, min_samples_leaf=10, min_samples_split=10, n_estimators=10\n",
      "[CV 1/3; 34/36] END class_weight=balanced, max_depth=20, min_samples_leaf=10, min_samples_split=10, n_estimators=10; total time=   0.0s\n",
      "[CV 2/3; 34/36] START class_weight=balanced, max_depth=20, min_samples_leaf=10, min_samples_split=10, n_estimators=10\n",
      "[CV 2/3; 34/36] END class_weight=balanced, max_depth=20, min_samples_leaf=10, min_samples_split=10, n_estimators=10; total time=   0.0s\n",
      "[CV 3/3; 34/36] START class_weight=balanced, max_depth=20, min_samples_leaf=10, min_samples_split=10, n_estimators=10\n",
      "[CV 3/3; 34/36] END class_weight=balanced, max_depth=20, min_samples_leaf=10, min_samples_split=10, n_estimators=10; total time=   0.0s\n",
      "[CV 1/3; 35/36] START class_weight=balanced, max_depth=20, min_samples_leaf=10, min_samples_split=10, n_estimators=50\n",
      "[CV 1/3; 35/36] END class_weight=balanced, max_depth=20, min_samples_leaf=10, min_samples_split=10, n_estimators=50; total time=   0.2s\n",
      "[CV 2/3; 35/36] START class_weight=balanced, max_depth=20, min_samples_leaf=10, min_samples_split=10, n_estimators=50\n",
      "[CV 2/3; 35/36] END class_weight=balanced, max_depth=20, min_samples_leaf=10, min_samples_split=10, n_estimators=50; total time=   0.2s\n",
      "[CV 3/3; 35/36] START class_weight=balanced, max_depth=20, min_samples_leaf=10, min_samples_split=10, n_estimators=50\n",
      "[CV 3/3; 35/36] END class_weight=balanced, max_depth=20, min_samples_leaf=10, min_samples_split=10, n_estimators=50; total time=   0.2s\n",
      "[CV 1/3; 36/36] START class_weight=balanced, max_depth=20, min_samples_leaf=10, min_samples_split=10, n_estimators=100\n",
      "[CV 1/3; 36/36] END class_weight=balanced, max_depth=20, min_samples_leaf=10, min_samples_split=10, n_estimators=100; total time=   0.3s\n",
      "[CV 2/3; 36/36] START class_weight=balanced, max_depth=20, min_samples_leaf=10, min_samples_split=10, n_estimators=100\n",
      "[CV 2/3; 36/36] END class_weight=balanced, max_depth=20, min_samples_leaf=10, min_samples_split=10, n_estimators=100; total time=   0.3s\n",
      "[CV 3/3; 36/36] START class_weight=balanced, max_depth=20, min_samples_leaf=10, min_samples_split=10, n_estimators=100\n",
      "[CV 3/3; 36/36] END class_weight=balanced, max_depth=20, min_samples_leaf=10, min_samples_split=10, n_estimators=100; total time=   0.3s\n",
      "AUC-ROC модели RandomForestClassifier составляет: 0.9260685643784102\n",
      "Лучшие параметры модели {'class_weight': 'balanced', 'max_depth': 20, 'min_samples_leaf': 2, 'min_samples_split': 2, 'n_estimators': 100}\n",
      "CPU times: user 18.8 s, sys: 121 ms, total: 18.9 s\n",
      "Wall time: 19 s\n"
     ]
    }
   ],
   "source": [
    "%%time\n",
    "param_grid = {\n",
    "    'max_depth': [5, 10, 20],\n",
    "    'min_samples_split': [2, 10],\n",
    "    'min_samples_leaf': [2, 10],\n",
    "    'n_estimators': [10, 50, 100],\n",
    "     'class_weight': ['balanced'],\n",
    "}\n",
    "rf = RandomForestClassifier(random_state=RANDOM_STATE)\n",
    "\n",
    "\n",
    "rf = GridSearchCV(estimator=rf,\n",
    "                  param_grid=param_grid,\n",
    "                  cv=3,\n",
    "                  n_jobs=-1,\n",
    "                  scoring='roc_auc',\n",
    "                  verbose=10)\n",
    "rf.fit(features_train, target_train)\n",
    "\n",
    "print('AUC-ROC модели RandomForestClassifier составляет:', rf.best_score_)\n",
    "print('Лучшие параметры модели', rf.best_params_)"
   ]
  },
  {
   "cell_type": "markdown",
   "id": "7d185166",
   "metadata": {},
   "source": [
    "## Тестирование лучшей модели"
   ]
  },
  {
   "cell_type": "code",
   "execution_count": 33,
   "id": "d58ae851",
   "metadata": {},
   "outputs": [
    {
     "name": "stdout",
     "output_type": "stream",
     "text": [
      "ROC-AUC модели на тестовой выборке: 0.9775986725139268\n",
      "Лучшие параметры модели {'iterations': 200, 'l2_leaf_reg': 15, 'learning_rate': 0.5, 'max_depth': 3}\n",
      "CPU times: user 4.6 ms, sys: 34 µs, total: 4.63 ms\n",
      "Wall time: 3.5 ms\n"
     ]
    }
   ],
   "source": [
    "%%time\n",
    "predictions = catboost.best_estimator_.predict_proba(features_test)[:,1]\n",
    "print(\"ROC-AUC модели на тестовой выборке:\", roc_auc_score(target_test, predictions))\n",
    "print('Лучшие параметры модели', catboost.best_params_)"
   ]
  },
  {
   "cell_type": "markdown",
   "id": "03b05b9c",
   "metadata": {},
   "source": [
    "Как можно ещё повысить метрику?"
   ]
  },
  {
   "cell_type": "markdown",
   "id": "43079fed",
   "metadata": {},
   "source": [
    "## Важность признаков"
   ]
  },
  {
   "cell_type": "code",
   "execution_count": 32,
   "id": "0c16ad66",
   "metadata": {},
   "outputs": [
    {
     "data": {
      "text/html": [
       "<div>\n",
       "<style scoped>\n",
       "    .dataframe tbody tr th:only-of-type {\n",
       "        vertical-align: middle;\n",
       "    }\n",
       "\n",
       "    .dataframe tbody tr th {\n",
       "        vertical-align: top;\n",
       "    }\n",
       "\n",
       "    .dataframe thead th {\n",
       "        text-align: right;\n",
       "    }\n",
       "</style>\n",
       "<table border=\"1\" class=\"dataframe\">\n",
       "  <thead>\n",
       "    <tr style=\"text-align: right;\">\n",
       "      <th></th>\n",
       "      <th>Важность признака</th>\n",
       "    </tr>\n",
       "  </thead>\n",
       "  <tbody>\n",
       "    <tr>\n",
       "      <th>totalcharges</th>\n",
       "      <td>37.715388</td>\n",
       "    </tr>\n",
       "    <tr>\n",
       "      <th>duration</th>\n",
       "      <td>35.697599</td>\n",
       "    </tr>\n",
       "    <tr>\n",
       "      <th>monthlycharges</th>\n",
       "      <td>20.632639</td>\n",
       "    </tr>\n",
       "    <tr>\n",
       "      <th>internetservice</th>\n",
       "      <td>1.367808</td>\n",
       "    </tr>\n",
       "    <tr>\n",
       "      <th>onlinebackup</th>\n",
       "      <td>0.980658</td>\n",
       "    </tr>\n",
       "    <tr>\n",
       "      <th>type</th>\n",
       "      <td>0.594886</td>\n",
       "    </tr>\n",
       "    <tr>\n",
       "      <th>multiplelines</th>\n",
       "      <td>0.569629</td>\n",
       "    </tr>\n",
       "    <tr>\n",
       "      <th>paymentmethod</th>\n",
       "      <td>0.480163</td>\n",
       "    </tr>\n",
       "    <tr>\n",
       "      <th>streamingmovies</th>\n",
       "      <td>0.360390</td>\n",
       "    </tr>\n",
       "    <tr>\n",
       "      <th>dependents</th>\n",
       "      <td>0.263594</td>\n",
       "    </tr>\n",
       "    <tr>\n",
       "      <th>paperlessbilling</th>\n",
       "      <td>0.232672</td>\n",
       "    </tr>\n",
       "    <tr>\n",
       "      <th>deviceprotection</th>\n",
       "      <td>0.218519</td>\n",
       "    </tr>\n",
       "    <tr>\n",
       "      <th>onlinesecurity</th>\n",
       "      <td>0.209764</td>\n",
       "    </tr>\n",
       "    <tr>\n",
       "      <th>gender</th>\n",
       "      <td>0.196735</td>\n",
       "    </tr>\n",
       "    <tr>\n",
       "      <th>streamingtv</th>\n",
       "      <td>0.157061</td>\n",
       "    </tr>\n",
       "    <tr>\n",
       "      <th>seniorcitizen</th>\n",
       "      <td>0.156972</td>\n",
       "    </tr>\n",
       "    <tr>\n",
       "      <th>techsupport</th>\n",
       "      <td>0.097965</td>\n",
       "    </tr>\n",
       "    <tr>\n",
       "      <th>partner</th>\n",
       "      <td>0.067557</td>\n",
       "    </tr>\n",
       "  </tbody>\n",
       "</table>\n",
       "</div>"
      ],
      "text/plain": [
       "                  Важность признака\n",
       "totalcharges              37.715388\n",
       "duration                  35.697599\n",
       "monthlycharges            20.632639\n",
       "internetservice            1.367808\n",
       "onlinebackup               0.980658\n",
       "type                       0.594886\n",
       "multiplelines              0.569629\n",
       "paymentmethod              0.480163\n",
       "streamingmovies            0.360390\n",
       "dependents                 0.263594\n",
       "paperlessbilling           0.232672\n",
       "deviceprotection           0.218519\n",
       "onlinesecurity             0.209764\n",
       "gender                     0.196735\n",
       "streamingtv                0.157061\n",
       "seniorcitizen              0.156972\n",
       "techsupport                0.097965\n",
       "partner                    0.067557"
      ]
     },
     "execution_count": 32,
     "metadata": {},
     "output_type": "execute_result"
    }
   ],
   "source": [
    "importances_df = pd.DataFrame(catboost.best_estimator_.feature_importances_, index=features.columns, columns=['Важность признака'])\n",
    "importances_df = importances_df.sort_values(by='Важность признака', ascending=False)\n",
    "importances_df"
   ]
  },
  {
   "cell_type": "markdown",
   "id": "2beeedf6",
   "metadata": {},
   "source": [
    "Анализ важности выявил, что самым важном признаком являестя totalcharges "
   ]
  },
  {
   "cell_type": "markdown",
   "id": "482d7237",
   "metadata": {},
   "source": [
    "## Вывод"
   ]
  },
  {
   "cell_type": "markdown",
   "id": "030eaf18",
   "metadata": {},
   "source": [
    "1. Необходимые библиотеки и метрики были импортированы, а датасеты объединены. Выяснилось, что им требуется небольшая предобработка, включая выявление целевого признака, отражающего факт ухода клиента. Соответственно, стоит задача классификации. Установлено, что ключевым индикатором для модели является AUC-ROC, превышающий 0.85.\n",
    "2. Самая большая трудность - доведение метрики качества до показателя 0.85, для повышения метрики было проведено: кодировка признаков, масштабирование, изменение гиперпараметров.\n",
    "3. Основные этапы: загрузка необходимых инструментов и данных, исследование объединенного датасета и предобработка данных, разделение на выборки и подготовка данных к обучению, обучение моделей, тестирование лучших моделей, определение важности признаков.\n",
    "4. Лучшая модель - CatBoostClassifier с параметрами 'iterations': 200, 'l2_leaf_reg': 15, 'learning_rate': 0.5, 'max_depth': 3 и значением ROC-AUC = 0.9775986725139268\n",
    "5. Признаки, по которым обучалась модель: totalcharges, duration, monthlycharges, internetservice, onlinebackup, type, multiplelines, paymentmethod, streamingmovies, dependents, paperlessbilling, deviceprotection, onlinesecurity, gender, streamingtv, seniorcitizen, techsupport, partner\t"
   ]
  },
  {
   "cell_type": "code",
   "execution_count": null,
   "id": "1b2b77ae",
   "metadata": {},
   "outputs": [],
   "source": []
  }
 ],
 "metadata": {
  "ExecuteTimeLog": [
   {
    "duration": 7929,
    "start_time": "2023-11-29T21:16:45.806Z"
   },
   {
    "duration": 329,
    "start_time": "2023-11-29T21:16:56.206Z"
   },
   {
    "duration": 154,
    "start_time": "2023-11-29T21:16:58.373Z"
   },
   {
    "duration": 41,
    "start_time": "2023-11-29T21:17:48.241Z"
   },
   {
    "duration": 20,
    "start_time": "2023-11-29T21:17:57.940Z"
   },
   {
    "duration": 23,
    "start_time": "2023-11-29T21:18:11.972Z"
   },
   {
    "duration": 29,
    "start_time": "2023-11-29T21:26:01.593Z"
   },
   {
    "duration": 19,
    "start_time": "2023-11-29T21:26:36.699Z"
   },
   {
    "duration": 7356,
    "start_time": "2023-11-29T21:27:31.007Z"
   },
   {
    "duration": 103,
    "start_time": "2023-11-29T21:27:38.365Z"
   },
   {
    "duration": 27,
    "start_time": "2023-11-29T21:27:38.469Z"
   },
   {
    "duration": 21,
    "start_time": "2023-11-29T21:27:38.498Z"
   },
   {
    "duration": 17,
    "start_time": "2023-11-29T21:27:38.521Z"
   },
   {
    "duration": 17,
    "start_time": "2023-11-29T21:29:08.711Z"
   },
   {
    "duration": 16,
    "start_time": "2023-11-29T21:29:41.933Z"
   },
   {
    "duration": 11,
    "start_time": "2023-11-29T21:29:52.681Z"
   },
   {
    "duration": 5124,
    "start_time": "2023-11-29T23:09:54.974Z"
   },
   {
    "duration": 113,
    "start_time": "2023-11-29T23:10:00.100Z"
   },
   {
    "duration": 27,
    "start_time": "2023-11-29T23:10:00.215Z"
   },
   {
    "duration": 35,
    "start_time": "2023-11-29T23:10:00.244Z"
   },
   {
    "duration": 21,
    "start_time": "2023-11-29T23:10:00.282Z"
   },
   {
    "duration": 48,
    "start_time": "2023-11-29T23:10:00.305Z"
   },
   {
    "duration": 29,
    "start_time": "2023-11-29T23:10:00.355Z"
   },
   {
    "duration": 15,
    "start_time": "2023-11-29T23:10:00.386Z"
   },
   {
    "duration": 33,
    "start_time": "2023-11-29T23:10:00.403Z"
   },
   {
    "duration": 5,
    "start_time": "2023-11-29T23:16:36.542Z"
   },
   {
    "duration": 30,
    "start_time": "2023-11-29T23:16:46.749Z"
   },
   {
    "duration": 31,
    "start_time": "2023-11-29T23:16:54.079Z"
   },
   {
    "duration": 164,
    "start_time": "2023-11-29T23:22:18.816Z"
   },
   {
    "duration": 12,
    "start_time": "2023-11-29T23:22:26.778Z"
   },
   {
    "duration": 10,
    "start_time": "2023-11-29T23:24:56.233Z"
   },
   {
    "duration": 19,
    "start_time": "2023-11-29T23:24:57.708Z"
   },
   {
    "duration": 3,
    "start_time": "2023-11-29T23:27:29.528Z"
   },
   {
    "duration": 5018,
    "start_time": "2023-11-29T23:27:59.230Z"
   },
   {
    "duration": 109,
    "start_time": "2023-11-29T23:28:04.250Z"
   },
   {
    "duration": 33,
    "start_time": "2023-11-29T23:28:04.361Z"
   },
   {
    "duration": 23,
    "start_time": "2023-11-29T23:28:04.396Z"
   },
   {
    "duration": 18,
    "start_time": "2023-11-29T23:28:04.421Z"
   },
   {
    "duration": 45,
    "start_time": "2023-11-29T23:28:04.440Z"
   },
   {
    "duration": 16,
    "start_time": "2023-11-29T23:28:04.486Z"
   },
   {
    "duration": 10,
    "start_time": "2023-11-29T23:28:04.503Z"
   },
   {
    "duration": 17,
    "start_time": "2023-11-29T23:28:04.515Z"
   },
   {
    "duration": 35,
    "start_time": "2023-11-29T23:28:04.534Z"
   },
   {
    "duration": 10,
    "start_time": "2023-11-29T23:28:04.571Z"
   },
   {
    "duration": 20,
    "start_time": "2023-11-29T23:28:04.583Z"
   },
   {
    "duration": 28,
    "start_time": "2023-11-29T23:28:04.604Z"
   },
   {
    "duration": 4796,
    "start_time": "2023-11-29T23:52:11.173Z"
   },
   {
    "duration": 114,
    "start_time": "2023-11-29T23:52:15.972Z"
   },
   {
    "duration": 25,
    "start_time": "2023-11-29T23:52:16.088Z"
   },
   {
    "duration": 22,
    "start_time": "2023-11-29T23:52:16.116Z"
   },
   {
    "duration": 17,
    "start_time": "2023-11-29T23:52:16.140Z"
   },
   {
    "duration": 15,
    "start_time": "2023-11-29T23:52:16.165Z"
   },
   {
    "duration": 22,
    "start_time": "2023-11-29T23:52:16.182Z"
   },
   {
    "duration": 23,
    "start_time": "2023-11-29T23:52:16.206Z"
   },
   {
    "duration": 17,
    "start_time": "2023-11-29T23:52:16.231Z"
   },
   {
    "duration": 23,
    "start_time": "2023-11-29T23:52:16.251Z"
   },
   {
    "duration": 5,
    "start_time": "2023-11-29T23:52:16.276Z"
   },
   {
    "duration": 7,
    "start_time": "2023-11-29T23:52:16.282Z"
   },
   {
    "duration": 26,
    "start_time": "2023-11-29T23:52:16.291Z"
   },
   {
    "duration": 158,
    "start_time": "2023-11-29T23:52:16.318Z"
   },
   {
    "duration": 14,
    "start_time": "2023-11-29T23:52:41.188Z"
   },
   {
    "duration": 1968,
    "start_time": "2023-11-29T23:53:39.112Z"
   },
   {
    "duration": 17,
    "start_time": "2023-11-29T23:57:43.958Z"
   },
   {
    "duration": 4,
    "start_time": "2023-11-29T23:57:48.759Z"
   },
   {
    "duration": 19,
    "start_time": "2023-11-30T00:01:08.066Z"
   },
   {
    "duration": 47,
    "start_time": "2023-11-30T00:01:24.045Z"
   },
   {
    "duration": 13,
    "start_time": "2023-11-30T00:01:42.121Z"
   },
   {
    "duration": 7,
    "start_time": "2023-11-30T00:02:37.243Z"
   },
   {
    "duration": 17,
    "start_time": "2023-11-30T00:02:39.109Z"
   },
   {
    "duration": 1316,
    "start_time": "2023-11-30T00:03:02.951Z"
   },
   {
    "duration": 5115,
    "start_time": "2023-11-30T00:03:14.136Z"
   },
   {
    "duration": 105,
    "start_time": "2023-11-30T00:03:19.252Z"
   },
   {
    "duration": 26,
    "start_time": "2023-11-30T00:03:19.359Z"
   },
   {
    "duration": 22,
    "start_time": "2023-11-30T00:03:19.386Z"
   },
   {
    "duration": 18,
    "start_time": "2023-11-30T00:03:19.410Z"
   },
   {
    "duration": 40,
    "start_time": "2023-11-30T00:03:19.429Z"
   },
   {
    "duration": 16,
    "start_time": "2023-11-30T00:03:19.470Z"
   },
   {
    "duration": 13,
    "start_time": "2023-11-30T00:03:19.487Z"
   },
   {
    "duration": 17,
    "start_time": "2023-11-30T00:03:19.501Z"
   },
   {
    "duration": 45,
    "start_time": "2023-11-30T00:03:19.520Z"
   },
   {
    "duration": 4,
    "start_time": "2023-11-30T00:03:19.567Z"
   },
   {
    "duration": 19,
    "start_time": "2023-11-30T00:03:19.573Z"
   },
   {
    "duration": 41,
    "start_time": "2023-11-30T00:03:19.593Z"
   },
   {
    "duration": 28,
    "start_time": "2023-11-30T00:03:19.637Z"
   },
   {
    "duration": 20,
    "start_time": "2023-11-30T00:03:19.666Z"
   },
   {
    "duration": 26,
    "start_time": "2023-11-30T00:03:19.688Z"
   },
   {
    "duration": 36,
    "start_time": "2023-11-30T00:03:19.715Z"
   },
   {
    "duration": 1586,
    "start_time": "2023-11-30T00:03:44.311Z"
   },
   {
    "duration": 4823,
    "start_time": "2023-11-30T00:03:51.728Z"
   },
   {
    "duration": 110,
    "start_time": "2023-11-30T00:03:56.553Z"
   },
   {
    "duration": 29,
    "start_time": "2023-11-30T00:03:56.664Z"
   },
   {
    "duration": 26,
    "start_time": "2023-11-30T00:03:56.694Z"
   },
   {
    "duration": 43,
    "start_time": "2023-11-30T00:03:56.723Z"
   },
   {
    "duration": 18,
    "start_time": "2023-11-30T00:03:56.767Z"
   },
   {
    "duration": 16,
    "start_time": "2023-11-30T00:03:56.786Z"
   },
   {
    "duration": 11,
    "start_time": "2023-11-30T00:03:56.803Z"
   },
   {
    "duration": 24,
    "start_time": "2023-11-30T00:03:56.815Z"
   },
   {
    "duration": 35,
    "start_time": "2023-11-30T00:03:56.840Z"
   },
   {
    "duration": 4,
    "start_time": "2023-11-30T00:03:56.877Z"
   },
   {
    "duration": 5,
    "start_time": "2023-11-30T00:03:56.883Z"
   },
   {
    "duration": 24,
    "start_time": "2023-11-30T00:03:56.889Z"
   },
   {
    "duration": 13,
    "start_time": "2023-11-30T00:03:56.916Z"
   },
   {
    "duration": 162,
    "start_time": "2023-11-30T00:03:56.931Z"
   },
   {
    "duration": 0,
    "start_time": "2023-11-30T00:03:57.095Z"
   },
   {
    "duration": 0,
    "start_time": "2023-11-30T00:03:57.096Z"
   },
   {
    "duration": 4,
    "start_time": "2023-11-30T00:04:04.647Z"
   },
   {
    "duration": 8,
    "start_time": "2023-11-30T00:04:05.867Z"
   },
   {
    "duration": 17,
    "start_time": "2023-11-30T00:04:06.378Z"
   },
   {
    "duration": 17,
    "start_time": "2023-11-30T00:09:17.933Z"
   },
   {
    "duration": 15,
    "start_time": "2023-11-30T00:09:19.272Z"
   },
   {
    "duration": 12,
    "start_time": "2023-11-30T00:10:47.235Z"
   },
   {
    "duration": 8276,
    "start_time": "2023-11-30T00:14:07.847Z"
   },
   {
    "duration": 109,
    "start_time": "2023-11-30T00:14:16.126Z"
   },
   {
    "duration": 27,
    "start_time": "2023-11-30T00:14:16.236Z"
   },
   {
    "duration": 25,
    "start_time": "2023-11-30T00:14:16.265Z"
   },
   {
    "duration": 19,
    "start_time": "2023-11-30T00:14:16.292Z"
   },
   {
    "duration": 16,
    "start_time": "2023-11-30T00:14:16.312Z"
   },
   {
    "duration": 47,
    "start_time": "2023-11-30T00:14:16.330Z"
   },
   {
    "duration": 11,
    "start_time": "2023-11-30T00:14:16.379Z"
   },
   {
    "duration": 24,
    "start_time": "2023-11-30T00:14:16.391Z"
   },
   {
    "duration": 37,
    "start_time": "2023-11-30T00:14:16.416Z"
   },
   {
    "duration": 5,
    "start_time": "2023-11-30T00:14:16.454Z"
   },
   {
    "duration": 11,
    "start_time": "2023-11-30T00:14:16.461Z"
   },
   {
    "duration": 44,
    "start_time": "2023-11-30T00:14:16.473Z"
   },
   {
    "duration": 22,
    "start_time": "2023-11-30T00:14:16.520Z"
   },
   {
    "duration": 4,
    "start_time": "2023-11-30T00:14:16.543Z"
   },
   {
    "duration": 20,
    "start_time": "2023-11-30T00:14:16.549Z"
   },
   {
    "duration": 19,
    "start_time": "2023-11-30T00:14:16.571Z"
   },
   {
    "duration": 15,
    "start_time": "2023-11-30T00:14:16.592Z"
   },
   {
    "duration": 273,
    "start_time": "2023-11-30T00:14:16.609Z"
   },
   {
    "duration": 7,
    "start_time": "2023-11-30T00:19:05.147Z"
   },
   {
    "duration": 17,
    "start_time": "2023-11-30T00:20:06.461Z"
   },
   {
    "duration": 7,
    "start_time": "2023-11-30T00:20:31.376Z"
   },
   {
    "duration": 8,
    "start_time": "2023-11-30T00:20:54.278Z"
   },
   {
    "duration": 7435,
    "start_time": "2023-11-30T00:22:11.939Z"
   },
   {
    "duration": 109,
    "start_time": "2023-11-30T00:22:19.376Z"
   },
   {
    "duration": 28,
    "start_time": "2023-11-30T00:22:19.487Z"
   },
   {
    "duration": 25,
    "start_time": "2023-11-30T00:22:19.516Z"
   },
   {
    "duration": 25,
    "start_time": "2023-11-30T00:22:19.543Z"
   },
   {
    "duration": 24,
    "start_time": "2023-11-30T00:22:19.569Z"
   },
   {
    "duration": 16,
    "start_time": "2023-11-30T00:22:19.595Z"
   },
   {
    "duration": 13,
    "start_time": "2023-11-30T00:22:19.613Z"
   },
   {
    "duration": 19,
    "start_time": "2023-11-30T00:22:19.628Z"
   },
   {
    "duration": 29,
    "start_time": "2023-11-30T00:22:19.649Z"
   },
   {
    "duration": 6,
    "start_time": "2023-11-30T00:22:19.680Z"
   },
   {
    "duration": 8,
    "start_time": "2023-11-30T00:22:19.688Z"
   },
   {
    "duration": 26,
    "start_time": "2023-11-30T00:22:19.697Z"
   },
   {
    "duration": 15,
    "start_time": "2023-11-30T00:22:19.725Z"
   },
   {
    "duration": 5,
    "start_time": "2023-11-30T00:22:19.765Z"
   },
   {
    "duration": 12,
    "start_time": "2023-11-30T00:22:19.771Z"
   },
   {
    "duration": 22,
    "start_time": "2023-11-30T00:22:19.784Z"
   },
   {
    "duration": 15,
    "start_time": "2023-11-30T00:22:19.808Z"
   },
   {
    "duration": 9,
    "start_time": "2023-11-30T00:22:19.824Z"
   },
   {
    "duration": 176,
    "start_time": "2023-11-30T00:22:19.835Z"
   },
   {
    "duration": 20,
    "start_time": "2023-11-30T00:25:20.657Z"
   },
   {
    "duration": 13,
    "start_time": "2023-11-30T00:25:29.894Z"
   },
   {
    "duration": 12,
    "start_time": "2023-11-30T00:25:32.908Z"
   },
   {
    "duration": 13,
    "start_time": "2023-11-30T00:25:40.153Z"
   },
   {
    "duration": 19,
    "start_time": "2023-11-30T00:25:48.684Z"
   },
   {
    "duration": 19,
    "start_time": "2023-11-30T00:26:12.915Z"
   },
   {
    "duration": 19,
    "start_time": "2023-11-30T00:26:27.102Z"
   },
   {
    "duration": 19,
    "start_time": "2023-11-30T00:27:20.680Z"
   },
   {
    "duration": 7,
    "start_time": "2023-11-30T00:27:32.888Z"
   },
   {
    "duration": 7211,
    "start_time": "2023-11-30T00:27:47.830Z"
   },
   {
    "duration": 108,
    "start_time": "2023-11-30T00:27:55.043Z"
   },
   {
    "duration": 26,
    "start_time": "2023-11-30T00:27:55.153Z"
   },
   {
    "duration": 26,
    "start_time": "2023-11-30T00:27:55.180Z"
   },
   {
    "duration": 17,
    "start_time": "2023-11-30T00:27:55.207Z"
   },
   {
    "duration": 23,
    "start_time": "2023-11-30T00:27:55.225Z"
   },
   {
    "duration": 27,
    "start_time": "2023-11-30T00:27:55.249Z"
   },
   {
    "duration": 10,
    "start_time": "2023-11-30T00:27:55.278Z"
   },
   {
    "duration": 28,
    "start_time": "2023-11-30T00:27:55.289Z"
   },
   {
    "duration": 22,
    "start_time": "2023-11-30T00:27:55.319Z"
   },
   {
    "duration": 14,
    "start_time": "2023-11-30T00:27:55.342Z"
   },
   {
    "duration": 9,
    "start_time": "2023-11-30T00:27:55.358Z"
   },
   {
    "duration": 25,
    "start_time": "2023-11-30T00:27:55.369Z"
   },
   {
    "duration": 14,
    "start_time": "2023-11-30T00:27:55.396Z"
   },
   {
    "duration": 18,
    "start_time": "2023-11-30T00:27:55.411Z"
   },
   {
    "duration": 10,
    "start_time": "2023-11-30T00:27:55.431Z"
   },
   {
    "duration": 25,
    "start_time": "2023-11-30T00:27:55.442Z"
   },
   {
    "duration": 13,
    "start_time": "2023-11-30T00:27:55.469Z"
   },
   {
    "duration": 11,
    "start_time": "2023-11-30T00:27:55.484Z"
   },
   {
    "duration": 6,
    "start_time": "2023-11-30T00:27:55.497Z"
   },
   {
    "duration": 10,
    "start_time": "2023-11-30T00:29:01.162Z"
   },
   {
    "duration": 240,
    "start_time": "2023-11-30T00:32:51.137Z"
   },
   {
    "duration": 7919,
    "start_time": "2023-11-30T00:33:41.406Z"
   },
   {
    "duration": 7697,
    "start_time": "2023-11-30T00:34:50.027Z"
   },
   {
    "duration": 11153,
    "start_time": "2023-11-30T00:36:49.885Z"
   },
   {
    "duration": 11489,
    "start_time": "2023-11-30T00:37:11.822Z"
   },
   {
    "duration": 7023,
    "start_time": "2023-11-30T00:37:23.313Z"
   },
   {
    "duration": 7424,
    "start_time": "2023-11-30T01:02:52.345Z"
   },
   {
    "duration": 110,
    "start_time": "2023-11-30T01:02:59.771Z"
   },
   {
    "duration": 30,
    "start_time": "2023-11-30T01:02:59.882Z"
   },
   {
    "duration": 26,
    "start_time": "2023-11-30T01:02:59.914Z"
   },
   {
    "duration": 27,
    "start_time": "2023-11-30T01:02:59.943Z"
   },
   {
    "duration": 17,
    "start_time": "2023-11-30T01:02:59.972Z"
   },
   {
    "duration": 18,
    "start_time": "2023-11-30T01:02:59.991Z"
   },
   {
    "duration": 15,
    "start_time": "2023-11-30T01:03:00.011Z"
   },
   {
    "duration": 41,
    "start_time": "2023-11-30T01:03:00.027Z"
   },
   {
    "duration": 38,
    "start_time": "2023-11-30T01:03:00.070Z"
   },
   {
    "duration": 11,
    "start_time": "2023-11-30T01:03:00.110Z"
   },
   {
    "duration": 24,
    "start_time": "2023-11-30T01:03:00.122Z"
   },
   {
    "duration": 43,
    "start_time": "2023-11-30T01:03:00.148Z"
   },
   {
    "duration": 32,
    "start_time": "2023-11-30T01:03:00.193Z"
   },
   {
    "duration": 94,
    "start_time": "2023-11-30T01:03:00.227Z"
   },
   {
    "duration": 0,
    "start_time": "2023-11-30T01:03:00.322Z"
   },
   {
    "duration": 0,
    "start_time": "2023-11-30T01:03:00.323Z"
   },
   {
    "duration": 0,
    "start_time": "2023-11-30T01:03:00.324Z"
   },
   {
    "duration": 0,
    "start_time": "2023-11-30T01:03:00.325Z"
   },
   {
    "duration": 0,
    "start_time": "2023-11-30T01:03:00.326Z"
   },
   {
    "duration": 0,
    "start_time": "2023-11-30T01:03:00.327Z"
   },
   {
    "duration": 0,
    "start_time": "2023-11-30T01:03:00.328Z"
   },
   {
    "duration": 0,
    "start_time": "2023-11-30T01:03:00.329Z"
   },
   {
    "duration": 49,
    "start_time": "2023-11-30T01:03:42.118Z"
   },
   {
    "duration": 7,
    "start_time": "2023-11-30T01:03:44.900Z"
   },
   {
    "duration": 17,
    "start_time": "2023-11-30T01:03:45.522Z"
   },
   {
    "duration": 18,
    "start_time": "2023-11-30T01:03:46.060Z"
   },
   {
    "duration": 175,
    "start_time": "2023-11-30T01:03:47.041Z"
   },
   {
    "duration": 5,
    "start_time": "2023-11-30T01:04:08.036Z"
   },
   {
    "duration": 9,
    "start_time": "2023-11-30T01:04:09.217Z"
   },
   {
    "duration": 11847,
    "start_time": "2023-11-30T01:04:11.784Z"
   },
   {
    "duration": 49,
    "start_time": "2023-11-30T01:05:21.233Z"
   },
   {
    "duration": 114,
    "start_time": "2023-11-30T01:06:04.263Z"
   },
   {
    "duration": 7533,
    "start_time": "2023-11-30T01:08:01.976Z"
   },
   {
    "duration": 0,
    "start_time": "2023-11-30T01:08:09.511Z"
   },
   {
    "duration": 0,
    "start_time": "2023-11-30T01:08:09.512Z"
   },
   {
    "duration": 1,
    "start_time": "2023-11-30T01:08:09.513Z"
   },
   {
    "duration": 0,
    "start_time": "2023-11-30T01:08:09.515Z"
   },
   {
    "duration": 0,
    "start_time": "2023-11-30T01:08:09.515Z"
   },
   {
    "duration": 0,
    "start_time": "2023-11-30T01:08:09.516Z"
   },
   {
    "duration": 0,
    "start_time": "2023-11-30T01:08:09.517Z"
   },
   {
    "duration": 0,
    "start_time": "2023-11-30T01:08:09.518Z"
   },
   {
    "duration": 0,
    "start_time": "2023-11-30T01:08:09.519Z"
   },
   {
    "duration": 0,
    "start_time": "2023-11-30T01:08:09.520Z"
   },
   {
    "duration": 0,
    "start_time": "2023-11-30T01:08:09.522Z"
   },
   {
    "duration": 0,
    "start_time": "2023-11-30T01:08:09.522Z"
   },
   {
    "duration": 0,
    "start_time": "2023-11-30T01:08:09.523Z"
   },
   {
    "duration": 0,
    "start_time": "2023-11-30T01:08:09.524Z"
   },
   {
    "duration": 0,
    "start_time": "2023-11-30T01:08:09.525Z"
   },
   {
    "duration": 0,
    "start_time": "2023-11-30T01:08:09.526Z"
   },
   {
    "duration": 0,
    "start_time": "2023-11-30T01:08:09.527Z"
   },
   {
    "duration": 0,
    "start_time": "2023-11-30T01:08:09.528Z"
   },
   {
    "duration": 0,
    "start_time": "2023-11-30T01:08:09.529Z"
   },
   {
    "duration": 0,
    "start_time": "2023-11-30T01:08:09.530Z"
   },
   {
    "duration": 0,
    "start_time": "2023-11-30T01:08:09.531Z"
   },
   {
    "duration": 14618,
    "start_time": "2023-11-30T01:09:07.947Z"
   },
   {
    "duration": 0,
    "start_time": "2023-11-30T01:09:22.567Z"
   },
   {
    "duration": 0,
    "start_time": "2023-11-30T01:09:22.568Z"
   },
   {
    "duration": 0,
    "start_time": "2023-11-30T01:09:22.569Z"
   },
   {
    "duration": 0,
    "start_time": "2023-11-30T01:09:22.570Z"
   },
   {
    "duration": 0,
    "start_time": "2023-11-30T01:09:22.571Z"
   },
   {
    "duration": 0,
    "start_time": "2023-11-30T01:09:22.572Z"
   },
   {
    "duration": 0,
    "start_time": "2023-11-30T01:09:22.574Z"
   },
   {
    "duration": 0,
    "start_time": "2023-11-30T01:09:22.575Z"
   },
   {
    "duration": 0,
    "start_time": "2023-11-30T01:09:22.576Z"
   },
   {
    "duration": 0,
    "start_time": "2023-11-30T01:09:22.578Z"
   },
   {
    "duration": 0,
    "start_time": "2023-11-30T01:09:22.579Z"
   },
   {
    "duration": 0,
    "start_time": "2023-11-30T01:09:22.580Z"
   },
   {
    "duration": 1,
    "start_time": "2023-11-30T01:09:22.580Z"
   },
   {
    "duration": 0,
    "start_time": "2023-11-30T01:09:22.582Z"
   },
   {
    "duration": 0,
    "start_time": "2023-11-30T01:09:22.583Z"
   },
   {
    "duration": 0,
    "start_time": "2023-11-30T01:09:22.584Z"
   },
   {
    "duration": 0,
    "start_time": "2023-11-30T01:09:22.585Z"
   },
   {
    "duration": 0,
    "start_time": "2023-11-30T01:09:22.586Z"
   },
   {
    "duration": 0,
    "start_time": "2023-11-30T01:09:22.587Z"
   },
   {
    "duration": 0,
    "start_time": "2023-11-30T01:09:22.587Z"
   },
   {
    "duration": 0,
    "start_time": "2023-11-30T01:09:22.588Z"
   },
   {
    "duration": 7441,
    "start_time": "2023-11-30T01:11:32.992Z"
   },
   {
    "duration": 108,
    "start_time": "2023-11-30T01:11:40.435Z"
   },
   {
    "duration": 31,
    "start_time": "2023-11-30T01:11:40.545Z"
   },
   {
    "duration": 26,
    "start_time": "2023-11-30T01:11:40.577Z"
   },
   {
    "duration": 20,
    "start_time": "2023-11-30T01:11:40.606Z"
   },
   {
    "duration": 39,
    "start_time": "2023-11-30T01:11:40.627Z"
   },
   {
    "duration": 21,
    "start_time": "2023-11-30T01:11:40.668Z"
   },
   {
    "duration": 10,
    "start_time": "2023-11-30T01:11:40.691Z"
   },
   {
    "duration": 13,
    "start_time": "2023-11-30T01:11:40.703Z"
   },
   {
    "duration": 19,
    "start_time": "2023-11-30T01:11:40.717Z"
   },
   {
    "duration": 31,
    "start_time": "2023-11-30T01:11:40.737Z"
   },
   {
    "duration": 11,
    "start_time": "2023-11-30T01:11:40.770Z"
   },
   {
    "duration": 25,
    "start_time": "2023-11-30T01:11:40.783Z"
   },
   {
    "duration": 16,
    "start_time": "2023-11-30T01:11:40.811Z"
   },
   {
    "duration": 69,
    "start_time": "2023-11-30T01:11:40.829Z"
   },
   {
    "duration": 7,
    "start_time": "2023-11-30T01:11:40.900Z"
   },
   {
    "duration": 17,
    "start_time": "2023-11-30T01:11:40.908Z"
   },
   {
    "duration": 41,
    "start_time": "2023-11-30T01:11:40.926Z"
   },
   {
    "duration": 5,
    "start_time": "2023-11-30T01:11:40.969Z"
   },
   {
    "duration": 8,
    "start_time": "2023-11-30T01:11:40.976Z"
   },
   {
    "duration": 290,
    "start_time": "2023-11-30T01:11:40.985Z"
   },
   {
    "duration": 100,
    "start_time": "2023-11-30T01:11:41.276Z"
   },
   {
    "duration": 9318,
    "start_time": "2023-11-30T09:50:12.300Z"
   },
   {
    "duration": 362,
    "start_time": "2023-11-30T09:50:21.620Z"
   },
   {
    "duration": 29,
    "start_time": "2023-11-30T09:50:21.983Z"
   },
   {
    "duration": 25,
    "start_time": "2023-11-30T09:50:22.014Z"
   },
   {
    "duration": 19,
    "start_time": "2023-11-30T09:50:22.109Z"
   },
   {
    "duration": 5,
    "start_time": "2023-11-30T09:50:23.103Z"
   },
   {
    "duration": 164,
    "start_time": "2023-11-30T09:50:49.930Z"
   },
   {
    "duration": 11,
    "start_time": "2023-11-30T09:51:35.767Z"
   },
   {
    "duration": 10,
    "start_time": "2023-11-30T09:52:33.951Z"
   },
   {
    "duration": 6,
    "start_time": "2023-11-30T09:52:35.545Z"
   },
   {
    "duration": 21,
    "start_time": "2023-11-30T09:52:36.597Z"
   },
   {
    "duration": 17,
    "start_time": "2023-11-30T09:52:39.608Z"
   },
   {
    "duration": 19,
    "start_time": "2023-11-30T09:52:40.322Z"
   },
   {
    "duration": 10,
    "start_time": "2023-11-30T09:52:55.336Z"
   },
   {
    "duration": 18,
    "start_time": "2023-11-30T09:52:55.950Z"
   },
   {
    "duration": 4,
    "start_time": "2023-11-30T09:52:56.766Z"
   },
   {
    "duration": 3,
    "start_time": "2023-11-30T09:52:57.460Z"
   },
   {
    "duration": 24,
    "start_time": "2023-11-30T09:52:58.110Z"
   },
   {
    "duration": 18,
    "start_time": "2023-11-30T09:52:58.966Z"
   },
   {
    "duration": 54,
    "start_time": "2023-11-30T09:52:59.581Z"
   },
   {
    "duration": 6,
    "start_time": "2023-11-30T09:53:00.225Z"
   },
   {
    "duration": 15,
    "start_time": "2023-11-30T09:53:00.838Z"
   },
   {
    "duration": 15,
    "start_time": "2023-11-30T09:53:01.533Z"
   },
   {
    "duration": 10,
    "start_time": "2023-11-30T09:53:02.289Z"
   },
   {
    "duration": 8039,
    "start_time": "2023-11-30T09:53:44.104Z"
   },
   {
    "duration": 118,
    "start_time": "2023-11-30T09:53:52.145Z"
   },
   {
    "duration": 30,
    "start_time": "2023-11-30T09:53:52.267Z"
   },
   {
    "duration": 27,
    "start_time": "2023-11-30T09:53:52.298Z"
   },
   {
    "duration": 21,
    "start_time": "2023-11-30T09:53:52.327Z"
   },
   {
    "duration": 29,
    "start_time": "2023-11-30T09:53:52.350Z"
   },
   {
    "duration": 25,
    "start_time": "2023-11-30T09:53:52.380Z"
   },
   {
    "duration": 65,
    "start_time": "2023-11-30T09:53:52.406Z"
   },
   {
    "duration": 19,
    "start_time": "2023-11-30T09:53:52.472Z"
   },
   {
    "duration": 18,
    "start_time": "2023-11-30T09:53:52.494Z"
   },
   {
    "duration": 17,
    "start_time": "2023-11-30T09:53:52.514Z"
   },
   {
    "duration": 33,
    "start_time": "2023-11-30T09:53:52.532Z"
   },
   {
    "duration": 4,
    "start_time": "2023-11-30T09:53:52.567Z"
   },
   {
    "duration": 10,
    "start_time": "2023-11-30T09:53:52.574Z"
   },
   {
    "duration": 31,
    "start_time": "2023-11-30T09:53:52.586Z"
   },
   {
    "duration": 25,
    "start_time": "2023-11-30T09:53:52.619Z"
   },
   {
    "duration": 52,
    "start_time": "2023-11-30T09:53:52.646Z"
   },
   {
    "duration": 48,
    "start_time": "2023-11-30T09:53:52.700Z"
   },
   {
    "duration": 42,
    "start_time": "2023-11-30T09:53:52.750Z"
   },
   {
    "duration": 34,
    "start_time": "2023-11-30T09:53:52.794Z"
   },
   {
    "duration": 182,
    "start_time": "2023-11-30T09:53:52.829Z"
   },
   {
    "duration": 0,
    "start_time": "2023-11-30T09:53:53.012Z"
   },
   {
    "duration": 0,
    "start_time": "2023-11-30T09:53:53.014Z"
   },
   {
    "duration": 0,
    "start_time": "2023-11-30T09:53:53.015Z"
   },
   {
    "duration": 0,
    "start_time": "2023-11-30T09:53:53.016Z"
   },
   {
    "duration": 15,
    "start_time": "2023-11-30T10:33:09.365Z"
   },
   {
    "duration": 4,
    "start_time": "2023-11-30T10:36:04.887Z"
   },
   {
    "duration": 1213,
    "start_time": "2023-11-30T10:39:02.346Z"
   },
   {
    "duration": 8041,
    "start_time": "2023-11-30T10:42:23.511Z"
   },
   {
    "duration": 105,
    "start_time": "2023-11-30T10:42:31.554Z"
   },
   {
    "duration": 29,
    "start_time": "2023-11-30T10:42:31.660Z"
   },
   {
    "duration": 36,
    "start_time": "2023-11-30T10:42:31.691Z"
   },
   {
    "duration": 19,
    "start_time": "2023-11-30T10:42:31.729Z"
   },
   {
    "duration": 30,
    "start_time": "2023-11-30T10:42:31.749Z"
   },
   {
    "duration": 25,
    "start_time": "2023-11-30T10:42:31.781Z"
   },
   {
    "duration": 52,
    "start_time": "2023-11-30T10:42:31.808Z"
   },
   {
    "duration": 16,
    "start_time": "2023-11-30T10:42:31.861Z"
   },
   {
    "duration": 40,
    "start_time": "2023-11-30T10:42:31.879Z"
   },
   {
    "duration": 36,
    "start_time": "2023-11-30T10:42:31.920Z"
   },
   {
    "duration": 19,
    "start_time": "2023-11-30T10:42:31.957Z"
   },
   {
    "duration": 19,
    "start_time": "2023-11-30T10:42:31.978Z"
   },
   {
    "duration": 18,
    "start_time": "2023-11-30T10:42:31.998Z"
   },
   {
    "duration": 83,
    "start_time": "2023-11-30T10:42:32.018Z"
   },
   {
    "duration": 29,
    "start_time": "2023-11-30T10:42:32.103Z"
   },
   {
    "duration": 53,
    "start_time": "2023-11-30T10:42:32.133Z"
   },
   {
    "duration": 6,
    "start_time": "2023-11-30T10:42:32.188Z"
   },
   {
    "duration": 21,
    "start_time": "2023-11-30T10:42:32.195Z"
   },
   {
    "duration": 18,
    "start_time": "2023-11-30T10:42:32.218Z"
   },
   {
    "duration": 25,
    "start_time": "2023-11-30T10:42:32.237Z"
   },
   {
    "duration": 198,
    "start_time": "2023-11-30T10:42:32.263Z"
   },
   {
    "duration": 0,
    "start_time": "2023-11-30T10:42:32.462Z"
   },
   {
    "duration": 0,
    "start_time": "2023-11-30T10:42:32.463Z"
   },
   {
    "duration": 0,
    "start_time": "2023-11-30T10:42:32.464Z"
   },
   {
    "duration": 0,
    "start_time": "2023-11-30T10:42:32.465Z"
   },
   {
    "duration": 0,
    "start_time": "2023-11-30T10:42:32.473Z"
   },
   {
    "duration": 101417,
    "start_time": "2023-11-30T10:42:38.598Z"
   },
   {
    "duration": 102591,
    "start_time": "2023-11-30T10:45:28.446Z"
   },
   {
    "duration": 5,
    "start_time": "2023-11-30T10:51:18.843Z"
   },
   {
    "duration": 8,
    "start_time": "2023-11-30T10:51:20.545Z"
   },
   {
    "duration": 94,
    "start_time": "2023-11-30T10:51:21.984Z"
   },
   {
    "duration": 92,
    "start_time": "2023-11-30T11:24:29.812Z"
   },
   {
    "duration": 2,
    "start_time": "2023-11-30T11:24:40.874Z"
   },
   {
    "duration": 90,
    "start_time": "2023-11-30T11:24:41.732Z"
   },
   {
    "duration": 15,
    "start_time": "2023-11-30T11:25:08.133Z"
   },
   {
    "duration": 10,
    "start_time": "2023-11-30T11:25:48.877Z"
   },
   {
    "duration": 14,
    "start_time": "2023-11-30T11:26:11.958Z"
   },
   {
    "duration": 93,
    "start_time": "2023-11-30T11:29:52.300Z"
   },
   {
    "duration": 14993,
    "start_time": "2023-11-30T11:30:39.810Z"
   },
   {
    "duration": 14,
    "start_time": "2023-11-30T11:32:11.630Z"
   },
   {
    "duration": 15472,
    "start_time": "2023-11-30T11:32:15.455Z"
   },
   {
    "duration": 8192,
    "start_time": "2023-11-30T11:42:35.016Z"
   },
   {
    "duration": 108,
    "start_time": "2023-11-30T11:42:43.211Z"
   },
   {
    "duration": 31,
    "start_time": "2023-11-30T11:42:43.320Z"
   },
   {
    "duration": 27,
    "start_time": "2023-11-30T11:42:43.353Z"
   },
   {
    "duration": 41,
    "start_time": "2023-11-30T11:42:43.383Z"
   },
   {
    "duration": 25,
    "start_time": "2023-11-30T11:42:43.426Z"
   },
   {
    "duration": 11,
    "start_time": "2023-11-30T11:42:43.453Z"
   },
   {
    "duration": 37,
    "start_time": "2023-11-30T11:42:43.467Z"
   },
   {
    "duration": 20,
    "start_time": "2023-11-30T11:42:43.506Z"
   },
   {
    "duration": 12,
    "start_time": "2023-11-30T11:42:43.527Z"
   },
   {
    "duration": 11,
    "start_time": "2023-11-30T11:42:43.541Z"
   },
   {
    "duration": 38,
    "start_time": "2023-11-30T11:42:43.553Z"
   },
   {
    "duration": 5,
    "start_time": "2023-11-30T11:42:43.592Z"
   },
   {
    "duration": 7,
    "start_time": "2023-11-30T11:42:43.599Z"
   },
   {
    "duration": 26,
    "start_time": "2023-11-30T11:42:43.608Z"
   },
   {
    "duration": 37,
    "start_time": "2023-11-30T11:42:43.636Z"
   },
   {
    "duration": 53,
    "start_time": "2023-11-30T11:42:43.675Z"
   },
   {
    "duration": 6,
    "start_time": "2023-11-30T11:42:43.730Z"
   },
   {
    "duration": 16,
    "start_time": "2023-11-30T11:42:43.738Z"
   },
   {
    "duration": 16,
    "start_time": "2023-11-30T11:42:43.773Z"
   },
   {
    "duration": 18,
    "start_time": "2023-11-30T11:42:43.790Z"
   },
   {
    "duration": 104030,
    "start_time": "2023-11-30T11:42:43.810Z"
   },
   {
    "duration": 51,
    "start_time": "2023-11-30T11:44:27.842Z"
   },
   {
    "duration": 4,
    "start_time": "2023-11-30T11:44:27.895Z"
   },
   {
    "duration": 15,
    "start_time": "2023-11-30T11:44:27.900Z"
   },
   {
    "duration": 20555,
    "start_time": "2023-11-30T11:44:27.917Z"
   },
   {
    "duration": 244,
    "start_time": "2023-11-30T11:44:48.474Z"
   },
   {
    "duration": 87,
    "start_time": "2023-11-30T11:45:09.780Z"
   },
   {
    "duration": 22838,
    "start_time": "2023-11-30T11:45:19.254Z"
   },
   {
    "duration": 8375,
    "start_time": "2023-11-30T11:50:15.446Z"
   },
   {
    "duration": 109,
    "start_time": "2023-11-30T11:50:23.823Z"
   },
   {
    "duration": 33,
    "start_time": "2023-11-30T11:50:23.934Z"
   },
   {
    "duration": 26,
    "start_time": "2023-11-30T11:50:23.969Z"
   },
   {
    "duration": 39,
    "start_time": "2023-11-30T11:50:23.997Z"
   },
   {
    "duration": 27,
    "start_time": "2023-11-30T11:50:24.038Z"
   },
   {
    "duration": 15,
    "start_time": "2023-11-30T11:50:24.067Z"
   },
   {
    "duration": 42,
    "start_time": "2023-11-30T11:50:24.084Z"
   },
   {
    "duration": 18,
    "start_time": "2023-11-30T11:50:24.127Z"
   },
   {
    "duration": 12,
    "start_time": "2023-11-30T11:50:24.147Z"
   },
   {
    "duration": 13,
    "start_time": "2023-11-30T11:50:24.160Z"
   },
   {
    "duration": 39,
    "start_time": "2023-11-30T11:50:24.175Z"
   },
   {
    "duration": 5,
    "start_time": "2023-11-30T11:50:24.216Z"
   },
   {
    "duration": 5,
    "start_time": "2023-11-30T11:50:24.224Z"
   },
   {
    "duration": 24,
    "start_time": "2023-11-30T11:50:24.231Z"
   },
   {
    "duration": 38,
    "start_time": "2023-11-30T11:50:24.257Z"
   },
   {
    "duration": 59,
    "start_time": "2023-11-30T11:50:24.297Z"
   },
   {
    "duration": 7,
    "start_time": "2023-11-30T11:50:24.357Z"
   },
   {
    "duration": 16,
    "start_time": "2023-11-30T11:50:24.366Z"
   },
   {
    "duration": 15,
    "start_time": "2023-11-30T11:50:24.383Z"
   },
   {
    "duration": 20,
    "start_time": "2023-11-30T11:50:24.400Z"
   },
   {
    "duration": 103585,
    "start_time": "2023-11-30T11:50:24.422Z"
   },
   {
    "duration": 48,
    "start_time": "2023-11-30T11:52:08.008Z"
   },
   {
    "duration": 19,
    "start_time": "2023-11-30T11:52:08.058Z"
   },
   {
    "duration": 11,
    "start_time": "2023-11-30T11:52:08.079Z"
   },
   {
    "duration": 15,
    "start_time": "2023-11-30T11:52:08.093Z"
   },
   {
    "duration": 21454,
    "start_time": "2023-11-30T11:52:08.109Z"
   },
   {
    "duration": 22428,
    "start_time": "2023-11-30T11:52:29.565Z"
   },
   {
    "duration": 26,
    "start_time": "2023-11-30T12:03:36.605Z"
   },
   {
    "duration": 168,
    "start_time": "2023-11-30T12:03:57.766Z"
   },
   {
    "duration": 18,
    "start_time": "2023-11-30T12:04:23.166Z"
   },
   {
    "duration": 470,
    "start_time": "2023-11-30T12:05:10.005Z"
   },
   {
    "duration": 27,
    "start_time": "2023-11-30T12:05:53.885Z"
   },
   {
    "duration": 27,
    "start_time": "2023-11-30T12:08:00.245Z"
   },
   {
    "duration": 8298,
    "start_time": "2023-11-30T12:08:09.728Z"
   },
   {
    "duration": 111,
    "start_time": "2023-11-30T12:08:18.028Z"
   },
   {
    "duration": 32,
    "start_time": "2023-11-30T12:08:18.141Z"
   },
   {
    "duration": 28,
    "start_time": "2023-11-30T12:08:18.174Z"
   },
   {
    "duration": 21,
    "start_time": "2023-11-30T12:08:18.205Z"
   },
   {
    "duration": 36,
    "start_time": "2023-11-30T12:08:18.227Z"
   },
   {
    "duration": 10,
    "start_time": "2023-11-30T12:08:18.265Z"
   },
   {
    "duration": 25,
    "start_time": "2023-11-30T12:08:18.277Z"
   },
   {
    "duration": 19,
    "start_time": "2023-11-30T12:08:18.303Z"
   },
   {
    "duration": 12,
    "start_time": "2023-11-30T12:08:18.323Z"
   },
   {
    "duration": 21,
    "start_time": "2023-11-30T12:08:18.336Z"
   },
   {
    "duration": 32,
    "start_time": "2023-11-30T12:08:18.359Z"
   },
   {
    "duration": 6,
    "start_time": "2023-11-30T12:08:18.393Z"
   },
   {
    "duration": 9,
    "start_time": "2023-11-30T12:08:18.403Z"
   },
   {
    "duration": 43,
    "start_time": "2023-11-30T12:08:18.414Z"
   },
   {
    "duration": 23,
    "start_time": "2023-11-30T12:08:18.459Z"
   },
   {
    "duration": 55,
    "start_time": "2023-11-30T12:08:18.484Z"
   },
   {
    "duration": 7,
    "start_time": "2023-11-30T12:08:18.541Z"
   },
   {
    "duration": 38,
    "start_time": "2023-11-30T12:08:18.549Z"
   },
   {
    "duration": 5,
    "start_time": "2023-11-30T12:08:18.589Z"
   },
   {
    "duration": 22,
    "start_time": "2023-11-30T12:08:18.595Z"
   },
   {
    "duration": 19,
    "start_time": "2023-11-30T12:08:18.618Z"
   },
   {
    "duration": 4570,
    "start_time": "2023-11-30T12:08:18.639Z"
   },
   {
    "duration": 36,
    "start_time": "2023-11-30T12:08:23.211Z"
   },
   {
    "duration": 39,
    "start_time": "2023-11-30T12:08:23.249Z"
   },
   {
    "duration": 4,
    "start_time": "2023-11-30T12:08:23.290Z"
   },
   {
    "duration": 17,
    "start_time": "2023-11-30T12:08:23.296Z"
   },
   {
    "duration": 14,
    "start_time": "2023-11-30T12:08:23.315Z"
   },
   {
    "duration": 21845,
    "start_time": "2023-11-30T12:08:23.331Z"
   },
   {
    "duration": 20457,
    "start_time": "2023-11-30T12:08:45.178Z"
   },
   {
    "duration": 8353,
    "start_time": "2023-11-30T12:10:04.092Z"
   },
   {
    "duration": 111,
    "start_time": "2023-11-30T12:10:12.447Z"
   },
   {
    "duration": 30,
    "start_time": "2023-11-30T12:10:12.559Z"
   },
   {
    "duration": 26,
    "start_time": "2023-11-30T12:10:12.591Z"
   },
   {
    "duration": 21,
    "start_time": "2023-11-30T12:10:12.619Z"
   },
   {
    "duration": 32,
    "start_time": "2023-11-30T12:10:12.642Z"
   },
   {
    "duration": 6,
    "start_time": "2023-11-30T12:10:12.676Z"
   },
   {
    "duration": 45,
    "start_time": "2023-11-30T12:10:12.684Z"
   },
   {
    "duration": 16,
    "start_time": "2023-11-30T12:10:12.731Z"
   },
   {
    "duration": 18,
    "start_time": "2023-11-30T12:10:12.749Z"
   },
   {
    "duration": 14,
    "start_time": "2023-11-30T12:10:12.769Z"
   },
   {
    "duration": 21,
    "start_time": "2023-11-30T12:10:12.784Z"
   },
   {
    "duration": 15,
    "start_time": "2023-11-30T12:10:12.807Z"
   },
   {
    "duration": 14,
    "start_time": "2023-11-30T12:10:12.826Z"
   },
   {
    "duration": 37,
    "start_time": "2023-11-30T12:10:12.841Z"
   },
   {
    "duration": 20,
    "start_time": "2023-11-30T12:10:12.880Z"
   },
   {
    "duration": 57,
    "start_time": "2023-11-30T12:10:12.901Z"
   },
   {
    "duration": 6,
    "start_time": "2023-11-30T12:10:12.974Z"
   },
   {
    "duration": 18,
    "start_time": "2023-11-30T12:10:12.982Z"
   },
   {
    "duration": 5,
    "start_time": "2023-11-30T12:10:13.002Z"
   },
   {
    "duration": 26,
    "start_time": "2023-11-30T12:10:13.008Z"
   },
   {
    "duration": 5,
    "start_time": "2023-11-30T12:10:13.036Z"
   },
   {
    "duration": 4469,
    "start_time": "2023-11-30T12:10:13.042Z"
   },
   {
    "duration": 28,
    "start_time": "2023-11-30T12:10:17.513Z"
   },
   {
    "duration": 42,
    "start_time": "2023-11-30T12:10:17.543Z"
   },
   {
    "duration": 3,
    "start_time": "2023-11-30T12:10:17.587Z"
   },
   {
    "duration": 7,
    "start_time": "2023-11-30T12:10:17.592Z"
   },
   {
    "duration": 10,
    "start_time": "2023-11-30T12:10:17.600Z"
   },
   {
    "duration": 11,
    "start_time": "2023-11-30T12:10:17.611Z"
   },
   {
    "duration": 23196,
    "start_time": "2023-11-30T12:10:17.623Z"
   },
   {
    "duration": 20643,
    "start_time": "2023-11-30T12:10:40.821Z"
   },
   {
    "duration": 8258,
    "start_time": "2023-11-30T12:14:22.387Z"
   },
   {
    "duration": 111,
    "start_time": "2023-11-30T12:14:30.647Z"
   },
   {
    "duration": 29,
    "start_time": "2023-11-30T12:14:30.759Z"
   },
   {
    "duration": 37,
    "start_time": "2023-11-30T12:14:30.789Z"
   },
   {
    "duration": 46,
    "start_time": "2023-11-30T12:14:30.828Z"
   },
   {
    "duration": 40,
    "start_time": "2023-11-30T12:14:30.875Z"
   },
   {
    "duration": 45,
    "start_time": "2023-11-30T12:14:30.917Z"
   },
   {
    "duration": 42,
    "start_time": "2023-11-30T12:14:30.964Z"
   },
   {
    "duration": 55,
    "start_time": "2023-11-30T12:14:31.008Z"
   },
   {
    "duration": 25,
    "start_time": "2023-11-30T12:14:31.065Z"
   },
   {
    "duration": 40,
    "start_time": "2023-11-30T12:14:31.092Z"
   },
   {
    "duration": 40,
    "start_time": "2023-11-30T12:14:31.133Z"
   },
   {
    "duration": 24,
    "start_time": "2023-11-30T12:14:31.174Z"
   },
   {
    "duration": 32,
    "start_time": "2023-11-30T12:14:31.201Z"
   },
   {
    "duration": 57,
    "start_time": "2023-11-30T12:14:31.234Z"
   },
   {
    "duration": 34,
    "start_time": "2023-11-30T12:14:31.293Z"
   },
   {
    "duration": 73,
    "start_time": "2023-11-30T12:14:31.329Z"
   },
   {
    "duration": 77,
    "start_time": "2023-11-30T12:14:31.403Z"
   },
   {
    "duration": 45,
    "start_time": "2023-11-30T12:14:31.482Z"
   },
   {
    "duration": 28,
    "start_time": "2023-11-30T12:14:31.529Z"
   },
   {
    "duration": 40,
    "start_time": "2023-11-30T12:14:31.559Z"
   },
   {
    "duration": 29,
    "start_time": "2023-11-30T12:14:31.601Z"
   },
   {
    "duration": 4421,
    "start_time": "2023-11-30T12:14:31.632Z"
   },
   {
    "duration": 37,
    "start_time": "2023-11-30T12:14:36.054Z"
   },
   {
    "duration": 34,
    "start_time": "2023-11-30T12:14:36.093Z"
   },
   {
    "duration": 4,
    "start_time": "2023-11-30T12:14:36.129Z"
   },
   {
    "duration": 18,
    "start_time": "2023-11-30T12:14:36.135Z"
   },
   {
    "duration": 11,
    "start_time": "2023-11-30T12:14:36.172Z"
   },
   {
    "duration": 21001,
    "start_time": "2023-11-30T12:14:36.185Z"
   },
   {
    "duration": 21101,
    "start_time": "2023-11-30T12:14:57.187Z"
   },
   {
    "duration": 16,
    "start_time": "2023-11-30T12:15:18.289Z"
   },
   {
    "duration": 290,
    "start_time": "2023-11-30T12:18:00.085Z"
   },
   {
    "duration": 8142,
    "start_time": "2023-11-30T12:18:37.984Z"
   },
   {
    "duration": 109,
    "start_time": "2023-11-30T12:18:46.129Z"
   },
   {
    "duration": 31,
    "start_time": "2023-11-30T12:18:46.240Z"
   },
   {
    "duration": 27,
    "start_time": "2023-11-30T12:18:46.273Z"
   },
   {
    "duration": 21,
    "start_time": "2023-11-30T12:18:46.304Z"
   },
   {
    "duration": 12,
    "start_time": "2023-11-30T12:18:46.327Z"
   },
   {
    "duration": 36,
    "start_time": "2023-11-30T12:18:46.341Z"
   },
   {
    "duration": 23,
    "start_time": "2023-11-30T12:18:46.379Z"
   },
   {
    "duration": 18,
    "start_time": "2023-11-30T12:18:46.404Z"
   },
   {
    "duration": 14,
    "start_time": "2023-11-30T12:18:46.424Z"
   },
   {
    "duration": 42,
    "start_time": "2023-11-30T12:18:46.440Z"
   },
   {
    "duration": 20,
    "start_time": "2023-11-30T12:18:46.484Z"
   },
   {
    "duration": 5,
    "start_time": "2023-11-30T12:18:46.506Z"
   },
   {
    "duration": 8,
    "start_time": "2023-11-30T12:18:46.515Z"
   },
   {
    "duration": 50,
    "start_time": "2023-11-30T12:18:46.524Z"
   },
   {
    "duration": 31,
    "start_time": "2023-11-30T12:18:46.576Z"
   },
   {
    "duration": 91,
    "start_time": "2023-11-30T12:18:46.608Z"
   },
   {
    "duration": 107,
    "start_time": "2023-11-30T12:18:46.701Z"
   },
   {
    "duration": 17,
    "start_time": "2023-11-30T12:18:46.810Z"
   },
   {
    "duration": 5,
    "start_time": "2023-11-30T12:18:46.829Z"
   },
   {
    "duration": 19,
    "start_time": "2023-11-30T12:18:46.836Z"
   },
   {
    "duration": 7,
    "start_time": "2023-11-30T12:18:46.857Z"
   },
   {
    "duration": 4488,
    "start_time": "2023-11-30T12:18:46.866Z"
   },
   {
    "duration": 37,
    "start_time": "2023-11-30T12:18:51.356Z"
   },
   {
    "duration": 28,
    "start_time": "2023-11-30T12:18:51.394Z"
   },
   {
    "duration": 5,
    "start_time": "2023-11-30T12:18:51.424Z"
   },
   {
    "duration": 10,
    "start_time": "2023-11-30T12:18:51.431Z"
   },
   {
    "duration": 38,
    "start_time": "2023-11-30T12:18:51.443Z"
   },
   {
    "duration": 21286,
    "start_time": "2023-11-30T12:18:51.482Z"
   },
   {
    "duration": 20869,
    "start_time": "2023-11-30T12:19:12.770Z"
   },
   {
    "duration": 274,
    "start_time": "2023-11-30T12:19:33.641Z"
   },
   {
    "duration": 122,
    "start_time": "2023-11-30T12:20:01.115Z"
   },
   {
    "duration": 15,
    "start_time": "2023-11-30T12:20:41.901Z"
   },
   {
    "duration": 104,
    "start_time": "2023-11-30T12:21:36.610Z"
   },
   {
    "duration": 16,
    "start_time": "2023-11-30T12:22:00.746Z"
   },
   {
    "duration": 106,
    "start_time": "2023-11-30T12:25:08.606Z"
   },
   {
    "duration": 15,
    "start_time": "2023-11-30T12:25:16.265Z"
   },
   {
    "duration": 20703,
    "start_time": "2023-11-30T12:29:17.586Z"
   },
   {
    "duration": 19942,
    "start_time": "2023-11-30T12:33:13.594Z"
   },
   {
    "duration": 15,
    "start_time": "2023-11-30T12:35:17.495Z"
   },
   {
    "duration": 12,
    "start_time": "2023-11-30T12:39:10.950Z"
   },
   {
    "duration": 12,
    "start_time": "2023-11-30T12:39:58.229Z"
   },
   {
    "duration": 9,
    "start_time": "2023-11-30T12:42:18.204Z"
   },
   {
    "duration": 87,
    "start_time": "2023-11-30T12:43:04.044Z"
   },
   {
    "duration": 20,
    "start_time": "2023-11-30T12:43:10.504Z"
   },
   {
    "duration": 15,
    "start_time": "2023-11-30T12:43:37.816Z"
   },
   {
    "duration": 12,
    "start_time": "2023-11-30T12:43:41.444Z"
   },
   {
    "duration": 20,
    "start_time": "2023-11-30T12:43:50.948Z"
   },
   {
    "duration": 8111,
    "start_time": "2023-11-30T12:51:52.348Z"
   },
   {
    "duration": 106,
    "start_time": "2023-11-30T12:52:00.461Z"
   },
   {
    "duration": 28,
    "start_time": "2023-11-30T12:52:00.569Z"
   },
   {
    "duration": 79,
    "start_time": "2023-11-30T12:52:00.599Z"
   },
   {
    "duration": 46,
    "start_time": "2023-11-30T12:52:00.680Z"
   },
   {
    "duration": 41,
    "start_time": "2023-11-30T12:52:00.727Z"
   },
   {
    "duration": 56,
    "start_time": "2023-11-30T12:52:00.769Z"
   },
   {
    "duration": 76,
    "start_time": "2023-11-30T12:52:00.827Z"
   },
   {
    "duration": 46,
    "start_time": "2023-11-30T12:52:00.905Z"
   },
   {
    "duration": 51,
    "start_time": "2023-11-30T12:52:00.952Z"
   },
   {
    "duration": 73,
    "start_time": "2023-11-30T12:52:01.005Z"
   },
   {
    "duration": 50,
    "start_time": "2023-11-30T12:52:01.080Z"
   },
   {
    "duration": 28,
    "start_time": "2023-11-30T12:52:01.132Z"
   },
   {
    "duration": 33,
    "start_time": "2023-11-30T12:52:01.163Z"
   },
   {
    "duration": 64,
    "start_time": "2023-11-30T12:52:01.198Z"
   },
   {
    "duration": 52,
    "start_time": "2023-11-30T12:52:01.264Z"
   },
   {
    "duration": 87,
    "start_time": "2023-11-30T12:52:01.317Z"
   },
   {
    "duration": 57,
    "start_time": "2023-11-30T12:52:01.406Z"
   },
   {
    "duration": 45,
    "start_time": "2023-11-30T12:52:01.465Z"
   },
   {
    "duration": 70,
    "start_time": "2023-11-30T12:52:01.512Z"
   },
   {
    "duration": 60,
    "start_time": "2023-11-30T12:52:01.584Z"
   },
   {
    "duration": 41,
    "start_time": "2023-11-30T12:52:01.646Z"
   },
   {
    "duration": 4505,
    "start_time": "2023-11-30T12:52:01.688Z"
   },
   {
    "duration": 28,
    "start_time": "2023-11-30T12:52:06.194Z"
   },
   {
    "duration": 27,
    "start_time": "2023-11-30T12:52:06.223Z"
   },
   {
    "duration": 22,
    "start_time": "2023-11-30T12:52:06.252Z"
   },
   {
    "duration": 46,
    "start_time": "2023-11-30T12:52:06.276Z"
   },
   {
    "duration": 48,
    "start_time": "2023-11-30T12:52:06.323Z"
   },
   {
    "duration": 20792,
    "start_time": "2023-11-30T12:52:06.372Z"
   },
   {
    "duration": 20751,
    "start_time": "2023-11-30T12:52:27.166Z"
   },
   {
    "duration": 16,
    "start_time": "2023-11-30T12:52:47.919Z"
   },
   {
    "duration": 181,
    "start_time": "2023-11-30T12:52:47.937Z"
   },
   {
    "duration": 0,
    "start_time": "2023-11-30T12:52:48.119Z"
   },
   {
    "duration": 0,
    "start_time": "2023-11-30T12:52:48.121Z"
   },
   {
    "duration": 5,
    "start_time": "2023-11-30T12:53:28.362Z"
   },
   {
    "duration": 30,
    "start_time": "2023-11-30T12:53:46.681Z"
   },
   {
    "duration": 9,
    "start_time": "2023-11-30T12:53:59.453Z"
   },
   {
    "duration": 13,
    "start_time": "2023-11-30T12:54:06.018Z"
   },
   {
    "duration": 8309,
    "start_time": "2023-11-30T13:14:26.172Z"
   },
   {
    "duration": 106,
    "start_time": "2023-11-30T13:14:34.484Z"
   },
   {
    "duration": 30,
    "start_time": "2023-11-30T13:14:34.592Z"
   },
   {
    "duration": 27,
    "start_time": "2023-11-30T13:14:34.623Z"
   },
   {
    "duration": 28,
    "start_time": "2023-11-30T13:14:34.652Z"
   },
   {
    "duration": 12,
    "start_time": "2023-11-30T13:14:34.681Z"
   },
   {
    "duration": 8,
    "start_time": "2023-11-30T13:14:34.695Z"
   },
   {
    "duration": 26,
    "start_time": "2023-11-30T13:14:34.705Z"
   },
   {
    "duration": 47,
    "start_time": "2023-11-30T13:14:34.734Z"
   },
   {
    "duration": 13,
    "start_time": "2023-11-30T13:14:34.783Z"
   },
   {
    "duration": 24,
    "start_time": "2023-11-30T13:14:34.798Z"
   },
   {
    "duration": 20,
    "start_time": "2023-11-30T13:14:34.824Z"
   },
   {
    "duration": 9,
    "start_time": "2023-11-30T13:14:34.846Z"
   },
   {
    "duration": 3,
    "start_time": "2023-11-30T13:14:34.872Z"
   },
   {
    "duration": 25,
    "start_time": "2023-11-30T13:14:34.877Z"
   },
   {
    "duration": 16,
    "start_time": "2023-11-30T13:14:34.904Z"
   },
   {
    "duration": 104,
    "start_time": "2023-11-30T13:14:34.922Z"
   },
   {
    "duration": 9,
    "start_time": "2023-11-30T13:14:35.028Z"
   },
   {
    "duration": 29,
    "start_time": "2023-11-30T13:14:35.038Z"
   },
   {
    "duration": 7,
    "start_time": "2023-11-30T13:14:35.068Z"
   },
   {
    "duration": 31,
    "start_time": "2023-11-30T13:14:35.077Z"
   },
   {
    "duration": 6,
    "start_time": "2023-11-30T13:14:35.110Z"
   },
   {
    "duration": 4415,
    "start_time": "2023-11-30T13:14:35.118Z"
   },
   {
    "duration": 26,
    "start_time": "2023-11-30T13:14:39.535Z"
   },
   {
    "duration": 5,
    "start_time": "2023-11-30T13:14:39.574Z"
   },
   {
    "duration": 25,
    "start_time": "2023-11-30T13:14:39.581Z"
   },
   {
    "duration": 67,
    "start_time": "2023-11-30T13:14:39.608Z"
   },
   {
    "duration": 16,
    "start_time": "2023-11-30T13:14:39.677Z"
   },
   {
    "duration": 24758,
    "start_time": "2023-11-30T13:14:39.695Z"
   },
   {
    "duration": 20244,
    "start_time": "2023-11-30T13:15:04.455Z"
   },
   {
    "duration": 17,
    "start_time": "2023-11-30T13:15:24.701Z"
   },
   {
    "duration": 13,
    "start_time": "2023-11-30T13:15:24.720Z"
   },
   {
    "duration": 8004,
    "start_time": "2023-11-30T13:19:08.856Z"
   },
   {
    "duration": 107,
    "start_time": "2023-11-30T13:19:16.863Z"
   },
   {
    "duration": 30,
    "start_time": "2023-11-30T13:19:16.972Z"
   },
   {
    "duration": 31,
    "start_time": "2023-11-30T13:19:17.004Z"
   },
   {
    "duration": 46,
    "start_time": "2023-11-30T13:19:17.038Z"
   },
   {
    "duration": 12,
    "start_time": "2023-11-30T13:19:17.087Z"
   },
   {
    "duration": 5,
    "start_time": "2023-11-30T13:19:17.101Z"
   },
   {
    "duration": 20,
    "start_time": "2023-11-30T13:19:17.108Z"
   },
   {
    "duration": 17,
    "start_time": "2023-11-30T13:19:17.130Z"
   },
   {
    "duration": 12,
    "start_time": "2023-11-30T13:19:17.173Z"
   },
   {
    "duration": 18,
    "start_time": "2023-11-30T13:19:17.186Z"
   },
   {
    "duration": 25,
    "start_time": "2023-11-30T13:19:17.206Z"
   },
   {
    "duration": 5,
    "start_time": "2023-11-30T13:19:17.233Z"
   },
   {
    "duration": 3,
    "start_time": "2023-11-30T13:19:17.242Z"
   },
   {
    "duration": 46,
    "start_time": "2023-11-30T13:19:17.246Z"
   },
   {
    "duration": 2184,
    "start_time": "2023-11-30T13:19:17.294Z"
   },
   {
    "duration": 0,
    "start_time": "2023-11-30T13:19:19.480Z"
   },
   {
    "duration": 0,
    "start_time": "2023-11-30T13:19:19.481Z"
   },
   {
    "duration": 0,
    "start_time": "2023-11-30T13:19:19.482Z"
   },
   {
    "duration": 0,
    "start_time": "2023-11-30T13:19:19.483Z"
   },
   {
    "duration": 0,
    "start_time": "2023-11-30T13:19:19.485Z"
   },
   {
    "duration": 1,
    "start_time": "2023-11-30T13:19:19.485Z"
   },
   {
    "duration": 0,
    "start_time": "2023-11-30T13:19:19.487Z"
   },
   {
    "duration": 0,
    "start_time": "2023-11-30T13:19:19.488Z"
   },
   {
    "duration": 0,
    "start_time": "2023-11-30T13:19:19.489Z"
   },
   {
    "duration": 0,
    "start_time": "2023-11-30T13:19:19.490Z"
   },
   {
    "duration": 0,
    "start_time": "2023-11-30T13:19:19.491Z"
   },
   {
    "duration": 0,
    "start_time": "2023-11-30T13:19:19.493Z"
   },
   {
    "duration": 0,
    "start_time": "2023-11-30T13:19:19.494Z"
   },
   {
    "duration": 0,
    "start_time": "2023-11-30T13:19:19.495Z"
   },
   {
    "duration": 0,
    "start_time": "2023-11-30T13:19:19.496Z"
   },
   {
    "duration": 0,
    "start_time": "2023-11-30T13:19:19.497Z"
   },
   {
    "duration": 14,
    "start_time": "2023-11-30T13:21:31.288Z"
   },
   {
    "duration": 7969,
    "start_time": "2023-11-30T13:21:44.550Z"
   },
   {
    "duration": 105,
    "start_time": "2023-11-30T13:21:52.521Z"
   },
   {
    "duration": 29,
    "start_time": "2023-11-30T13:21:52.628Z"
   },
   {
    "duration": 51,
    "start_time": "2023-11-30T13:21:52.658Z"
   },
   {
    "duration": 18,
    "start_time": "2023-11-30T13:21:52.711Z"
   },
   {
    "duration": 13,
    "start_time": "2023-11-30T13:21:52.731Z"
   },
   {
    "duration": 12,
    "start_time": "2023-11-30T13:21:52.746Z"
   },
   {
    "duration": 29,
    "start_time": "2023-11-30T13:21:52.760Z"
   },
   {
    "duration": 18,
    "start_time": "2023-11-30T13:21:52.791Z"
   },
   {
    "duration": 13,
    "start_time": "2023-11-30T13:21:52.810Z"
   },
   {
    "duration": 26,
    "start_time": "2023-11-30T13:21:52.825Z"
   },
   {
    "duration": 28,
    "start_time": "2023-11-30T13:21:52.853Z"
   },
   {
    "duration": 5,
    "start_time": "2023-11-30T13:21:52.883Z"
   },
   {
    "duration": 4,
    "start_time": "2023-11-30T13:21:52.892Z"
   },
   {
    "duration": 23,
    "start_time": "2023-11-30T13:21:52.898Z"
   },
   {
    "duration": 16,
    "start_time": "2023-11-30T13:21:52.923Z"
   },
   {
    "duration": 77,
    "start_time": "2023-11-30T13:21:52.940Z"
   },
   {
    "duration": 7,
    "start_time": "2023-11-30T13:21:53.019Z"
   },
   {
    "duration": 17,
    "start_time": "2023-11-30T13:21:53.028Z"
   },
   {
    "duration": 27,
    "start_time": "2023-11-30T13:21:53.046Z"
   },
   {
    "duration": 15,
    "start_time": "2023-11-30T13:21:53.075Z"
   },
   {
    "duration": 6,
    "start_time": "2023-11-30T13:21:53.092Z"
   },
   {
    "duration": 4225,
    "start_time": "2023-11-30T13:21:53.099Z"
   },
   {
    "duration": 26,
    "start_time": "2023-11-30T13:21:57.326Z"
   },
   {
    "duration": 20,
    "start_time": "2023-11-30T13:21:57.353Z"
   },
   {
    "duration": 9,
    "start_time": "2023-11-30T13:21:57.375Z"
   },
   {
    "duration": 41,
    "start_time": "2023-11-30T13:21:57.386Z"
   },
   {
    "duration": 10,
    "start_time": "2023-11-30T13:21:57.429Z"
   },
   {
    "duration": 21980,
    "start_time": "2023-11-30T13:21:57.441Z"
   },
   {
    "duration": 19615,
    "start_time": "2023-11-30T13:22:19.422Z"
   },
   {
    "duration": 15,
    "start_time": "2023-11-30T13:22:39.039Z"
   },
   {
    "duration": 62,
    "start_time": "2023-11-30T13:22:39.055Z"
   },
   {
    "duration": 14,
    "start_time": "2023-11-30T13:23:31.455Z"
   },
   {
    "duration": 16,
    "start_time": "2023-11-30T13:23:44.447Z"
   },
   {
    "duration": 77548,
    "start_time": "2023-11-30T13:24:16.511Z"
   },
   {
    "duration": 19620,
    "start_time": "2023-11-30T13:25:41.831Z"
   },
   {
    "duration": 21,
    "start_time": "2023-11-30T13:26:01.453Z"
   },
   {
    "duration": 206513,
    "start_time": "2023-11-30T13:26:31.604Z"
   },
   {
    "duration": 19965,
    "start_time": "2023-11-30T13:29:58.119Z"
   },
   {
    "duration": 19,
    "start_time": "2023-11-30T13:30:18.085Z"
   },
   {
    "duration": 11,
    "start_time": "2023-11-30T13:30:18.106Z"
   },
   {
    "duration": 17,
    "start_time": "2023-11-30T13:30:30.779Z"
   },
   {
    "duration": 8289,
    "start_time": "2023-11-30T13:31:55.726Z"
   },
   {
    "duration": 104,
    "start_time": "2023-11-30T13:32:04.018Z"
   },
   {
    "duration": 29,
    "start_time": "2023-11-30T13:32:04.124Z"
   },
   {
    "duration": 25,
    "start_time": "2023-11-30T13:32:04.155Z"
   },
   {
    "duration": 24,
    "start_time": "2023-11-30T13:32:04.181Z"
   },
   {
    "duration": 10,
    "start_time": "2023-11-30T13:32:04.206Z"
   },
   {
    "duration": 6,
    "start_time": "2023-11-30T13:32:04.217Z"
   },
   {
    "duration": 22,
    "start_time": "2023-11-30T13:32:04.224Z"
   },
   {
    "duration": 29,
    "start_time": "2023-11-30T13:32:04.248Z"
   },
   {
    "duration": 11,
    "start_time": "2023-11-30T13:32:04.280Z"
   },
   {
    "duration": 10,
    "start_time": "2023-11-30T13:32:04.293Z"
   },
   {
    "duration": 24,
    "start_time": "2023-11-30T13:32:04.304Z"
   },
   {
    "duration": 4,
    "start_time": "2023-11-30T13:32:04.330Z"
   },
   {
    "duration": 4,
    "start_time": "2023-11-30T13:32:04.336Z"
   },
   {
    "duration": 51,
    "start_time": "2023-11-30T13:32:04.342Z"
   },
   {
    "duration": 14,
    "start_time": "2023-11-30T13:32:04.394Z"
   },
   {
    "duration": 70,
    "start_time": "2023-11-30T13:32:04.410Z"
   },
   {
    "duration": 6,
    "start_time": "2023-11-30T13:32:04.482Z"
   },
   {
    "duration": 28,
    "start_time": "2023-11-30T13:32:04.490Z"
   },
   {
    "duration": 3,
    "start_time": "2023-11-30T13:32:04.520Z"
   },
   {
    "duration": 17,
    "start_time": "2023-11-30T13:32:04.525Z"
   },
   {
    "duration": 9,
    "start_time": "2023-11-30T13:32:04.544Z"
   },
   {
    "duration": 4288,
    "start_time": "2023-11-30T13:32:04.554Z"
   },
   {
    "duration": 36,
    "start_time": "2023-11-30T13:32:08.843Z"
   },
   {
    "duration": 6,
    "start_time": "2023-11-30T13:32:08.881Z"
   },
   {
    "duration": 11,
    "start_time": "2023-11-30T13:32:08.889Z"
   },
   {
    "duration": 37,
    "start_time": "2023-11-30T13:32:08.902Z"
   },
   {
    "duration": 10,
    "start_time": "2023-11-30T13:32:08.942Z"
   },
   {
    "duration": 252607,
    "start_time": "2023-11-30T13:32:08.953Z"
   },
   {
    "duration": 19567,
    "start_time": "2023-11-30T13:36:21.561Z"
   },
   {
    "duration": 16,
    "start_time": "2023-11-30T13:36:41.130Z"
   },
   {
    "duration": 9,
    "start_time": "2023-11-30T13:36:41.148Z"
   },
   {
    "duration": 217,
    "start_time": "2023-11-30T13:44:33.392Z"
   },
   {
    "duration": 8181,
    "start_time": "2023-11-30T13:45:01.457Z"
   },
   {
    "duration": 110,
    "start_time": "2023-11-30T13:45:09.641Z"
   },
   {
    "duration": 30,
    "start_time": "2023-11-30T13:45:09.753Z"
   },
   {
    "duration": 25,
    "start_time": "2023-11-30T13:45:09.785Z"
   },
   {
    "duration": 19,
    "start_time": "2023-11-30T13:45:09.813Z"
   },
   {
    "duration": 10,
    "start_time": "2023-11-30T13:45:09.833Z"
   },
   {
    "duration": 28,
    "start_time": "2023-11-30T13:45:09.845Z"
   },
   {
    "duration": 23,
    "start_time": "2023-11-30T13:45:09.875Z"
   },
   {
    "duration": 19,
    "start_time": "2023-11-30T13:45:09.900Z"
   },
   {
    "duration": 13,
    "start_time": "2023-11-30T13:45:09.921Z"
   },
   {
    "duration": 47,
    "start_time": "2023-11-30T13:45:09.936Z"
   },
   {
    "duration": 20,
    "start_time": "2023-11-30T13:45:09.985Z"
   },
   {
    "duration": 5,
    "start_time": "2023-11-30T13:45:10.007Z"
   },
   {
    "duration": 29,
    "start_time": "2023-11-30T13:45:10.016Z"
   },
   {
    "duration": 54,
    "start_time": "2023-11-30T13:45:10.046Z"
   },
   {
    "duration": 16,
    "start_time": "2023-11-30T13:45:10.101Z"
   },
   {
    "duration": 63,
    "start_time": "2023-11-30T13:45:10.119Z"
   },
   {
    "duration": 8,
    "start_time": "2023-11-30T13:45:10.184Z"
   },
   {
    "duration": 18,
    "start_time": "2023-11-30T13:45:10.194Z"
   },
   {
    "duration": 5,
    "start_time": "2023-11-30T13:45:10.214Z"
   },
   {
    "duration": 23,
    "start_time": "2023-11-30T13:45:10.220Z"
   },
   {
    "duration": 30,
    "start_time": "2023-11-30T13:45:10.244Z"
   },
   {
    "duration": 4428,
    "start_time": "2023-11-30T13:45:10.275Z"
   },
   {
    "duration": 26,
    "start_time": "2023-11-30T13:45:14.705Z"
   },
   {
    "duration": 4,
    "start_time": "2023-11-30T13:45:14.733Z"
   },
   {
    "duration": 12,
    "start_time": "2023-11-30T13:45:14.738Z"
   },
   {
    "duration": 50,
    "start_time": "2023-11-30T13:45:14.752Z"
   },
   {
    "duration": 11,
    "start_time": "2023-11-30T13:45:14.803Z"
   },
   {
    "duration": 271879,
    "start_time": "2023-11-30T13:45:14.816Z"
   },
   {
    "duration": 20448,
    "start_time": "2023-11-30T13:49:46.696Z"
   },
   {
    "duration": 16,
    "start_time": "2023-11-30T13:50:07.145Z"
   },
   {
    "duration": 10,
    "start_time": "2023-11-30T13:50:07.173Z"
   },
   {
    "duration": 16,
    "start_time": "2023-11-30T13:51:16.673Z"
   },
   {
    "duration": 13660,
    "start_time": "2023-11-30T13:59:56.087Z"
   },
   {
    "duration": 111,
    "start_time": "2023-11-30T14:00:09.750Z"
   },
   {
    "duration": 31,
    "start_time": "2023-11-30T14:00:09.862Z"
   },
   {
    "duration": 29,
    "start_time": "2023-11-30T14:00:09.895Z"
   },
   {
    "duration": 18,
    "start_time": "2023-11-30T14:00:09.927Z"
   },
   {
    "duration": 18,
    "start_time": "2023-11-30T14:00:09.947Z"
   },
   {
    "duration": 34,
    "start_time": "2023-11-30T14:00:09.967Z"
   },
   {
    "duration": 70,
    "start_time": "2023-11-30T14:00:10.002Z"
   },
   {
    "duration": 24,
    "start_time": "2023-11-30T14:00:10.075Z"
   },
   {
    "duration": 13,
    "start_time": "2023-11-30T14:00:10.100Z"
   },
   {
    "duration": 36,
    "start_time": "2023-11-30T14:00:10.115Z"
   },
   {
    "duration": 47,
    "start_time": "2023-11-30T14:00:10.153Z"
   },
   {
    "duration": 4,
    "start_time": "2023-11-30T14:00:10.203Z"
   },
   {
    "duration": 10,
    "start_time": "2023-11-30T14:00:10.210Z"
   },
   {
    "duration": 43,
    "start_time": "2023-11-30T14:00:10.221Z"
   },
   {
    "duration": 22,
    "start_time": "2023-11-30T14:00:10.266Z"
   },
   {
    "duration": 61,
    "start_time": "2023-11-30T14:00:10.290Z"
   },
   {
    "duration": 7,
    "start_time": "2023-11-30T14:00:10.352Z"
   },
   {
    "duration": 25,
    "start_time": "2023-11-30T14:00:10.361Z"
   },
   {
    "duration": 5,
    "start_time": "2023-11-30T14:00:10.387Z"
   },
   {
    "duration": 48,
    "start_time": "2023-11-30T14:00:10.394Z"
   },
   {
    "duration": 43,
    "start_time": "2023-11-30T14:00:10.444Z"
   },
   {
    "duration": 4392,
    "start_time": "2023-11-30T14:00:10.489Z"
   },
   {
    "duration": 26,
    "start_time": "2023-11-30T14:00:14.883Z"
   },
   {
    "duration": 5,
    "start_time": "2023-11-30T14:00:14.910Z"
   },
   {
    "duration": 12,
    "start_time": "2023-11-30T14:00:14.917Z"
   },
   {
    "duration": 57,
    "start_time": "2023-11-30T14:00:14.931Z"
   },
   {
    "duration": 11,
    "start_time": "2023-11-30T14:00:14.990Z"
   },
   {
    "duration": 271010,
    "start_time": "2023-11-30T14:00:15.002Z"
   },
   {
    "duration": 20385,
    "start_time": "2023-11-30T14:04:46.014Z"
   },
   {
    "duration": 16,
    "start_time": "2023-11-30T14:05:06.401Z"
   },
   {
    "duration": 19,
    "start_time": "2023-11-30T14:05:06.419Z"
   },
   {
    "duration": 8413,
    "start_time": "2023-11-30T14:13:41.305Z"
   },
   {
    "duration": 108,
    "start_time": "2023-11-30T14:13:49.720Z"
   },
   {
    "duration": 30,
    "start_time": "2023-11-30T14:13:49.830Z"
   },
   {
    "duration": 30,
    "start_time": "2023-11-30T14:13:49.862Z"
   },
   {
    "duration": 18,
    "start_time": "2023-11-30T14:13:49.895Z"
   },
   {
    "duration": 12,
    "start_time": "2023-11-30T14:13:49.915Z"
   },
   {
    "duration": 7,
    "start_time": "2023-11-30T14:13:49.928Z"
   },
   {
    "duration": 51,
    "start_time": "2023-11-30T14:13:49.937Z"
   },
   {
    "duration": 18,
    "start_time": "2023-11-30T14:13:49.990Z"
   },
   {
    "duration": 13,
    "start_time": "2023-11-30T14:13:50.011Z"
   },
   {
    "duration": 24,
    "start_time": "2023-11-30T14:13:50.026Z"
   },
   {
    "duration": 36,
    "start_time": "2023-11-30T14:13:50.052Z"
   },
   {
    "duration": 5,
    "start_time": "2023-11-30T14:13:50.090Z"
   },
   {
    "duration": 4,
    "start_time": "2023-11-30T14:13:50.099Z"
   },
   {
    "duration": 41,
    "start_time": "2023-11-30T14:13:50.106Z"
   },
   {
    "duration": 37,
    "start_time": "2023-11-30T14:13:50.149Z"
   },
   {
    "duration": 62,
    "start_time": "2023-11-30T14:13:50.188Z"
   },
   {
    "duration": 7,
    "start_time": "2023-11-30T14:13:50.252Z"
   },
   {
    "duration": 23,
    "start_time": "2023-11-30T14:13:50.261Z"
   },
   {
    "duration": 5,
    "start_time": "2023-11-30T14:13:50.285Z"
   },
   {
    "duration": 22,
    "start_time": "2023-11-30T14:13:50.292Z"
   },
   {
    "duration": 9,
    "start_time": "2023-11-30T14:13:50.316Z"
   },
   {
    "duration": 4460,
    "start_time": "2023-11-30T14:13:50.327Z"
   },
   {
    "duration": 26,
    "start_time": "2023-11-30T14:13:54.788Z"
   },
   {
    "duration": 4,
    "start_time": "2023-11-30T14:13:54.816Z"
   },
   {
    "duration": 14,
    "start_time": "2023-11-30T14:13:54.822Z"
   },
   {
    "duration": 56,
    "start_time": "2023-11-30T14:13:54.837Z"
   },
   {
    "duration": 11,
    "start_time": "2023-11-30T14:13:54.895Z"
   },
   {
    "duration": 8299,
    "start_time": "2023-11-30T14:21:41.488Z"
   },
   {
    "duration": 109,
    "start_time": "2023-11-30T14:21:49.789Z"
   },
   {
    "duration": 32,
    "start_time": "2023-11-30T14:21:49.900Z"
   },
   {
    "duration": 28,
    "start_time": "2023-11-30T14:21:49.934Z"
   },
   {
    "duration": 25,
    "start_time": "2023-11-30T14:21:49.964Z"
   },
   {
    "duration": 10,
    "start_time": "2023-11-30T14:21:49.990Z"
   },
   {
    "duration": 26,
    "start_time": "2023-11-30T14:21:50.001Z"
   },
   {
    "duration": 61,
    "start_time": "2023-11-30T14:21:50.028Z"
   },
   {
    "duration": 26,
    "start_time": "2023-11-30T14:21:50.093Z"
   },
   {
    "duration": 13,
    "start_time": "2023-11-30T14:21:50.121Z"
   },
   {
    "duration": 15,
    "start_time": "2023-11-30T14:21:50.136Z"
   },
   {
    "duration": 36,
    "start_time": "2023-11-30T14:21:50.153Z"
   },
   {
    "duration": 6,
    "start_time": "2023-11-30T14:21:50.190Z"
   },
   {
    "duration": 15,
    "start_time": "2023-11-30T14:21:50.197Z"
   },
   {
    "duration": 26,
    "start_time": "2023-11-30T14:21:50.214Z"
   },
   {
    "duration": 15,
    "start_time": "2023-11-30T14:21:50.242Z"
   },
   {
    "duration": 65,
    "start_time": "2023-11-30T14:21:50.259Z"
   },
   {
    "duration": 7,
    "start_time": "2023-11-30T14:21:50.326Z"
   },
   {
    "duration": 38,
    "start_time": "2023-11-30T14:21:50.335Z"
   },
   {
    "duration": 20,
    "start_time": "2023-11-30T14:21:50.374Z"
   },
   {
    "duration": 31,
    "start_time": "2023-11-30T14:21:50.396Z"
   },
   {
    "duration": 19,
    "start_time": "2023-11-30T14:21:50.429Z"
   },
   {
    "duration": 4404,
    "start_time": "2023-11-30T14:21:50.450Z"
   },
   {
    "duration": 35,
    "start_time": "2023-11-30T14:21:54.855Z"
   },
   {
    "duration": 4,
    "start_time": "2023-11-30T14:21:54.891Z"
   },
   {
    "duration": 13,
    "start_time": "2023-11-30T14:21:54.897Z"
   },
   {
    "duration": 40,
    "start_time": "2023-11-30T14:21:54.912Z"
   },
   {
    "duration": 25,
    "start_time": "2023-11-30T14:21:54.955Z"
   },
   {
    "duration": 294532,
    "start_time": "2023-11-30T14:21:54.982Z"
   },
   {
    "duration": 20553,
    "start_time": "2023-11-30T14:26:49.516Z"
   },
   {
    "duration": 17,
    "start_time": "2023-11-30T14:27:10.073Z"
   },
   {
    "duration": 14,
    "start_time": "2023-11-30T14:27:10.093Z"
   },
   {
    "duration": 14378,
    "start_time": "2023-12-01T05:40:34.227Z"
   },
   {
    "duration": 314,
    "start_time": "2023-12-01T05:40:52.167Z"
   },
   {
    "duration": 8518,
    "start_time": "2023-12-01T07:10:04.262Z"
   },
   {
    "duration": 316,
    "start_time": "2023-12-01T07:10:12.782Z"
   },
   {
    "duration": 28,
    "start_time": "2023-12-01T07:10:13.100Z"
   },
   {
    "duration": 23,
    "start_time": "2023-12-01T07:10:13.130Z"
   },
   {
    "duration": 18,
    "start_time": "2023-12-01T07:10:13.155Z"
   },
   {
    "duration": 46,
    "start_time": "2023-12-01T07:10:13.175Z"
   },
   {
    "duration": 34,
    "start_time": "2023-12-01T07:10:13.223Z"
   },
   {
    "duration": 32,
    "start_time": "2023-12-01T07:10:13.258Z"
   },
   {
    "duration": 26,
    "start_time": "2023-12-01T07:10:13.291Z"
   },
   {
    "duration": 52,
    "start_time": "2023-12-01T07:10:13.320Z"
   },
   {
    "duration": 10,
    "start_time": "2023-12-01T07:10:13.374Z"
   },
   {
    "duration": 59,
    "start_time": "2023-12-01T07:10:13.385Z"
   },
   {
    "duration": 4,
    "start_time": "2023-12-01T07:10:13.445Z"
   },
   {
    "duration": 7,
    "start_time": "2023-12-01T07:10:13.450Z"
   },
   {
    "duration": 25,
    "start_time": "2023-12-01T07:10:13.458Z"
   },
   {
    "duration": 22,
    "start_time": "2023-12-01T07:10:13.485Z"
   },
   {
    "duration": 69,
    "start_time": "2023-12-01T07:10:13.509Z"
   },
   {
    "duration": 7,
    "start_time": "2023-12-01T07:10:13.579Z"
   },
   {
    "duration": 19,
    "start_time": "2023-12-01T07:10:13.587Z"
   },
   {
    "duration": 5,
    "start_time": "2023-12-01T07:10:13.607Z"
   },
   {
    "duration": 23,
    "start_time": "2023-12-01T07:10:13.613Z"
   },
   {
    "duration": 6,
    "start_time": "2023-12-01T07:10:13.637Z"
   },
   {
    "duration": 3855,
    "start_time": "2023-12-01T07:10:13.644Z"
   },
   {
    "duration": 1034,
    "start_time": "2023-12-01T07:10:17.501Z"
   },
   {
    "duration": 5,
    "start_time": "2023-12-01T07:10:18.537Z"
   },
   {
    "duration": 25,
    "start_time": "2023-12-01T07:10:18.544Z"
   },
   {
    "duration": 156,
    "start_time": "2023-12-01T07:10:18.571Z"
   },
   {
    "duration": 0,
    "start_time": "2023-12-01T07:10:18.729Z"
   },
   {
    "duration": 0,
    "start_time": "2023-12-01T07:10:18.730Z"
   },
   {
    "duration": 0,
    "start_time": "2023-12-01T07:10:18.731Z"
   },
   {
    "duration": 0,
    "start_time": "2023-12-01T07:10:18.732Z"
   },
   {
    "duration": 0,
    "start_time": "2023-12-01T07:10:18.742Z"
   },
   {
    "duration": 23,
    "start_time": "2023-12-01T07:15:50.039Z"
   },
   {
    "duration": 7647,
    "start_time": "2023-12-01T07:16:00.953Z"
   },
   {
    "duration": 103,
    "start_time": "2023-12-01T07:16:08.602Z"
   },
   {
    "duration": 26,
    "start_time": "2023-12-01T07:16:08.706Z"
   },
   {
    "duration": 24,
    "start_time": "2023-12-01T07:16:08.733Z"
   },
   {
    "duration": 16,
    "start_time": "2023-12-01T07:16:08.759Z"
   },
   {
    "duration": 9,
    "start_time": "2023-12-01T07:16:08.776Z"
   },
   {
    "duration": 5,
    "start_time": "2023-12-01T07:16:08.786Z"
   },
   {
    "duration": 25,
    "start_time": "2023-12-01T07:16:08.793Z"
   },
   {
    "duration": 32,
    "start_time": "2023-12-01T07:16:08.819Z"
   },
   {
    "duration": 11,
    "start_time": "2023-12-01T07:16:08.852Z"
   },
   {
    "duration": 14,
    "start_time": "2023-12-01T07:16:08.864Z"
   },
   {
    "duration": 18,
    "start_time": "2023-12-01T07:16:08.879Z"
   },
   {
    "duration": 5,
    "start_time": "2023-12-01T07:16:08.899Z"
   },
   {
    "duration": 3,
    "start_time": "2023-12-01T07:16:08.908Z"
   },
   {
    "duration": 57,
    "start_time": "2023-12-01T07:16:08.913Z"
   },
   {
    "duration": 16,
    "start_time": "2023-12-01T07:16:08.972Z"
   },
   {
    "duration": 74,
    "start_time": "2023-12-01T07:16:08.992Z"
   },
   {
    "duration": 6,
    "start_time": "2023-12-01T07:16:09.068Z"
   },
   {
    "duration": 24,
    "start_time": "2023-12-01T07:16:09.076Z"
   },
   {
    "duration": 5,
    "start_time": "2023-12-01T07:16:09.102Z"
   },
   {
    "duration": 14,
    "start_time": "2023-12-01T07:16:09.108Z"
   },
   {
    "duration": 26,
    "start_time": "2023-12-01T07:16:09.123Z"
   },
   {
    "duration": 4155,
    "start_time": "2023-12-01T07:16:09.151Z"
   },
   {
    "duration": 1121,
    "start_time": "2023-12-01T07:16:13.308Z"
   },
   {
    "duration": 5,
    "start_time": "2023-12-01T07:16:14.430Z"
   },
   {
    "duration": 27,
    "start_time": "2023-12-01T07:16:14.443Z"
   },
   {
    "duration": 34,
    "start_time": "2023-12-01T07:16:14.471Z"
   },
   {
    "duration": 12,
    "start_time": "2023-12-01T07:16:14.506Z"
   },
   {
    "duration": 265364,
    "start_time": "2023-12-01T07:16:14.520Z"
   },
   {
    "duration": 18635,
    "start_time": "2023-12-01T07:20:39.886Z"
   },
   {
    "duration": 6,
    "start_time": "2023-12-01T07:20:58.523Z"
   },
   {
    "duration": 18,
    "start_time": "2023-12-01T07:20:58.530Z"
   },
   {
    "duration": 9014,
    "start_time": "2023-12-01T14:02:06.187Z"
   },
   {
    "duration": 314,
    "start_time": "2023-12-01T14:02:15.203Z"
   },
   {
    "duration": 27,
    "start_time": "2023-12-01T14:02:15.519Z"
   },
   {
    "duration": 23,
    "start_time": "2023-12-01T14:02:15.548Z"
   },
   {
    "duration": 18,
    "start_time": "2023-12-01T14:02:15.573Z"
   },
   {
    "duration": 9,
    "start_time": "2023-12-01T14:02:15.593Z"
   },
   {
    "duration": 11,
    "start_time": "2023-12-01T14:02:15.603Z"
   },
   {
    "duration": 41,
    "start_time": "2023-12-01T14:02:15.616Z"
   },
   {
    "duration": 18,
    "start_time": "2023-12-01T14:02:15.659Z"
   },
   {
    "duration": 12,
    "start_time": "2023-12-01T14:02:15.681Z"
   },
   {
    "duration": 10,
    "start_time": "2023-12-01T14:02:15.694Z"
   },
   {
    "duration": 53,
    "start_time": "2023-12-01T14:02:15.706Z"
   },
   {
    "duration": 5,
    "start_time": "2023-12-01T14:02:15.761Z"
   },
   {
    "duration": 5,
    "start_time": "2023-12-01T14:02:15.767Z"
   },
   {
    "duration": 28,
    "start_time": "2023-12-01T14:02:15.773Z"
   },
   {
    "duration": 44,
    "start_time": "2023-12-01T14:02:15.803Z"
   },
   {
    "duration": 53,
    "start_time": "2023-12-01T14:02:15.848Z"
   },
   {
    "duration": 10,
    "start_time": "2023-12-01T14:02:15.903Z"
   },
   {
    "duration": 28,
    "start_time": "2023-12-01T14:02:15.914Z"
   },
   {
    "duration": 5,
    "start_time": "2023-12-01T14:02:15.944Z"
   },
   {
    "duration": 14,
    "start_time": "2023-12-01T14:02:15.950Z"
   },
   {
    "duration": 14,
    "start_time": "2023-12-01T14:02:15.966Z"
   },
   {
    "duration": 4232,
    "start_time": "2023-12-01T14:02:15.982Z"
   },
   {
    "duration": 1150,
    "start_time": "2023-12-01T14:02:20.216Z"
   },
   {
    "duration": 6,
    "start_time": "2023-12-01T14:02:21.368Z"
   },
   {
    "duration": 40,
    "start_time": "2023-12-01T14:02:21.376Z"
   },
   {
    "duration": 27,
    "start_time": "2023-12-01T14:02:21.417Z"
   },
   {
    "duration": 186,
    "start_time": "2023-12-01T14:02:21.448Z"
   },
   {
    "duration": 0,
    "start_time": "2023-12-01T14:02:21.642Z"
   },
   {
    "duration": 0,
    "start_time": "2023-12-01T14:02:21.643Z"
   },
   {
    "duration": 0,
    "start_time": "2023-12-01T14:02:21.645Z"
   },
   {
    "duration": 0,
    "start_time": "2023-12-01T14:02:21.646Z"
   },
   {
    "duration": 7446,
    "start_time": "2023-12-01T14:03:47.421Z"
   },
   {
    "duration": 101,
    "start_time": "2023-12-01T14:03:54.869Z"
   },
   {
    "duration": 28,
    "start_time": "2023-12-01T14:03:54.971Z"
   },
   {
    "duration": 22,
    "start_time": "2023-12-01T14:03:55.000Z"
   },
   {
    "duration": 24,
    "start_time": "2023-12-01T14:03:55.024Z"
   },
   {
    "duration": 25,
    "start_time": "2023-12-01T14:03:55.049Z"
   },
   {
    "duration": 18,
    "start_time": "2023-12-01T14:03:55.076Z"
   },
   {
    "duration": 21,
    "start_time": "2023-12-01T14:03:55.096Z"
   },
   {
    "duration": 16,
    "start_time": "2023-12-01T14:03:55.119Z"
   },
   {
    "duration": 13,
    "start_time": "2023-12-01T14:03:55.137Z"
   },
   {
    "duration": 17,
    "start_time": "2023-12-01T14:03:55.152Z"
   },
   {
    "duration": 24,
    "start_time": "2023-12-01T14:03:55.170Z"
   },
   {
    "duration": 5,
    "start_time": "2023-12-01T14:03:55.195Z"
   },
   {
    "duration": 10,
    "start_time": "2023-12-01T14:03:55.203Z"
   },
   {
    "duration": 35,
    "start_time": "2023-12-01T14:03:55.215Z"
   },
   {
    "duration": 40,
    "start_time": "2023-12-01T14:03:55.251Z"
   },
   {
    "duration": 52,
    "start_time": "2023-12-01T14:03:55.292Z"
   },
   {
    "duration": 7,
    "start_time": "2023-12-01T14:03:55.346Z"
   },
   {
    "duration": 29,
    "start_time": "2023-12-01T14:03:55.354Z"
   },
   {
    "duration": 5,
    "start_time": "2023-12-01T14:03:55.385Z"
   },
   {
    "duration": 22,
    "start_time": "2023-12-01T14:03:55.392Z"
   },
   {
    "duration": 15,
    "start_time": "2023-12-01T14:03:55.416Z"
   },
   {
    "duration": 4017,
    "start_time": "2023-12-01T14:03:55.432Z"
   },
   {
    "duration": 1102,
    "start_time": "2023-12-01T14:03:59.451Z"
   },
   {
    "duration": 4,
    "start_time": "2023-12-01T14:04:00.554Z"
   },
   {
    "duration": 30,
    "start_time": "2023-12-01T14:04:00.560Z"
   },
   {
    "duration": 32,
    "start_time": "2023-12-01T14:04:00.591Z"
   },
   {
    "duration": 16,
    "start_time": "2023-12-01T14:04:00.624Z"
   },
   {
    "duration": 266855,
    "start_time": "2023-12-01T14:04:00.642Z"
   },
   {
    "duration": 19023,
    "start_time": "2023-12-01T14:08:27.498Z"
   },
   {
    "duration": 9,
    "start_time": "2023-12-01T14:08:46.523Z"
   },
   {
    "duration": 9,
    "start_time": "2023-12-01T14:08:46.543Z"
   },
   {
    "duration": 8,
    "start_time": "2023-12-01T14:11:08.137Z"
   },
   {
    "duration": 15838,
    "start_time": "2023-12-02T08:16:19.946Z"
   },
   {
    "duration": 312,
    "start_time": "2023-12-02T08:16:39.806Z"
   },
   {
    "duration": 29,
    "start_time": "2023-12-02T08:16:40.946Z"
   },
   {
    "duration": 24,
    "start_time": "2023-12-02T08:16:40.977Z"
   },
   {
    "duration": 21,
    "start_time": "2023-12-02T08:16:41.254Z"
   },
   {
    "duration": 10,
    "start_time": "2023-12-02T08:16:42.347Z"
   },
   {
    "duration": 6,
    "start_time": "2023-12-02T08:16:50.846Z"
   },
   {
    "duration": 21,
    "start_time": "2023-12-02T08:16:52.282Z"
   },
   {
    "duration": 18,
    "start_time": "2023-12-02T08:17:04.066Z"
   },
   {
    "duration": 11,
    "start_time": "2023-12-02T08:17:05.690Z"
   },
   {
    "duration": 10,
    "start_time": "2023-12-02T08:17:09.483Z"
   },
   {
    "duration": 23,
    "start_time": "2023-12-02T08:17:10.544Z"
   },
   {
    "duration": 5,
    "start_time": "2023-12-02T08:17:11.220Z"
   },
   {
    "duration": 3,
    "start_time": "2023-12-02T08:17:14.820Z"
   },
   {
    "duration": 24,
    "start_time": "2023-12-02T08:17:15.372Z"
   },
   {
    "duration": 16,
    "start_time": "2023-12-02T08:17:16.058Z"
   },
   {
    "duration": 52,
    "start_time": "2023-12-02T08:17:19.408Z"
   },
   {
    "duration": 5,
    "start_time": "2023-12-02T08:17:26.206Z"
   },
   {
    "duration": 36,
    "start_time": "2023-12-02T08:17:34.606Z"
   },
   {
    "duration": 6,
    "start_time": "2023-12-02T08:17:42.185Z"
   },
   {
    "duration": 17,
    "start_time": "2023-12-02T08:17:43.187Z"
   },
   {
    "duration": 5,
    "start_time": "2023-12-02T08:17:52.073Z"
   },
   {
    "duration": 22,
    "start_time": "2023-12-02T08:17:53.162Z"
   },
   {
    "duration": 4,
    "start_time": "2023-12-02T08:18:11.676Z"
   },
   {
    "duration": 4245,
    "start_time": "2023-12-02T08:18:13.339Z"
   },
   {
    "duration": 1100,
    "start_time": "2023-12-02T08:18:42.937Z"
   },
   {
    "duration": 5,
    "start_time": "2023-12-02T08:18:54.207Z"
   },
   {
    "duration": 8,
    "start_time": "2023-12-02T08:18:54.896Z"
   },
   {
    "duration": 24,
    "start_time": "2023-12-02T08:19:56.294Z"
   },
   {
    "duration": 19,
    "start_time": "2023-12-02T08:20:07.203Z"
   },
   {
    "duration": 268456,
    "start_time": "2023-12-02T08:20:38.391Z"
   },
   {
    "duration": 25,
    "start_time": "2023-12-02T08:29:45.309Z"
   },
   {
    "duration": 264222,
    "start_time": "2023-12-02T08:30:22.298Z"
   },
   {
    "duration": 262488,
    "start_time": "2023-12-02T08:35:43.297Z"
   }
  ],
  "kernelspec": {
   "display_name": "Python 3 (ipykernel)",
   "language": "python",
   "name": "python3"
  },
  "language_info": {
   "codemirror_mode": {
    "name": "ipython",
    "version": 3
   },
   "file_extension": ".py",
   "mimetype": "text/x-python",
   "name": "python",
   "nbconvert_exporter": "python",
   "pygments_lexer": "ipython3",
   "version": "3.9.5"
  },
  "toc": {
   "base_numbering": 1,
   "nav_menu": {},
   "number_sections": true,
   "sideBar": true,
   "skip_h1_title": true,
   "title_cell": "Table of Contents",
   "title_sidebar": "Contents",
   "toc_cell": false,
   "toc_position": {},
   "toc_section_display": true,
   "toc_window_display": true
  }
 },
 "nbformat": 4,
 "nbformat_minor": 5
}
